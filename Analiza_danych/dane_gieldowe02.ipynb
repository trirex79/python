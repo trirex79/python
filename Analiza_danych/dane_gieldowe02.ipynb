{
  "nbformat": 4,
  "nbformat_minor": 0,
  "metadata": {
    "colab": {
      "name": "dane_gieldowe02.ipynb",
      "provenance": [],
      "collapsed_sections": [],
      "authorship_tag": "ABX9TyPBwbC/JFLg4HB79reA7dkE",
      "include_colab_link": true
    },
    "kernelspec": {
      "name": "python3",
      "display_name": "Python 3"
    },
    "language_info": {
      "name": "python"
    }
  },
  "cells": [
    {
      "cell_type": "markdown",
      "metadata": {
        "id": "view-in-github",
        "colab_type": "text"
      },
      "source": [
        "<a href=\"https://colab.research.google.com/github/trirex79/python/blob/main/Analiza_danych/dane_gieldowe02.ipynb\" target=\"_parent\"><img src=\"https://colab.research.google.com/assets/colab-badge.svg\" alt=\"Open In Colab\"/></a>"
      ]
    },
    {
      "cell_type": "markdown",
      "metadata": {
        "id": "AqYApaPTSKIS"
      },
      "source": [
        "# Import bibliotek"
      ]
    },
    {
      "cell_type": "code",
      "metadata": {
        "id": "UwOYiH_TUnT6"
      },
      "source": [
        ""
      ],
      "execution_count": null,
      "outputs": []
    },
    {
      "cell_type": "code",
      "metadata": {
        "colab": {
          "base_uri": "https://localhost:8080/"
        },
        "id": "l23aIvB3SDQ4",
        "outputId": "693ce4c5-e9fe-4344-9ea3-5cd0bb7d8868"
      },
      "source": [
        "import numpy as np\n",
        "import pandas as pd\n",
        "\n",
        "print(f'Numpy: {np.__version__}')\n",
        "print(f'Pandas: {pd.__version__}')\n"
      ],
      "execution_count": null,
      "outputs": [
        {
          "output_type": "stream",
          "text": [
            "Numpy: 1.19.5\n",
            "Pandas: 1.1.5\n"
          ],
          "name": "stdout"
        }
      ]
    },
    {
      "cell_type": "markdown",
      "metadata": {
        "id": "jvKFuol1SO3X"
      },
      "source": [
        "# Ładowanie danych"
      ]
    },
    {
      "cell_type": "code",
      "metadata": {
        "colab": {
          "base_uri": "https://localhost:8080/"
        },
        "id": "DC_LbV9LSR34",
        "outputId": "8656d8b7-71e2-4595-d7d3-f796cb9e055a"
      },
      "source": [
        "def fetch_financial_data(company='AMZN'):\n",
        "    \"\"\"Pobiera dane dotyczące notowań spółek na giełdzie według symboli\n",
        "    na serwisie stooq.pl\"\"\"\n",
        "    import pandas_datareader.data as web\n",
        "    return web.DataReader(name=company, data_source='stooq')\n",
        "\n",
        "df = fetch_financial_data()\n",
        "df.info()"
      ],
      "execution_count": null,
      "outputs": [
        {
          "output_type": "stream",
          "text": [
            "<class 'pandas.core.frame.DataFrame'>\n",
            "DatetimeIndex: 1257 entries, 2021-08-18 to 2016-08-22\n",
            "Data columns (total 5 columns):\n",
            " #   Column  Non-Null Count  Dtype  \n",
            "---  ------  --------------  -----  \n",
            " 0   Open    1257 non-null   float64\n",
            " 1   High    1257 non-null   float64\n",
            " 2   Low     1257 non-null   float64\n",
            " 3   Close   1257 non-null   float64\n",
            " 4   Volume  1257 non-null   int64  \n",
            "dtypes: float64(4), int64(1)\n",
            "memory usage: 58.9 KB\n"
          ],
          "name": "stdout"
        }
      ]
    },
    {
      "cell_type": "markdown",
      "metadata": {
        "id": "Ty71APQZSrU_"
      },
      "source": [
        "# Zapis i odczyt danych z pliku CSV"
      ]
    },
    {
      "cell_type": "code",
      "metadata": {
        "colab": {
          "base_uri": "https://localhost:8080/",
          "height": 235
        },
        "id": "HDdn9TJfSxcZ",
        "outputId": "b36a5e35-7eeb-4237-bdd5-ebc3df167e0c"
      },
      "source": [
        "df =fetch_financial_data('FB')\n",
        "df.head()"
      ],
      "execution_count": null,
      "outputs": [
        {
          "output_type": "execute_result",
          "data": {
            "text/html": [
              "<div>\n",
              "<style scoped>\n",
              "    .dataframe tbody tr th:only-of-type {\n",
              "        vertical-align: middle;\n",
              "    }\n",
              "\n",
              "    .dataframe tbody tr th {\n",
              "        vertical-align: top;\n",
              "    }\n",
              "\n",
              "    .dataframe thead th {\n",
              "        text-align: right;\n",
              "    }\n",
              "</style>\n",
              "<table border=\"1\" class=\"dataframe\">\n",
              "  <thead>\n",
              "    <tr style=\"text-align: right;\">\n",
              "      <th></th>\n",
              "      <th>Open</th>\n",
              "      <th>High</th>\n",
              "      <th>Low</th>\n",
              "      <th>Close</th>\n",
              "      <th>Volume</th>\n",
              "    </tr>\n",
              "    <tr>\n",
              "      <th>Date</th>\n",
              "      <th></th>\n",
              "      <th></th>\n",
              "      <th></th>\n",
              "      <th></th>\n",
              "      <th></th>\n",
              "    </tr>\n",
              "  </thead>\n",
              "  <tbody>\n",
              "    <tr>\n",
              "      <th>2021-08-18</th>\n",
              "      <td>356.25</td>\n",
              "      <td>359.8600</td>\n",
              "      <td>355.15</td>\n",
              "      <td>355.45</td>\n",
              "      <td>10042381</td>\n",
              "    </tr>\n",
              "    <tr>\n",
              "      <th>2021-08-17</th>\n",
              "      <td>362.98</td>\n",
              "      <td>364.6700</td>\n",
              "      <td>355.07</td>\n",
              "      <td>358.45</td>\n",
              "      <td>12328737</td>\n",
              "    </tr>\n",
              "    <tr>\n",
              "      <th>2021-08-16</th>\n",
              "      <td>362.52</td>\n",
              "      <td>366.9500</td>\n",
              "      <td>357.38</td>\n",
              "      <td>366.56</td>\n",
              "      <td>11232269</td>\n",
              "    </tr>\n",
              "    <tr>\n",
              "      <th>2021-08-13</th>\n",
              "      <td>362.97</td>\n",
              "      <td>364.6607</td>\n",
              "      <td>361.48</td>\n",
              "      <td>363.18</td>\n",
              "      <td>7195724</td>\n",
              "    </tr>\n",
              "    <tr>\n",
              "      <th>2021-08-12</th>\n",
              "      <td>358.45</td>\n",
              "      <td>363.0000</td>\n",
              "      <td>357.11</td>\n",
              "      <td>362.65</td>\n",
              "      <td>7175206</td>\n",
              "    </tr>\n",
              "  </tbody>\n",
              "</table>\n",
              "</div>"
            ],
            "text/plain": [
              "              Open      High     Low   Close    Volume\n",
              "Date                                                  \n",
              "2021-08-18  356.25  359.8600  355.15  355.45  10042381\n",
              "2021-08-17  362.98  364.6700  355.07  358.45  12328737\n",
              "2021-08-16  362.52  366.9500  357.38  366.56  11232269\n",
              "2021-08-13  362.97  364.6607  361.48  363.18   7195724\n",
              "2021-08-12  358.45  363.0000  357.11  362.65   7175206"
            ]
          },
          "metadata": {},
          "execution_count": 3
        }
      ]
    },
    {
      "cell_type": "code",
      "metadata": {
        "id": "3bGsynm_TEE3"
      },
      "source": [
        "df.to_csv('fb.csv')"
      ],
      "execution_count": null,
      "outputs": []
    },
    {
      "cell_type": "code",
      "metadata": {
        "colab": {
          "base_uri": "https://localhost:8080/",
          "height": 235
        },
        "id": "B3L4-h95UpT-",
        "outputId": "2ce7da0f-99ca-4f83-fc08-1a66b5eba74e"
      },
      "source": [
        "df_nov = df[(df.index.month == 7) & (df.index.year == 2021)]\n",
        "df_nov.head()"
      ],
      "execution_count": 7,
      "outputs": [
        {
          "output_type": "execute_result",
          "data": {
            "text/html": [
              "<div>\n",
              "<style scoped>\n",
              "    .dataframe tbody tr th:only-of-type {\n",
              "        vertical-align: middle;\n",
              "    }\n",
              "\n",
              "    .dataframe tbody tr th {\n",
              "        vertical-align: top;\n",
              "    }\n",
              "\n",
              "    .dataframe thead th {\n",
              "        text-align: right;\n",
              "    }\n",
              "</style>\n",
              "<table border=\"1\" class=\"dataframe\">\n",
              "  <thead>\n",
              "    <tr style=\"text-align: right;\">\n",
              "      <th></th>\n",
              "      <th>Open</th>\n",
              "      <th>High</th>\n",
              "      <th>Low</th>\n",
              "      <th>Close</th>\n",
              "      <th>Volume</th>\n",
              "    </tr>\n",
              "    <tr>\n",
              "      <th>Date</th>\n",
              "      <th></th>\n",
              "      <th></th>\n",
              "      <th></th>\n",
              "      <th></th>\n",
              "      <th></th>\n",
              "    </tr>\n",
              "  </thead>\n",
              "  <tbody>\n",
              "    <tr>\n",
              "      <th>2021-07-30</th>\n",
              "      <td>354.00</td>\n",
              "      <td>360.7300</td>\n",
              "      <td>352.94</td>\n",
              "      <td>356.30</td>\n",
              "      <td>15976179</td>\n",
              "    </tr>\n",
              "    <tr>\n",
              "      <th>2021-07-29</th>\n",
              "      <td>361.00</td>\n",
              "      <td>365.5200</td>\n",
              "      <td>356.74</td>\n",
              "      <td>358.32</td>\n",
              "      <td>33413244</td>\n",
              "    </tr>\n",
              "    <tr>\n",
              "      <th>2021-07-28</th>\n",
              "      <td>374.56</td>\n",
              "      <td>377.5499</td>\n",
              "      <td>366.93</td>\n",
              "      <td>373.28</td>\n",
              "      <td>29676910</td>\n",
              "    </tr>\n",
              "    <tr>\n",
              "      <th>2021-07-27</th>\n",
              "      <td>371.91</td>\n",
              "      <td>373.1500</td>\n",
              "      <td>364.55</td>\n",
              "      <td>367.81</td>\n",
              "      <td>15705447</td>\n",
              "    </tr>\n",
              "    <tr>\n",
              "      <th>2021-07-26</th>\n",
              "      <td>369.58</td>\n",
              "      <td>374.4400</td>\n",
              "      <td>368.22</td>\n",
              "      <td>372.46</td>\n",
              "      <td>14925222</td>\n",
              "    </tr>\n",
              "  </tbody>\n",
              "</table>\n",
              "</div>"
            ],
            "text/plain": [
              "              Open      High     Low   Close    Volume\n",
              "Date                                                  \n",
              "2021-07-30  354.00  360.7300  352.94  356.30  15976179\n",
              "2021-07-29  361.00  365.5200  356.74  358.32  33413244\n",
              "2021-07-28  374.56  377.5499  366.93  373.28  29676910\n",
              "2021-07-27  371.91  373.1500  364.55  367.81  15705447\n",
              "2021-07-26  369.58  374.4400  368.22  372.46  14925222"
            ]
          },
          "metadata": {},
          "execution_count": 7
        }
      ]
    },
    {
      "cell_type": "code",
      "metadata": {
        "id": "7zC_p-gsVOmu"
      },
      "source": [
        "df_nov.to_csv('fb_november.csv') #modyfikuje dane open w pliku"
      ],
      "execution_count": 8,
      "outputs": []
    },
    {
      "cell_type": "code",
      "metadata": {
        "colab": {
          "base_uri": "https://localhost:8080/",
          "height": 204
        },
        "id": "wW8pSxcsVnBb",
        "outputId": "85dc4efb-8d80-4000-9b8d-51b1113de853"
      },
      "source": [
        "new_df = pd.read_csv('fb_november.csv')\n",
        "new_df.head()"
      ],
      "execution_count": 11,
      "outputs": [
        {
          "output_type": "execute_result",
          "data": {
            "text/html": [
              "<div>\n",
              "<style scoped>\n",
              "    .dataframe tbody tr th:only-of-type {\n",
              "        vertical-align: middle;\n",
              "    }\n",
              "\n",
              "    .dataframe tbody tr th {\n",
              "        vertical-align: top;\n",
              "    }\n",
              "\n",
              "    .dataframe thead th {\n",
              "        text-align: right;\n",
              "    }\n",
              "</style>\n",
              "<table border=\"1\" class=\"dataframe\">\n",
              "  <thead>\n",
              "    <tr style=\"text-align: right;\">\n",
              "      <th></th>\n",
              "      <th>Date</th>\n",
              "      <th>Open</th>\n",
              "      <th>High</th>\n",
              "      <th>Low</th>\n",
              "      <th>Close</th>\n",
              "      <th>Volume</th>\n",
              "    </tr>\n",
              "  </thead>\n",
              "  <tbody>\n",
              "    <tr>\n",
              "      <th>0</th>\n",
              "      <td>2021-07-30</td>\n",
              "      <td>322.00</td>\n",
              "      <td>360.7300</td>\n",
              "      <td>352.94</td>\n",
              "      <td>356.30</td>\n",
              "      <td>15976179</td>\n",
              "    </tr>\n",
              "    <tr>\n",
              "      <th>1</th>\n",
              "      <td>2021-07-29</td>\n",
              "      <td>321.00</td>\n",
              "      <td>365.5200</td>\n",
              "      <td>356.74</td>\n",
              "      <td>358.32</td>\n",
              "      <td>33413244</td>\n",
              "    </tr>\n",
              "    <tr>\n",
              "      <th>2</th>\n",
              "      <td>2021-07-28</td>\n",
              "      <td>374.56</td>\n",
              "      <td>377.5499</td>\n",
              "      <td>366.93</td>\n",
              "      <td>373.28</td>\n",
              "      <td>29676910</td>\n",
              "    </tr>\n",
              "    <tr>\n",
              "      <th>3</th>\n",
              "      <td>2021-07-27</td>\n",
              "      <td>371.91</td>\n",
              "      <td>373.1500</td>\n",
              "      <td>364.55</td>\n",
              "      <td>367.81</td>\n",
              "      <td>15705447</td>\n",
              "    </tr>\n",
              "    <tr>\n",
              "      <th>4</th>\n",
              "      <td>2021-07-26</td>\n",
              "      <td>369.58</td>\n",
              "      <td>374.4400</td>\n",
              "      <td>368.22</td>\n",
              "      <td>372.46</td>\n",
              "      <td>14925222</td>\n",
              "    </tr>\n",
              "  </tbody>\n",
              "</table>\n",
              "</div>"
            ],
            "text/plain": [
              "         Date    Open      High     Low   Close    Volume\n",
              "0  2021-07-30  322.00  360.7300  352.94  356.30  15976179\n",
              "1  2021-07-29  321.00  365.5200  356.74  358.32  33413244\n",
              "2  2021-07-28  374.56  377.5499  366.93  373.28  29676910\n",
              "3  2021-07-27  371.91  373.1500  364.55  367.81  15705447\n",
              "4  2021-07-26  369.58  374.4400  368.22  372.46  14925222"
            ]
          },
          "metadata": {},
          "execution_count": 11
        }
      ]
    },
    {
      "cell_type": "code",
      "metadata": {
        "id": "peq4nsSYYREu"
      },
      "source": [
        "df_nov.to_excel('fb_nov.xlsx')"
      ],
      "execution_count": 12,
      "outputs": []
    },
    {
      "cell_type": "code",
      "metadata": {
        "colab": {
          "base_uri": "https://localhost:8080/",
          "height": 204
        },
        "id": "Nyg1yBFIYs0b",
        "outputId": "ec27eec2-df95-467b-9afb-bc29ace39ae6"
      },
      "source": [
        "new_df = pd.read_excel('fb_nov.xlsx')\n",
        "new_df.head()"
      ],
      "execution_count": 14,
      "outputs": [
        {
          "output_type": "execute_result",
          "data": {
            "text/html": [
              "<div>\n",
              "<style scoped>\n",
              "    .dataframe tbody tr th:only-of-type {\n",
              "        vertical-align: middle;\n",
              "    }\n",
              "\n",
              "    .dataframe tbody tr th {\n",
              "        vertical-align: top;\n",
              "    }\n",
              "\n",
              "    .dataframe thead th {\n",
              "        text-align: right;\n",
              "    }\n",
              "</style>\n",
              "<table border=\"1\" class=\"dataframe\">\n",
              "  <thead>\n",
              "    <tr style=\"text-align: right;\">\n",
              "      <th></th>\n",
              "      <th>Date</th>\n",
              "      <th>Open</th>\n",
              "      <th>High</th>\n",
              "      <th>Low</th>\n",
              "      <th>Close</th>\n",
              "      <th>Volume</th>\n",
              "    </tr>\n",
              "  </thead>\n",
              "  <tbody>\n",
              "    <tr>\n",
              "      <th>0</th>\n",
              "      <td>2021-07-30</td>\n",
              "      <td>354.00</td>\n",
              "      <td>360.7300</td>\n",
              "      <td>352.94</td>\n",
              "      <td>356.30</td>\n",
              "      <td>15976179</td>\n",
              "    </tr>\n",
              "    <tr>\n",
              "      <th>1</th>\n",
              "      <td>2021-07-29</td>\n",
              "      <td>361.00</td>\n",
              "      <td>365.5200</td>\n",
              "      <td>356.74</td>\n",
              "      <td>358.32</td>\n",
              "      <td>33413244</td>\n",
              "    </tr>\n",
              "    <tr>\n",
              "      <th>2</th>\n",
              "      <td>2021-07-28</td>\n",
              "      <td>374.56</td>\n",
              "      <td>377.5499</td>\n",
              "      <td>366.93</td>\n",
              "      <td>373.28</td>\n",
              "      <td>29676910</td>\n",
              "    </tr>\n",
              "    <tr>\n",
              "      <th>3</th>\n",
              "      <td>2021-07-27</td>\n",
              "      <td>371.91</td>\n",
              "      <td>373.1500</td>\n",
              "      <td>364.55</td>\n",
              "      <td>367.81</td>\n",
              "      <td>15705447</td>\n",
              "    </tr>\n",
              "    <tr>\n",
              "      <th>4</th>\n",
              "      <td>2021-07-26</td>\n",
              "      <td>369.58</td>\n",
              "      <td>374.4400</td>\n",
              "      <td>368.22</td>\n",
              "      <td>372.46</td>\n",
              "      <td>14925222</td>\n",
              "    </tr>\n",
              "  </tbody>\n",
              "</table>\n",
              "</div>"
            ],
            "text/plain": [
              "        Date    Open      High     Low   Close    Volume\n",
              "0 2021-07-30  354.00  360.7300  352.94  356.30  15976179\n",
              "1 2021-07-29  361.00  365.5200  356.74  358.32  33413244\n",
              "2 2021-07-28  374.56  377.5499  366.93  373.28  29676910\n",
              "3 2021-07-27  371.91  373.1500  364.55  367.81  15705447\n",
              "4 2021-07-26  369.58  374.4400  368.22  372.46  14925222"
            ]
          },
          "metadata": {},
          "execution_count": 14
        }
      ]
    },
    {
      "cell_type": "code",
      "metadata": {
        "colab": {
          "base_uri": "https://localhost:8080/",
          "height": 235
        },
        "id": "PwYn20kxZPmB",
        "outputId": "41992e1e-b11c-477b-d404-ccc745b1c02a"
      },
      "source": [
        "new_df = pd.read_excel('fb_nov.xlsx',index_col=0) #naprawiam index\n",
        "new_df.head()"
      ],
      "execution_count": 15,
      "outputs": [
        {
          "output_type": "execute_result",
          "data": {
            "text/html": [
              "<div>\n",
              "<style scoped>\n",
              "    .dataframe tbody tr th:only-of-type {\n",
              "        vertical-align: middle;\n",
              "    }\n",
              "\n",
              "    .dataframe tbody tr th {\n",
              "        vertical-align: top;\n",
              "    }\n",
              "\n",
              "    .dataframe thead th {\n",
              "        text-align: right;\n",
              "    }\n",
              "</style>\n",
              "<table border=\"1\" class=\"dataframe\">\n",
              "  <thead>\n",
              "    <tr style=\"text-align: right;\">\n",
              "      <th></th>\n",
              "      <th>Open</th>\n",
              "      <th>High</th>\n",
              "      <th>Low</th>\n",
              "      <th>Close</th>\n",
              "      <th>Volume</th>\n",
              "    </tr>\n",
              "    <tr>\n",
              "      <th>Date</th>\n",
              "      <th></th>\n",
              "      <th></th>\n",
              "      <th></th>\n",
              "      <th></th>\n",
              "      <th></th>\n",
              "    </tr>\n",
              "  </thead>\n",
              "  <tbody>\n",
              "    <tr>\n",
              "      <th>2021-07-30</th>\n",
              "      <td>354.00</td>\n",
              "      <td>360.7300</td>\n",
              "      <td>352.94</td>\n",
              "      <td>356.30</td>\n",
              "      <td>15976179</td>\n",
              "    </tr>\n",
              "    <tr>\n",
              "      <th>2021-07-29</th>\n",
              "      <td>361.00</td>\n",
              "      <td>365.5200</td>\n",
              "      <td>356.74</td>\n",
              "      <td>358.32</td>\n",
              "      <td>33413244</td>\n",
              "    </tr>\n",
              "    <tr>\n",
              "      <th>2021-07-28</th>\n",
              "      <td>374.56</td>\n",
              "      <td>377.5499</td>\n",
              "      <td>366.93</td>\n",
              "      <td>373.28</td>\n",
              "      <td>29676910</td>\n",
              "    </tr>\n",
              "    <tr>\n",
              "      <th>2021-07-27</th>\n",
              "      <td>371.91</td>\n",
              "      <td>373.1500</td>\n",
              "      <td>364.55</td>\n",
              "      <td>367.81</td>\n",
              "      <td>15705447</td>\n",
              "    </tr>\n",
              "    <tr>\n",
              "      <th>2021-07-26</th>\n",
              "      <td>369.58</td>\n",
              "      <td>374.4400</td>\n",
              "      <td>368.22</td>\n",
              "      <td>372.46</td>\n",
              "      <td>14925222</td>\n",
              "    </tr>\n",
              "  </tbody>\n",
              "</table>\n",
              "</div>"
            ],
            "text/plain": [
              "              Open      High     Low   Close    Volume\n",
              "Date                                                  \n",
              "2021-07-30  354.00  360.7300  352.94  356.30  15976179\n",
              "2021-07-29  361.00  365.5200  356.74  358.32  33413244\n",
              "2021-07-28  374.56  377.5499  366.93  373.28  29676910\n",
              "2021-07-27  371.91  373.1500  364.55  367.81  15705447\n",
              "2021-07-26  369.58  374.4400  368.22  372.46  14925222"
            ]
          },
          "metadata": {},
          "execution_count": 15
        }
      ]
    },
    {
      "cell_type": "markdown",
      "metadata": {
        "id": "rVxov8EnZwgs"
      },
      "source": [
        "# London bike dataset"
      ]
    },
    {
      "cell_type": "code",
      "metadata": {
        "colab": {
          "base_uri": "https://localhost:8080/",
          "height": 204
        },
        "id": "LzFR5bPBZ0HH",
        "outputId": "d73dcd3a-8b22-49d5-ac90-2950ca41b1fe"
      },
      "source": [
        "df = pd.read_csv('london_bike.csv')\n",
        "df.head()"
      ],
      "execution_count": 16,
      "outputs": [
        {
          "output_type": "execute_result",
          "data": {
            "text/html": [
              "<div>\n",
              "<style scoped>\n",
              "    .dataframe tbody tr th:only-of-type {\n",
              "        vertical-align: middle;\n",
              "    }\n",
              "\n",
              "    .dataframe tbody tr th {\n",
              "        vertical-align: top;\n",
              "    }\n",
              "\n",
              "    .dataframe thead th {\n",
              "        text-align: right;\n",
              "    }\n",
              "</style>\n",
              "<table border=\"1\" class=\"dataframe\">\n",
              "  <thead>\n",
              "    <tr style=\"text-align: right;\">\n",
              "      <th></th>\n",
              "      <th>timestamp</th>\n",
              "      <th>cnt</th>\n",
              "      <th>t1</th>\n",
              "      <th>t2</th>\n",
              "      <th>hum</th>\n",
              "      <th>wind_speed</th>\n",
              "      <th>weather_code</th>\n",
              "      <th>is_holiday</th>\n",
              "      <th>is_weekend</th>\n",
              "      <th>season</th>\n",
              "    </tr>\n",
              "  </thead>\n",
              "  <tbody>\n",
              "    <tr>\n",
              "      <th>0</th>\n",
              "      <td>2015-01-04 00:00:00</td>\n",
              "      <td>182</td>\n",
              "      <td>3.0</td>\n",
              "      <td>2.0</td>\n",
              "      <td>93.0</td>\n",
              "      <td>6.0</td>\n",
              "      <td>3.0</td>\n",
              "      <td>0.0</td>\n",
              "      <td>1.0</td>\n",
              "      <td>3.0</td>\n",
              "    </tr>\n",
              "    <tr>\n",
              "      <th>1</th>\n",
              "      <td>2015-01-04 01:00:00</td>\n",
              "      <td>138</td>\n",
              "      <td>3.0</td>\n",
              "      <td>2.5</td>\n",
              "      <td>93.0</td>\n",
              "      <td>5.0</td>\n",
              "      <td>1.0</td>\n",
              "      <td>0.0</td>\n",
              "      <td>1.0</td>\n",
              "      <td>3.0</td>\n",
              "    </tr>\n",
              "    <tr>\n",
              "      <th>2</th>\n",
              "      <td>2015-01-04 02:00:00</td>\n",
              "      <td>134</td>\n",
              "      <td>2.5</td>\n",
              "      <td>2.5</td>\n",
              "      <td>96.5</td>\n",
              "      <td>0.0</td>\n",
              "      <td>1.0</td>\n",
              "      <td>0.0</td>\n",
              "      <td>1.0</td>\n",
              "      <td>3.0</td>\n",
              "    </tr>\n",
              "    <tr>\n",
              "      <th>3</th>\n",
              "      <td>2015-01-04 03:00:00</td>\n",
              "      <td>72</td>\n",
              "      <td>2.0</td>\n",
              "      <td>2.0</td>\n",
              "      <td>100.0</td>\n",
              "      <td>0.0</td>\n",
              "      <td>1.0</td>\n",
              "      <td>0.0</td>\n",
              "      <td>1.0</td>\n",
              "      <td>3.0</td>\n",
              "    </tr>\n",
              "    <tr>\n",
              "      <th>4</th>\n",
              "      <td>2015-01-04 04:00:00</td>\n",
              "      <td>47</td>\n",
              "      <td>2.0</td>\n",
              "      <td>0.0</td>\n",
              "      <td>93.0</td>\n",
              "      <td>6.5</td>\n",
              "      <td>1.0</td>\n",
              "      <td>0.0</td>\n",
              "      <td>1.0</td>\n",
              "      <td>3.0</td>\n",
              "    </tr>\n",
              "  </tbody>\n",
              "</table>\n",
              "</div>"
            ],
            "text/plain": [
              "             timestamp  cnt   t1  ...  is_holiday  is_weekend  season\n",
              "0  2015-01-04 00:00:00  182  3.0  ...         0.0         1.0     3.0\n",
              "1  2015-01-04 01:00:00  138  3.0  ...         0.0         1.0     3.0\n",
              "2  2015-01-04 02:00:00  134  2.5  ...         0.0         1.0     3.0\n",
              "3  2015-01-04 03:00:00   72  2.0  ...         0.0         1.0     3.0\n",
              "4  2015-01-04 04:00:00   47  2.0  ...         0.0         1.0     3.0\n",
              "\n",
              "[5 rows x 10 columns]"
            ]
          },
          "metadata": {},
          "execution_count": 16
        }
      ]
    },
    {
      "cell_type": "code",
      "metadata": {
        "colab": {
          "base_uri": "https://localhost:8080/",
          "height": 235
        },
        "id": "oaHOJ9dVcDX7",
        "outputId": "86d9cd1b-5073-4ad7-d08e-dacaa526f35e"
      },
      "source": [
        "df = df.set_index('timestamp')\n",
        "df.head()"
      ],
      "execution_count": 18,
      "outputs": [
        {
          "output_type": "execute_result",
          "data": {
            "text/html": [
              "<div>\n",
              "<style scoped>\n",
              "    .dataframe tbody tr th:only-of-type {\n",
              "        vertical-align: middle;\n",
              "    }\n",
              "\n",
              "    .dataframe tbody tr th {\n",
              "        vertical-align: top;\n",
              "    }\n",
              "\n",
              "    .dataframe thead th {\n",
              "        text-align: right;\n",
              "    }\n",
              "</style>\n",
              "<table border=\"1\" class=\"dataframe\">\n",
              "  <thead>\n",
              "    <tr style=\"text-align: right;\">\n",
              "      <th></th>\n",
              "      <th>cnt</th>\n",
              "      <th>t1</th>\n",
              "      <th>t2</th>\n",
              "      <th>hum</th>\n",
              "      <th>wind_speed</th>\n",
              "      <th>weather_code</th>\n",
              "      <th>is_holiday</th>\n",
              "      <th>is_weekend</th>\n",
              "      <th>season</th>\n",
              "    </tr>\n",
              "    <tr>\n",
              "      <th>timestamp</th>\n",
              "      <th></th>\n",
              "      <th></th>\n",
              "      <th></th>\n",
              "      <th></th>\n",
              "      <th></th>\n",
              "      <th></th>\n",
              "      <th></th>\n",
              "      <th></th>\n",
              "      <th></th>\n",
              "    </tr>\n",
              "  </thead>\n",
              "  <tbody>\n",
              "    <tr>\n",
              "      <th>2015-01-04 00:00:00</th>\n",
              "      <td>182</td>\n",
              "      <td>3.0</td>\n",
              "      <td>2.0</td>\n",
              "      <td>93.0</td>\n",
              "      <td>6.0</td>\n",
              "      <td>3.0</td>\n",
              "      <td>0.0</td>\n",
              "      <td>1.0</td>\n",
              "      <td>3.0</td>\n",
              "    </tr>\n",
              "    <tr>\n",
              "      <th>2015-01-04 01:00:00</th>\n",
              "      <td>138</td>\n",
              "      <td>3.0</td>\n",
              "      <td>2.5</td>\n",
              "      <td>93.0</td>\n",
              "      <td>5.0</td>\n",
              "      <td>1.0</td>\n",
              "      <td>0.0</td>\n",
              "      <td>1.0</td>\n",
              "      <td>3.0</td>\n",
              "    </tr>\n",
              "    <tr>\n",
              "      <th>2015-01-04 02:00:00</th>\n",
              "      <td>134</td>\n",
              "      <td>2.5</td>\n",
              "      <td>2.5</td>\n",
              "      <td>96.5</td>\n",
              "      <td>0.0</td>\n",
              "      <td>1.0</td>\n",
              "      <td>0.0</td>\n",
              "      <td>1.0</td>\n",
              "      <td>3.0</td>\n",
              "    </tr>\n",
              "    <tr>\n",
              "      <th>2015-01-04 03:00:00</th>\n",
              "      <td>72</td>\n",
              "      <td>2.0</td>\n",
              "      <td>2.0</td>\n",
              "      <td>100.0</td>\n",
              "      <td>0.0</td>\n",
              "      <td>1.0</td>\n",
              "      <td>0.0</td>\n",
              "      <td>1.0</td>\n",
              "      <td>3.0</td>\n",
              "    </tr>\n",
              "    <tr>\n",
              "      <th>2015-01-04 04:00:00</th>\n",
              "      <td>47</td>\n",
              "      <td>2.0</td>\n",
              "      <td>0.0</td>\n",
              "      <td>93.0</td>\n",
              "      <td>6.5</td>\n",
              "      <td>1.0</td>\n",
              "      <td>0.0</td>\n",
              "      <td>1.0</td>\n",
              "      <td>3.0</td>\n",
              "    </tr>\n",
              "  </tbody>\n",
              "</table>\n",
              "</div>"
            ],
            "text/plain": [
              "                     cnt   t1   t2  ...  is_holiday  is_weekend  season\n",
              "timestamp                           ...                                \n",
              "2015-01-04 00:00:00  182  3.0  2.0  ...         0.0         1.0     3.0\n",
              "2015-01-04 01:00:00  138  3.0  2.5  ...         0.0         1.0     3.0\n",
              "2015-01-04 02:00:00  134  2.5  2.5  ...         0.0         1.0     3.0\n",
              "2015-01-04 03:00:00   72  2.0  2.0  ...         0.0         1.0     3.0\n",
              "2015-01-04 04:00:00   47  2.0  0.0  ...         0.0         1.0     3.0\n",
              "\n",
              "[5 rows x 9 columns]"
            ]
          },
          "metadata": {},
          "execution_count": 18
        }
      ]
    },
    {
      "cell_type": "code",
      "metadata": {
        "colab": {
          "base_uri": "https://localhost:8080/"
        },
        "id": "0MKIsEZucN4w",
        "outputId": "2730cc6a-c8e9-4cc1-f71b-bd78df5b4ef7"
      },
      "source": [
        "df.info()"
      ],
      "execution_count": 19,
      "outputs": [
        {
          "output_type": "stream",
          "text": [
            "<class 'pandas.core.frame.DataFrame'>\n",
            "Index: 17414 entries, 2015-01-04 00:00:00 to 2017-01-03 23:00:00\n",
            "Data columns (total 9 columns):\n",
            " #   Column        Non-Null Count  Dtype  \n",
            "---  ------        --------------  -----  \n",
            " 0   cnt           17414 non-null  int64  \n",
            " 1   t1            17414 non-null  float64\n",
            " 2   t2            17414 non-null  float64\n",
            " 3   hum           17414 non-null  float64\n",
            " 4   wind_speed    17414 non-null  float64\n",
            " 5   weather_code  17414 non-null  float64\n",
            " 6   is_holiday    17414 non-null  float64\n",
            " 7   is_weekend    17414 non-null  float64\n",
            " 8   season        17414 non-null  float64\n",
            "dtypes: float64(8), int64(1)\n",
            "memory usage: 2.0+ MB\n"
          ],
          "name": "stdout"
        }
      ]
    }
  ]
}