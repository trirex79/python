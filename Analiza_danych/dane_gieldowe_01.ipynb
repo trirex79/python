{
  "nbformat": 4,
  "nbformat_minor": 0,
  "metadata": {
    "colab": {
      "name": "dane_gieldowe_01.ipynb",
      "provenance": [],
      "authorship_tag": "ABX9TyPNOOOBeiCSBpBjOw44FXsw",
      "include_colab_link": true
    },
    "kernelspec": {
      "name": "python3",
      "display_name": "Python 3"
    },
    "language_info": {
      "name": "python"
    }
  },
  "cells": [
    {
      "cell_type": "markdown",
      "metadata": {
        "id": "view-in-github",
        "colab_type": "text"
      },
      "source": [
        "<a href=\"https://colab.research.google.com/github/trirex79/python/blob/main/Analiza_danych/dane_gieldowe_01.ipynb\" target=\"_parent\"><img src=\"https://colab.research.google.com/assets/colab-badge.svg\" alt=\"Open In Colab\"/></a>"
      ]
    },
    {
      "cell_type": "code",
      "metadata": {
        "id": "c8oUdjTTQNBz"
      },
      "source": [
        ""
      ],
      "execution_count": null,
      "outputs": []
    },
    {
      "cell_type": "markdown",
      "metadata": {
        "id": "WQD-U1w_QmeB"
      },
      "source": [
        "#Import bibliotek"
      ]
    },
    {
      "cell_type": "code",
      "metadata": {
        "colab": {
          "base_uri": "https://localhost:8080/"
        },
        "id": "lPwAmy5dQqs1",
        "outputId": "9090c37a-a193-4eb4-e16a-353f3add1e5b"
      },
      "source": [
        "\n",
        "import numpy as np\n",
        "import pandas as pd\n",
        "\n",
        "print(f'Numpy: {np.__version__}')\n",
        "print(f'Pandas: {pd.__version__}')"
      ],
      "execution_count": 1,
      "outputs": [
        {
          "output_type": "stream",
          "text": [
            "Numpy: 1.19.5\n",
            "Pandas: 1.1.5\n"
          ],
          "name": "stdout"
        }
      ]
    },
    {
      "cell_type": "markdown",
      "metadata": {
        "id": "40TQkFzCQyqx"
      },
      "source": [
        "# Ładowanie danych"
      ]
    },
    {
      "cell_type": "code",
      "metadata": {
        "colab": {
          "base_uri": "https://localhost:8080/"
        },
        "id": "k94KUmNZQrjN",
        "outputId": "b5ec9816-8730-44da-92df-cafa28a449e4"
      },
      "source": [
        "\n",
        "def fetch_financial_data(company='AMZN'):\n",
        "    \"\"\"Pobiera dane dotyczące notowań spółek na giełdzie według symboli\n",
        "    na serwisie stooq.pl\"\"\"\n",
        "    import pandas_datareader.data as web\n",
        "    return web.DataReader(name=company, data_source='stooq')\n",
        "\n",
        "df = fetch_financial_data()\n",
        "df.info()"
      ],
      "execution_count": 2,
      "outputs": [
        {
          "output_type": "stream",
          "text": [
            "<class 'pandas.core.frame.DataFrame'>\n",
            "DatetimeIndex: 1258 entries, 2021-07-30 to 2016-08-02\n",
            "Data columns (total 5 columns):\n",
            " #   Column  Non-Null Count  Dtype  \n",
            "---  ------  --------------  -----  \n",
            " 0   Open    1258 non-null   float64\n",
            " 1   High    1258 non-null   float64\n",
            " 2   Low     1258 non-null   float64\n",
            " 3   Close   1258 non-null   float64\n",
            " 4   Volume  1258 non-null   int64  \n",
            "dtypes: float64(4), int64(1)\n",
            "memory usage: 59.0 KB\n"
          ],
          "name": "stdout"
        }
      ]
    },
    {
      "cell_type": "code",
      "metadata": {
        "colab": {
          "base_uri": "https://localhost:8080/",
          "height": 450
        },
        "id": "KpMSNrlKQ3Bz",
        "outputId": "32190204-36ab-4519-bc81-bc2b04e4f374"
      },
      "source": [
        "df"
      ],
      "execution_count": 3,
      "outputs": [
        {
          "output_type": "execute_result",
          "data": {
            "text/html": [
              "<div>\n",
              "<style scoped>\n",
              "    .dataframe tbody tr th:only-of-type {\n",
              "        vertical-align: middle;\n",
              "    }\n",
              "\n",
              "    .dataframe tbody tr th {\n",
              "        vertical-align: top;\n",
              "    }\n",
              "\n",
              "    .dataframe thead th {\n",
              "        text-align: right;\n",
              "    }\n",
              "</style>\n",
              "<table border=\"1\" class=\"dataframe\">\n",
              "  <thead>\n",
              "    <tr style=\"text-align: right;\">\n",
              "      <th></th>\n",
              "      <th>Open</th>\n",
              "      <th>High</th>\n",
              "      <th>Low</th>\n",
              "      <th>Close</th>\n",
              "      <th>Volume</th>\n",
              "    </tr>\n",
              "    <tr>\n",
              "      <th>Date</th>\n",
              "      <th></th>\n",
              "      <th></th>\n",
              "      <th></th>\n",
              "      <th></th>\n",
              "      <th></th>\n",
              "    </tr>\n",
              "  </thead>\n",
              "  <tbody>\n",
              "    <tr>\n",
              "      <th>2021-07-30</th>\n",
              "      <td>3347.95</td>\n",
              "      <td>3368.1400</td>\n",
              "      <td>3306.980</td>\n",
              "      <td>3327.59</td>\n",
              "      <td>9965593</td>\n",
              "    </tr>\n",
              "    <tr>\n",
              "      <th>2021-07-29</th>\n",
              "      <td>3627.75</td>\n",
              "      <td>3637.9500</td>\n",
              "      <td>3580.010</td>\n",
              "      <td>3599.92</td>\n",
              "      <td>5519952</td>\n",
              "    </tr>\n",
              "    <tr>\n",
              "      <th>2021-07-28</th>\n",
              "      <td>3633.78</td>\n",
              "      <td>3658.4204</td>\n",
              "      <td>3601.000</td>\n",
              "      <td>3630.32</td>\n",
              "      <td>2999378</td>\n",
              "    </tr>\n",
              "    <tr>\n",
              "      <th>2021-07-27</th>\n",
              "      <td>3698.50</td>\n",
              "      <td>3698.5000</td>\n",
              "      <td>3586.150</td>\n",
              "      <td>3626.39</td>\n",
              "      <td>4131890</td>\n",
              "    </tr>\n",
              "    <tr>\n",
              "      <th>2021-07-26</th>\n",
              "      <td>3673.17</td>\n",
              "      <td>3712.0800</td>\n",
              "      <td>3647.250</td>\n",
              "      <td>3699.82</td>\n",
              "      <td>2900068</td>\n",
              "    </tr>\n",
              "    <tr>\n",
              "      <th>...</th>\n",
              "      <td>...</td>\n",
              "      <td>...</td>\n",
              "      <td>...</td>\n",
              "      <td>...</td>\n",
              "      <td>...</td>\n",
              "    </tr>\n",
              "    <tr>\n",
              "      <th>2016-08-08</th>\n",
              "      <td>766.81</td>\n",
              "      <td>767.0000</td>\n",
              "      <td>761.015</td>\n",
              "      <td>766.56</td>\n",
              "      <td>1709639</td>\n",
              "    </tr>\n",
              "    <tr>\n",
              "      <th>2016-08-05</th>\n",
              "      <td>764.81</td>\n",
              "      <td>768.4700</td>\n",
              "      <td>763.090</td>\n",
              "      <td>765.98</td>\n",
              "      <td>2516246</td>\n",
              "    </tr>\n",
              "    <tr>\n",
              "      <th>2016-08-04</th>\n",
              "      <td>753.70</td>\n",
              "      <td>765.0000</td>\n",
              "      <td>750.350</td>\n",
              "      <td>760.77</td>\n",
              "      <td>2557512</td>\n",
              "    </tr>\n",
              "    <tr>\n",
              "      <th>2016-08-03</th>\n",
              "      <td>757.06</td>\n",
              "      <td>758.8900</td>\n",
              "      <td>752.250</td>\n",
              "      <td>754.55</td>\n",
              "      <td>3083438</td>\n",
              "    </tr>\n",
              "    <tr>\n",
              "      <th>2016-08-02</th>\n",
              "      <td>763.81</td>\n",
              "      <td>765.0100</td>\n",
              "      <td>757.020</td>\n",
              "      <td>760.58</td>\n",
              "      <td>3167836</td>\n",
              "    </tr>\n",
              "  </tbody>\n",
              "</table>\n",
              "<p>1258 rows × 5 columns</p>\n",
              "</div>"
            ],
            "text/plain": [
              "               Open       High       Low    Close   Volume\n",
              "Date                                                      \n",
              "2021-07-30  3347.95  3368.1400  3306.980  3327.59  9965593\n",
              "2021-07-29  3627.75  3637.9500  3580.010  3599.92  5519952\n",
              "2021-07-28  3633.78  3658.4204  3601.000  3630.32  2999378\n",
              "2021-07-27  3698.50  3698.5000  3586.150  3626.39  4131890\n",
              "2021-07-26  3673.17  3712.0800  3647.250  3699.82  2900068\n",
              "...             ...        ...       ...      ...      ...\n",
              "2016-08-08   766.81   767.0000   761.015   766.56  1709639\n",
              "2016-08-05   764.81   768.4700   763.090   765.98  2516246\n",
              "2016-08-04   753.70   765.0000   750.350   760.77  2557512\n",
              "2016-08-03   757.06   758.8900   752.250   754.55  3083438\n",
              "2016-08-02   763.81   765.0100   757.020   760.58  3167836\n",
              "\n",
              "[1258 rows x 5 columns]"
            ]
          },
          "metadata": {
            "tags": []
          },
          "execution_count": 3
        }
      ]
    },
    {
      "cell_type": "code",
      "metadata": {
        "colab": {
          "base_uri": "https://localhost:8080/",
          "height": 235
        },
        "id": "Rmub9SvaRDeh",
        "outputId": "a9234658-8fbf-4251-e91c-80217401ee88"
      },
      "source": [
        "df.head()"
      ],
      "execution_count": 4,
      "outputs": [
        {
          "output_type": "execute_result",
          "data": {
            "text/html": [
              "<div>\n",
              "<style scoped>\n",
              "    .dataframe tbody tr th:only-of-type {\n",
              "        vertical-align: middle;\n",
              "    }\n",
              "\n",
              "    .dataframe tbody tr th {\n",
              "        vertical-align: top;\n",
              "    }\n",
              "\n",
              "    .dataframe thead th {\n",
              "        text-align: right;\n",
              "    }\n",
              "</style>\n",
              "<table border=\"1\" class=\"dataframe\">\n",
              "  <thead>\n",
              "    <tr style=\"text-align: right;\">\n",
              "      <th></th>\n",
              "      <th>Open</th>\n",
              "      <th>High</th>\n",
              "      <th>Low</th>\n",
              "      <th>Close</th>\n",
              "      <th>Volume</th>\n",
              "    </tr>\n",
              "    <tr>\n",
              "      <th>Date</th>\n",
              "      <th></th>\n",
              "      <th></th>\n",
              "      <th></th>\n",
              "      <th></th>\n",
              "      <th></th>\n",
              "    </tr>\n",
              "  </thead>\n",
              "  <tbody>\n",
              "    <tr>\n",
              "      <th>2021-07-30</th>\n",
              "      <td>3347.95</td>\n",
              "      <td>3368.1400</td>\n",
              "      <td>3306.98</td>\n",
              "      <td>3327.59</td>\n",
              "      <td>9965593</td>\n",
              "    </tr>\n",
              "    <tr>\n",
              "      <th>2021-07-29</th>\n",
              "      <td>3627.75</td>\n",
              "      <td>3637.9500</td>\n",
              "      <td>3580.01</td>\n",
              "      <td>3599.92</td>\n",
              "      <td>5519952</td>\n",
              "    </tr>\n",
              "    <tr>\n",
              "      <th>2021-07-28</th>\n",
              "      <td>3633.78</td>\n",
              "      <td>3658.4204</td>\n",
              "      <td>3601.00</td>\n",
              "      <td>3630.32</td>\n",
              "      <td>2999378</td>\n",
              "    </tr>\n",
              "    <tr>\n",
              "      <th>2021-07-27</th>\n",
              "      <td>3698.50</td>\n",
              "      <td>3698.5000</td>\n",
              "      <td>3586.15</td>\n",
              "      <td>3626.39</td>\n",
              "      <td>4131890</td>\n",
              "    </tr>\n",
              "    <tr>\n",
              "      <th>2021-07-26</th>\n",
              "      <td>3673.17</td>\n",
              "      <td>3712.0800</td>\n",
              "      <td>3647.25</td>\n",
              "      <td>3699.82</td>\n",
              "      <td>2900068</td>\n",
              "    </tr>\n",
              "  </tbody>\n",
              "</table>\n",
              "</div>"
            ],
            "text/plain": [
              "               Open       High      Low    Close   Volume\n",
              "Date                                                     \n",
              "2021-07-30  3347.95  3368.1400  3306.98  3327.59  9965593\n",
              "2021-07-29  3627.75  3637.9500  3580.01  3599.92  5519952\n",
              "2021-07-28  3633.78  3658.4204  3601.00  3630.32  2999378\n",
              "2021-07-27  3698.50  3698.5000  3586.15  3626.39  4131890\n",
              "2021-07-26  3673.17  3712.0800  3647.25  3699.82  2900068"
            ]
          },
          "metadata": {
            "tags": []
          },
          "execution_count": 4
        }
      ]
    },
    {
      "cell_type": "code",
      "metadata": {
        "colab": {
          "base_uri": "https://localhost:8080/",
          "height": 235
        },
        "id": "74SfmT2zSuxE",
        "outputId": "8e91b2ab-6ae2-4a13-feac-e0876f5c76a6"
      },
      "source": [
        "df.tail()"
      ],
      "execution_count": 5,
      "outputs": [
        {
          "output_type": "execute_result",
          "data": {
            "text/html": [
              "<div>\n",
              "<style scoped>\n",
              "    .dataframe tbody tr th:only-of-type {\n",
              "        vertical-align: middle;\n",
              "    }\n",
              "\n",
              "    .dataframe tbody tr th {\n",
              "        vertical-align: top;\n",
              "    }\n",
              "\n",
              "    .dataframe thead th {\n",
              "        text-align: right;\n",
              "    }\n",
              "</style>\n",
              "<table border=\"1\" class=\"dataframe\">\n",
              "  <thead>\n",
              "    <tr style=\"text-align: right;\">\n",
              "      <th></th>\n",
              "      <th>Open</th>\n",
              "      <th>High</th>\n",
              "      <th>Low</th>\n",
              "      <th>Close</th>\n",
              "      <th>Volume</th>\n",
              "    </tr>\n",
              "    <tr>\n",
              "      <th>Date</th>\n",
              "      <th></th>\n",
              "      <th></th>\n",
              "      <th></th>\n",
              "      <th></th>\n",
              "      <th></th>\n",
              "    </tr>\n",
              "  </thead>\n",
              "  <tbody>\n",
              "    <tr>\n",
              "      <th>2016-08-08</th>\n",
              "      <td>766.81</td>\n",
              "      <td>767.00</td>\n",
              "      <td>761.015</td>\n",
              "      <td>766.56</td>\n",
              "      <td>1709639</td>\n",
              "    </tr>\n",
              "    <tr>\n",
              "      <th>2016-08-05</th>\n",
              "      <td>764.81</td>\n",
              "      <td>768.47</td>\n",
              "      <td>763.090</td>\n",
              "      <td>765.98</td>\n",
              "      <td>2516246</td>\n",
              "    </tr>\n",
              "    <tr>\n",
              "      <th>2016-08-04</th>\n",
              "      <td>753.70</td>\n",
              "      <td>765.00</td>\n",
              "      <td>750.350</td>\n",
              "      <td>760.77</td>\n",
              "      <td>2557512</td>\n",
              "    </tr>\n",
              "    <tr>\n",
              "      <th>2016-08-03</th>\n",
              "      <td>757.06</td>\n",
              "      <td>758.89</td>\n",
              "      <td>752.250</td>\n",
              "      <td>754.55</td>\n",
              "      <td>3083438</td>\n",
              "    </tr>\n",
              "    <tr>\n",
              "      <th>2016-08-02</th>\n",
              "      <td>763.81</td>\n",
              "      <td>765.01</td>\n",
              "      <td>757.020</td>\n",
              "      <td>760.58</td>\n",
              "      <td>3167836</td>\n",
              "    </tr>\n",
              "  </tbody>\n",
              "</table>\n",
              "</div>"
            ],
            "text/plain": [
              "              Open    High      Low   Close   Volume\n",
              "Date                                                \n",
              "2016-08-08  766.81  767.00  761.015  766.56  1709639\n",
              "2016-08-05  764.81  768.47  763.090  765.98  2516246\n",
              "2016-08-04  753.70  765.00  750.350  760.77  2557512\n",
              "2016-08-03  757.06  758.89  752.250  754.55  3083438\n",
              "2016-08-02  763.81  765.01  757.020  760.58  3167836"
            ]
          },
          "metadata": {
            "tags": []
          },
          "execution_count": 5
        }
      ]
    },
    {
      "cell_type": "code",
      "metadata": {
        "colab": {
          "base_uri": "https://localhost:8080/",
          "height": 173
        },
        "id": "1NEpnbD-S095",
        "outputId": "75166866-293f-47b1-a654-cb59aae45a67"
      },
      "source": [
        "df.head(3)"
      ],
      "execution_count": 6,
      "outputs": [
        {
          "output_type": "execute_result",
          "data": {
            "text/html": [
              "<div>\n",
              "<style scoped>\n",
              "    .dataframe tbody tr th:only-of-type {\n",
              "        vertical-align: middle;\n",
              "    }\n",
              "\n",
              "    .dataframe tbody tr th {\n",
              "        vertical-align: top;\n",
              "    }\n",
              "\n",
              "    .dataframe thead th {\n",
              "        text-align: right;\n",
              "    }\n",
              "</style>\n",
              "<table border=\"1\" class=\"dataframe\">\n",
              "  <thead>\n",
              "    <tr style=\"text-align: right;\">\n",
              "      <th></th>\n",
              "      <th>Open</th>\n",
              "      <th>High</th>\n",
              "      <th>Low</th>\n",
              "      <th>Close</th>\n",
              "      <th>Volume</th>\n",
              "    </tr>\n",
              "    <tr>\n",
              "      <th>Date</th>\n",
              "      <th></th>\n",
              "      <th></th>\n",
              "      <th></th>\n",
              "      <th></th>\n",
              "      <th></th>\n",
              "    </tr>\n",
              "  </thead>\n",
              "  <tbody>\n",
              "    <tr>\n",
              "      <th>2021-07-30</th>\n",
              "      <td>3347.95</td>\n",
              "      <td>3368.1400</td>\n",
              "      <td>3306.98</td>\n",
              "      <td>3327.59</td>\n",
              "      <td>9965593</td>\n",
              "    </tr>\n",
              "    <tr>\n",
              "      <th>2021-07-29</th>\n",
              "      <td>3627.75</td>\n",
              "      <td>3637.9500</td>\n",
              "      <td>3580.01</td>\n",
              "      <td>3599.92</td>\n",
              "      <td>5519952</td>\n",
              "    </tr>\n",
              "    <tr>\n",
              "      <th>2021-07-28</th>\n",
              "      <td>3633.78</td>\n",
              "      <td>3658.4204</td>\n",
              "      <td>3601.00</td>\n",
              "      <td>3630.32</td>\n",
              "      <td>2999378</td>\n",
              "    </tr>\n",
              "  </tbody>\n",
              "</table>\n",
              "</div>"
            ],
            "text/plain": [
              "               Open       High      Low    Close   Volume\n",
              "Date                                                     \n",
              "2021-07-30  3347.95  3368.1400  3306.98  3327.59  9965593\n",
              "2021-07-29  3627.75  3637.9500  3580.01  3599.92  5519952\n",
              "2021-07-28  3633.78  3658.4204  3601.00  3630.32  2999378"
            ]
          },
          "metadata": {
            "tags": []
          },
          "execution_count": 6
        }
      ]
    },
    {
      "cell_type": "code",
      "metadata": {
        "colab": {
          "base_uri": "https://localhost:8080/"
        },
        "id": "BqXeWkccTGSf",
        "outputId": "97e3bdeb-278a-4a7f-ced7-e348ab5bcea7"
      },
      "source": [
        "df.columns"
      ],
      "execution_count": 7,
      "outputs": [
        {
          "output_type": "execute_result",
          "data": {
            "text/plain": [
              "Index(['Open', 'High', 'Low', 'Close', 'Volume'], dtype='object')"
            ]
          },
          "metadata": {
            "tags": []
          },
          "execution_count": 7
        }
      ]
    },
    {
      "cell_type": "code",
      "metadata": {
        "colab": {
          "base_uri": "https://localhost:8080/"
        },
        "id": "iB4IEKoxTexz",
        "outputId": "05886208-4fc3-4cc7-e8a6-6d471f2a2351"
      },
      "source": [
        "df.columns = [col.lower() for col in df.columns]\n",
        "df.columns"
      ],
      "execution_count": 9,
      "outputs": [
        {
          "output_type": "execute_result",
          "data": {
            "text/plain": [
              "Index(['open', 'high', 'low', 'close', 'volume'], dtype='object')"
            ]
          },
          "metadata": {
            "tags": []
          },
          "execution_count": 9
        }
      ]
    },
    {
      "cell_type": "code",
      "metadata": {
        "colab": {
          "base_uri": "https://localhost:8080/",
          "height": 204
        },
        "id": "sTy0gkoJT_sH",
        "outputId": "f8296fcf-28e5-4f34-b7e4-6b985178a70d"
      },
      "source": [
        "df.describe().T"
      ],
      "execution_count": 11,
      "outputs": [
        {
          "output_type": "execute_result",
          "data": {
            "text/html": [
              "<div>\n",
              "<style scoped>\n",
              "    .dataframe tbody tr th:only-of-type {\n",
              "        vertical-align: middle;\n",
              "    }\n",
              "\n",
              "    .dataframe tbody tr th {\n",
              "        vertical-align: top;\n",
              "    }\n",
              "\n",
              "    .dataframe thead th {\n",
              "        text-align: right;\n",
              "    }\n",
              "</style>\n",
              "<table border=\"1\" class=\"dataframe\">\n",
              "  <thead>\n",
              "    <tr style=\"text-align: right;\">\n",
              "      <th></th>\n",
              "      <th>count</th>\n",
              "      <th>mean</th>\n",
              "      <th>std</th>\n",
              "      <th>min</th>\n",
              "      <th>25%</th>\n",
              "      <th>50%</th>\n",
              "      <th>75%</th>\n",
              "      <th>max</th>\n",
              "    </tr>\n",
              "  </thead>\n",
              "  <tbody>\n",
              "    <tr>\n",
              "      <th>open</th>\n",
              "      <td>1258.0</td>\n",
              "      <td>1.865338e+03</td>\n",
              "      <td>8.486117e+02</td>\n",
              "      <td>730.00</td>\n",
              "      <td>1.092115e+03</td>\n",
              "      <td>1760.770</td>\n",
              "      <td>2.372130e+03</td>\n",
              "      <td>3.744000e+03</td>\n",
              "    </tr>\n",
              "    <tr>\n",
              "      <th>high</th>\n",
              "      <td>1258.0</td>\n",
              "      <td>1.884496e+03</td>\n",
              "      <td>8.591082e+02</td>\n",
              "      <td>743.26</td>\n",
              "      <td>1.106428e+03</td>\n",
              "      <td>1777.565</td>\n",
              "      <td>2.405775e+03</td>\n",
              "      <td>3.773078e+03</td>\n",
              "    </tr>\n",
              "    <tr>\n",
              "      <th>low</th>\n",
              "      <td>1258.0</td>\n",
              "      <td>1.843615e+03</td>\n",
              "      <td>8.367251e+02</td>\n",
              "      <td>710.10</td>\n",
              "      <td>1.087282e+03</td>\n",
              "      <td>1743.270</td>\n",
              "      <td>2.341784e+03</td>\n",
              "      <td>3.696793e+03</td>\n",
              "    </tr>\n",
              "    <tr>\n",
              "      <th>close</th>\n",
              "      <td>1258.0</td>\n",
              "      <td>1.864638e+03</td>\n",
              "      <td>8.476049e+02</td>\n",
              "      <td>719.07</td>\n",
              "      <td>1.101633e+03</td>\n",
              "      <td>1762.010</td>\n",
              "      <td>2.374427e+03</td>\n",
              "      <td>3.731410e+03</td>\n",
              "    </tr>\n",
              "    <tr>\n",
              "      <th>volume</th>\n",
              "      <td>1258.0</td>\n",
              "      <td>4.276295e+06</td>\n",
              "      <td>2.099220e+06</td>\n",
              "      <td>881337.00</td>\n",
              "      <td>2.890146e+06</td>\n",
              "      <td>3694802.500</td>\n",
              "      <td>5.115194e+06</td>\n",
              "      <td>1.655260e+07</td>\n",
              "    </tr>\n",
              "  </tbody>\n",
              "</table>\n",
              "</div>"
            ],
            "text/plain": [
              "         count          mean  ...           75%           max\n",
              "open    1258.0  1.865338e+03  ...  2.372130e+03  3.744000e+03\n",
              "high    1258.0  1.884496e+03  ...  2.405775e+03  3.773078e+03\n",
              "low     1258.0  1.843615e+03  ...  2.341784e+03  3.696793e+03\n",
              "close   1258.0  1.864638e+03  ...  2.374427e+03  3.731410e+03\n",
              "volume  1258.0  4.276295e+06  ...  5.115194e+06  1.655260e+07\n",
              "\n",
              "[5 rows x 8 columns]"
            ]
          },
          "metadata": {
            "tags": []
          },
          "execution_count": 11
        }
      ]
    },
    {
      "cell_type": "code",
      "metadata": {
        "colab": {
          "base_uri": "https://localhost:8080/",
          "height": 450
        },
        "id": "DlE6sfdMUXPp",
        "outputId": "6509d46d-94f2-484b-b833-44c2264f9c84"
      },
      "source": [
        "df = df.head(100)\n",
        "df"
      ],
      "execution_count": 14,
      "outputs": [
        {
          "output_type": "execute_result",
          "data": {
            "text/html": [
              "<div>\n",
              "<style scoped>\n",
              "    .dataframe tbody tr th:only-of-type {\n",
              "        vertical-align: middle;\n",
              "    }\n",
              "\n",
              "    .dataframe tbody tr th {\n",
              "        vertical-align: top;\n",
              "    }\n",
              "\n",
              "    .dataframe thead th {\n",
              "        text-align: right;\n",
              "    }\n",
              "</style>\n",
              "<table border=\"1\" class=\"dataframe\">\n",
              "  <thead>\n",
              "    <tr style=\"text-align: right;\">\n",
              "      <th></th>\n",
              "      <th>open</th>\n",
              "      <th>high</th>\n",
              "      <th>low</th>\n",
              "      <th>close</th>\n",
              "      <th>volume</th>\n",
              "    </tr>\n",
              "    <tr>\n",
              "      <th>Date</th>\n",
              "      <th></th>\n",
              "      <th></th>\n",
              "      <th></th>\n",
              "      <th></th>\n",
              "      <th></th>\n",
              "    </tr>\n",
              "  </thead>\n",
              "  <tbody>\n",
              "    <tr>\n",
              "      <th>2021-07-30</th>\n",
              "      <td>3347.95</td>\n",
              "      <td>3368.1400</td>\n",
              "      <td>3306.9800</td>\n",
              "      <td>3327.59</td>\n",
              "      <td>9965593</td>\n",
              "    </tr>\n",
              "    <tr>\n",
              "      <th>2021-07-29</th>\n",
              "      <td>3627.75</td>\n",
              "      <td>3637.9500</td>\n",
              "      <td>3580.0100</td>\n",
              "      <td>3599.92</td>\n",
              "      <td>5519952</td>\n",
              "    </tr>\n",
              "    <tr>\n",
              "      <th>2021-07-28</th>\n",
              "      <td>3633.78</td>\n",
              "      <td>3658.4204</td>\n",
              "      <td>3601.0000</td>\n",
              "      <td>3630.32</td>\n",
              "      <td>2999378</td>\n",
              "    </tr>\n",
              "    <tr>\n",
              "      <th>2021-07-27</th>\n",
              "      <td>3698.50</td>\n",
              "      <td>3698.5000</td>\n",
              "      <td>3586.1500</td>\n",
              "      <td>3626.39</td>\n",
              "      <td>4131890</td>\n",
              "    </tr>\n",
              "    <tr>\n",
              "      <th>2021-07-26</th>\n",
              "      <td>3673.17</td>\n",
              "      <td>3712.0800</td>\n",
              "      <td>3647.2500</td>\n",
              "      <td>3699.82</td>\n",
              "      <td>2900068</td>\n",
              "    </tr>\n",
              "    <tr>\n",
              "      <th>...</th>\n",
              "      <td>...</td>\n",
              "      <td>...</td>\n",
              "      <td>...</td>\n",
              "      <td>...</td>\n",
              "      <td>...</td>\n",
              "    </tr>\n",
              "    <tr>\n",
              "      <th>2021-03-16</th>\n",
              "      <td>3104.97</td>\n",
              "      <td>3128.9100</td>\n",
              "      <td>3075.8601</td>\n",
              "      <td>3091.86</td>\n",
              "      <td>2538764</td>\n",
              "    </tr>\n",
              "    <tr>\n",
              "      <th>2021-03-15</th>\n",
              "      <td>3074.57</td>\n",
              "      <td>3082.2400</td>\n",
              "      <td>3032.0900</td>\n",
              "      <td>3081.68</td>\n",
              "      <td>2918592</td>\n",
              "    </tr>\n",
              "    <tr>\n",
              "      <th>2021-03-12</th>\n",
              "      <td>3075.00</td>\n",
              "      <td>3098.9800</td>\n",
              "      <td>3045.5000</td>\n",
              "      <td>3089.49</td>\n",
              "      <td>2421888</td>\n",
              "    </tr>\n",
              "    <tr>\n",
              "      <th>2021-03-11</th>\n",
              "      <td>3104.01</td>\n",
              "      <td>3131.7843</td>\n",
              "      <td>3082.9300</td>\n",
              "      <td>3113.59</td>\n",
              "      <td>2776391</td>\n",
              "    </tr>\n",
              "    <tr>\n",
              "      <th>2021-03-10</th>\n",
              "      <td>3098.45</td>\n",
              "      <td>3116.4600</td>\n",
              "      <td>3030.0500</td>\n",
              "      <td>3057.64</td>\n",
              "      <td>3012489</td>\n",
              "    </tr>\n",
              "  </tbody>\n",
              "</table>\n",
              "<p>100 rows × 5 columns</p>\n",
              "</div>"
            ],
            "text/plain": [
              "               open       high        low    close   volume\n",
              "Date                                                       \n",
              "2021-07-30  3347.95  3368.1400  3306.9800  3327.59  9965593\n",
              "2021-07-29  3627.75  3637.9500  3580.0100  3599.92  5519952\n",
              "2021-07-28  3633.78  3658.4204  3601.0000  3630.32  2999378\n",
              "2021-07-27  3698.50  3698.5000  3586.1500  3626.39  4131890\n",
              "2021-07-26  3673.17  3712.0800  3647.2500  3699.82  2900068\n",
              "...             ...        ...        ...      ...      ...\n",
              "2021-03-16  3104.97  3128.9100  3075.8601  3091.86  2538764\n",
              "2021-03-15  3074.57  3082.2400  3032.0900  3081.68  2918592\n",
              "2021-03-12  3075.00  3098.9800  3045.5000  3089.49  2421888\n",
              "2021-03-11  3104.01  3131.7843  3082.9300  3113.59  2776391\n",
              "2021-03-10  3098.45  3116.4600  3030.0500  3057.64  3012489\n",
              "\n",
              "[100 rows x 5 columns]"
            ]
          },
          "metadata": {
            "tags": []
          },
          "execution_count": 14
        }
      ]
    },
    {
      "cell_type": "markdown",
      "metadata": {
        "id": "8nLS6YQ8WV0N"
      },
      "source": [
        "##Wycinanie kolumn"
      ]
    },
    {
      "cell_type": "code",
      "metadata": {
        "colab": {
          "base_uri": "https://localhost:8080/"
        },
        "id": "Xt9_3FNBUxr6",
        "outputId": "6f0ab81f-f20d-47ec-fe11-b3dccfb2853c"
      },
      "source": [
        "df.open"
      ],
      "execution_count": 16,
      "outputs": [
        {
          "output_type": "execute_result",
          "data": {
            "text/plain": [
              "Date\n",
              "2021-07-30    3347.95\n",
              "2021-07-29    3627.75\n",
              "2021-07-28    3633.78\n",
              "2021-07-27    3698.50\n",
              "2021-07-26    3673.17\n",
              "               ...   \n",
              "2021-03-16    3104.97\n",
              "2021-03-15    3074.57\n",
              "2021-03-12    3075.00\n",
              "2021-03-11    3104.01\n",
              "2021-03-10    3098.45\n",
              "Name: open, Length: 100, dtype: float64"
            ]
          },
          "metadata": {
            "tags": []
          },
          "execution_count": 16
        }
      ]
    },
    {
      "cell_type": "code",
      "metadata": {
        "colab": {
          "base_uri": "https://localhost:8080/",
          "height": 450
        },
        "id": "43aFxymDVEZw",
        "outputId": "f4d1d77a-9215-4ded-85d8-051a39c709f5"
      },
      "source": [
        "df[['open','close']]"
      ],
      "execution_count": 18,
      "outputs": [
        {
          "output_type": "execute_result",
          "data": {
            "text/html": [
              "<div>\n",
              "<style scoped>\n",
              "    .dataframe tbody tr th:only-of-type {\n",
              "        vertical-align: middle;\n",
              "    }\n",
              "\n",
              "    .dataframe tbody tr th {\n",
              "        vertical-align: top;\n",
              "    }\n",
              "\n",
              "    .dataframe thead th {\n",
              "        text-align: right;\n",
              "    }\n",
              "</style>\n",
              "<table border=\"1\" class=\"dataframe\">\n",
              "  <thead>\n",
              "    <tr style=\"text-align: right;\">\n",
              "      <th></th>\n",
              "      <th>open</th>\n",
              "      <th>close</th>\n",
              "    </tr>\n",
              "    <tr>\n",
              "      <th>Date</th>\n",
              "      <th></th>\n",
              "      <th></th>\n",
              "    </tr>\n",
              "  </thead>\n",
              "  <tbody>\n",
              "    <tr>\n",
              "      <th>2021-07-30</th>\n",
              "      <td>3347.95</td>\n",
              "      <td>3327.59</td>\n",
              "    </tr>\n",
              "    <tr>\n",
              "      <th>2021-07-29</th>\n",
              "      <td>3627.75</td>\n",
              "      <td>3599.92</td>\n",
              "    </tr>\n",
              "    <tr>\n",
              "      <th>2021-07-28</th>\n",
              "      <td>3633.78</td>\n",
              "      <td>3630.32</td>\n",
              "    </tr>\n",
              "    <tr>\n",
              "      <th>2021-07-27</th>\n",
              "      <td>3698.50</td>\n",
              "      <td>3626.39</td>\n",
              "    </tr>\n",
              "    <tr>\n",
              "      <th>2021-07-26</th>\n",
              "      <td>3673.17</td>\n",
              "      <td>3699.82</td>\n",
              "    </tr>\n",
              "    <tr>\n",
              "      <th>...</th>\n",
              "      <td>...</td>\n",
              "      <td>...</td>\n",
              "    </tr>\n",
              "    <tr>\n",
              "      <th>2021-03-16</th>\n",
              "      <td>3104.97</td>\n",
              "      <td>3091.86</td>\n",
              "    </tr>\n",
              "    <tr>\n",
              "      <th>2021-03-15</th>\n",
              "      <td>3074.57</td>\n",
              "      <td>3081.68</td>\n",
              "    </tr>\n",
              "    <tr>\n",
              "      <th>2021-03-12</th>\n",
              "      <td>3075.00</td>\n",
              "      <td>3089.49</td>\n",
              "    </tr>\n",
              "    <tr>\n",
              "      <th>2021-03-11</th>\n",
              "      <td>3104.01</td>\n",
              "      <td>3113.59</td>\n",
              "    </tr>\n",
              "    <tr>\n",
              "      <th>2021-03-10</th>\n",
              "      <td>3098.45</td>\n",
              "      <td>3057.64</td>\n",
              "    </tr>\n",
              "  </tbody>\n",
              "</table>\n",
              "<p>100 rows × 2 columns</p>\n",
              "</div>"
            ],
            "text/plain": [
              "               open    close\n",
              "Date                        \n",
              "2021-07-30  3347.95  3327.59\n",
              "2021-07-29  3627.75  3599.92\n",
              "2021-07-28  3633.78  3630.32\n",
              "2021-07-27  3698.50  3626.39\n",
              "2021-07-26  3673.17  3699.82\n",
              "...             ...      ...\n",
              "2021-03-16  3104.97  3091.86\n",
              "2021-03-15  3074.57  3081.68\n",
              "2021-03-12  3075.00  3089.49\n",
              "2021-03-11  3104.01  3113.59\n",
              "2021-03-10  3098.45  3057.64\n",
              "\n",
              "[100 rows x 2 columns]"
            ]
          },
          "metadata": {
            "tags": []
          },
          "execution_count": 18
        }
      ]
    },
    {
      "cell_type": "code",
      "metadata": {
        "colab": {
          "base_uri": "https://localhost:8080/",
          "height": 450
        },
        "id": "LSQq7uSnVOcW",
        "outputId": "42a0db8d-5dd5-4be7-b008-4895a6a1dd40"
      },
      "source": [
        "df.iloc[:,[0,3]]"
      ],
      "execution_count": 19,
      "outputs": [
        {
          "output_type": "execute_result",
          "data": {
            "text/html": [
              "<div>\n",
              "<style scoped>\n",
              "    .dataframe tbody tr th:only-of-type {\n",
              "        vertical-align: middle;\n",
              "    }\n",
              "\n",
              "    .dataframe tbody tr th {\n",
              "        vertical-align: top;\n",
              "    }\n",
              "\n",
              "    .dataframe thead th {\n",
              "        text-align: right;\n",
              "    }\n",
              "</style>\n",
              "<table border=\"1\" class=\"dataframe\">\n",
              "  <thead>\n",
              "    <tr style=\"text-align: right;\">\n",
              "      <th></th>\n",
              "      <th>open</th>\n",
              "      <th>close</th>\n",
              "    </tr>\n",
              "    <tr>\n",
              "      <th>Date</th>\n",
              "      <th></th>\n",
              "      <th></th>\n",
              "    </tr>\n",
              "  </thead>\n",
              "  <tbody>\n",
              "    <tr>\n",
              "      <th>2021-07-30</th>\n",
              "      <td>3347.95</td>\n",
              "      <td>3327.59</td>\n",
              "    </tr>\n",
              "    <tr>\n",
              "      <th>2021-07-29</th>\n",
              "      <td>3627.75</td>\n",
              "      <td>3599.92</td>\n",
              "    </tr>\n",
              "    <tr>\n",
              "      <th>2021-07-28</th>\n",
              "      <td>3633.78</td>\n",
              "      <td>3630.32</td>\n",
              "    </tr>\n",
              "    <tr>\n",
              "      <th>2021-07-27</th>\n",
              "      <td>3698.50</td>\n",
              "      <td>3626.39</td>\n",
              "    </tr>\n",
              "    <tr>\n",
              "      <th>2021-07-26</th>\n",
              "      <td>3673.17</td>\n",
              "      <td>3699.82</td>\n",
              "    </tr>\n",
              "    <tr>\n",
              "      <th>...</th>\n",
              "      <td>...</td>\n",
              "      <td>...</td>\n",
              "    </tr>\n",
              "    <tr>\n",
              "      <th>2021-03-16</th>\n",
              "      <td>3104.97</td>\n",
              "      <td>3091.86</td>\n",
              "    </tr>\n",
              "    <tr>\n",
              "      <th>2021-03-15</th>\n",
              "      <td>3074.57</td>\n",
              "      <td>3081.68</td>\n",
              "    </tr>\n",
              "    <tr>\n",
              "      <th>2021-03-12</th>\n",
              "      <td>3075.00</td>\n",
              "      <td>3089.49</td>\n",
              "    </tr>\n",
              "    <tr>\n",
              "      <th>2021-03-11</th>\n",
              "      <td>3104.01</td>\n",
              "      <td>3113.59</td>\n",
              "    </tr>\n",
              "    <tr>\n",
              "      <th>2021-03-10</th>\n",
              "      <td>3098.45</td>\n",
              "      <td>3057.64</td>\n",
              "    </tr>\n",
              "  </tbody>\n",
              "</table>\n",
              "<p>100 rows × 2 columns</p>\n",
              "</div>"
            ],
            "text/plain": [
              "               open    close\n",
              "Date                        \n",
              "2021-07-30  3347.95  3327.59\n",
              "2021-07-29  3627.75  3599.92\n",
              "2021-07-28  3633.78  3630.32\n",
              "2021-07-27  3698.50  3626.39\n",
              "2021-07-26  3673.17  3699.82\n",
              "...             ...      ...\n",
              "2021-03-16  3104.97  3091.86\n",
              "2021-03-15  3074.57  3081.68\n",
              "2021-03-12  3075.00  3089.49\n",
              "2021-03-11  3104.01  3113.59\n",
              "2021-03-10  3098.45  3057.64\n",
              "\n",
              "[100 rows x 2 columns]"
            ]
          },
          "metadata": {
            "tags": []
          },
          "execution_count": 19
        }
      ]
    },
    {
      "cell_type": "code",
      "metadata": {
        "colab": {
          "base_uri": "https://localhost:8080/",
          "height": 204
        },
        "id": "4EDj3ITqVy9J",
        "outputId": "7d6f7e20-5f8f-4eb9-d6fb-55344b6cb089"
      },
      "source": [
        "df.iloc[0:4,[0,3]]"
      ],
      "execution_count": 21,
      "outputs": [
        {
          "output_type": "execute_result",
          "data": {
            "text/html": [
              "<div>\n",
              "<style scoped>\n",
              "    .dataframe tbody tr th:only-of-type {\n",
              "        vertical-align: middle;\n",
              "    }\n",
              "\n",
              "    .dataframe tbody tr th {\n",
              "        vertical-align: top;\n",
              "    }\n",
              "\n",
              "    .dataframe thead th {\n",
              "        text-align: right;\n",
              "    }\n",
              "</style>\n",
              "<table border=\"1\" class=\"dataframe\">\n",
              "  <thead>\n",
              "    <tr style=\"text-align: right;\">\n",
              "      <th></th>\n",
              "      <th>open</th>\n",
              "      <th>close</th>\n",
              "    </tr>\n",
              "    <tr>\n",
              "      <th>Date</th>\n",
              "      <th></th>\n",
              "      <th></th>\n",
              "    </tr>\n",
              "  </thead>\n",
              "  <tbody>\n",
              "    <tr>\n",
              "      <th>2021-07-30</th>\n",
              "      <td>3347.95</td>\n",
              "      <td>3327.59</td>\n",
              "    </tr>\n",
              "    <tr>\n",
              "      <th>2021-07-29</th>\n",
              "      <td>3627.75</td>\n",
              "      <td>3599.92</td>\n",
              "    </tr>\n",
              "    <tr>\n",
              "      <th>2021-07-28</th>\n",
              "      <td>3633.78</td>\n",
              "      <td>3630.32</td>\n",
              "    </tr>\n",
              "    <tr>\n",
              "      <th>2021-07-27</th>\n",
              "      <td>3698.50</td>\n",
              "      <td>3626.39</td>\n",
              "    </tr>\n",
              "  </tbody>\n",
              "</table>\n",
              "</div>"
            ],
            "text/plain": [
              "               open    close\n",
              "Date                        \n",
              "2021-07-30  3347.95  3327.59\n",
              "2021-07-29  3627.75  3599.92\n",
              "2021-07-28  3633.78  3630.32\n",
              "2021-07-27  3698.50  3626.39"
            ]
          },
          "metadata": {
            "tags": []
          },
          "execution_count": 21
        }
      ]
    },
    {
      "cell_type": "code",
      "metadata": {
        "colab": {
          "base_uri": "https://localhost:8080/",
          "height": 450
        },
        "id": "TSJTzJunWFto",
        "outputId": "e8b97342-bbbc-44e3-da1f-ca3151c3c3be"
      },
      "source": [
        "df.iloc[:, -3:]"
      ],
      "execution_count": 22,
      "outputs": [
        {
          "output_type": "execute_result",
          "data": {
            "text/html": [
              "<div>\n",
              "<style scoped>\n",
              "    .dataframe tbody tr th:only-of-type {\n",
              "        vertical-align: middle;\n",
              "    }\n",
              "\n",
              "    .dataframe tbody tr th {\n",
              "        vertical-align: top;\n",
              "    }\n",
              "\n",
              "    .dataframe thead th {\n",
              "        text-align: right;\n",
              "    }\n",
              "</style>\n",
              "<table border=\"1\" class=\"dataframe\">\n",
              "  <thead>\n",
              "    <tr style=\"text-align: right;\">\n",
              "      <th></th>\n",
              "      <th>low</th>\n",
              "      <th>close</th>\n",
              "      <th>volume</th>\n",
              "    </tr>\n",
              "    <tr>\n",
              "      <th>Date</th>\n",
              "      <th></th>\n",
              "      <th></th>\n",
              "      <th></th>\n",
              "    </tr>\n",
              "  </thead>\n",
              "  <tbody>\n",
              "    <tr>\n",
              "      <th>2021-07-30</th>\n",
              "      <td>3306.9800</td>\n",
              "      <td>3327.59</td>\n",
              "      <td>9965593</td>\n",
              "    </tr>\n",
              "    <tr>\n",
              "      <th>2021-07-29</th>\n",
              "      <td>3580.0100</td>\n",
              "      <td>3599.92</td>\n",
              "      <td>5519952</td>\n",
              "    </tr>\n",
              "    <tr>\n",
              "      <th>2021-07-28</th>\n",
              "      <td>3601.0000</td>\n",
              "      <td>3630.32</td>\n",
              "      <td>2999378</td>\n",
              "    </tr>\n",
              "    <tr>\n",
              "      <th>2021-07-27</th>\n",
              "      <td>3586.1500</td>\n",
              "      <td>3626.39</td>\n",
              "      <td>4131890</td>\n",
              "    </tr>\n",
              "    <tr>\n",
              "      <th>2021-07-26</th>\n",
              "      <td>3647.2500</td>\n",
              "      <td>3699.82</td>\n",
              "      <td>2900068</td>\n",
              "    </tr>\n",
              "    <tr>\n",
              "      <th>...</th>\n",
              "      <td>...</td>\n",
              "      <td>...</td>\n",
              "      <td>...</td>\n",
              "    </tr>\n",
              "    <tr>\n",
              "      <th>2021-03-16</th>\n",
              "      <td>3075.8601</td>\n",
              "      <td>3091.86</td>\n",
              "      <td>2538764</td>\n",
              "    </tr>\n",
              "    <tr>\n",
              "      <th>2021-03-15</th>\n",
              "      <td>3032.0900</td>\n",
              "      <td>3081.68</td>\n",
              "      <td>2918592</td>\n",
              "    </tr>\n",
              "    <tr>\n",
              "      <th>2021-03-12</th>\n",
              "      <td>3045.5000</td>\n",
              "      <td>3089.49</td>\n",
              "      <td>2421888</td>\n",
              "    </tr>\n",
              "    <tr>\n",
              "      <th>2021-03-11</th>\n",
              "      <td>3082.9300</td>\n",
              "      <td>3113.59</td>\n",
              "      <td>2776391</td>\n",
              "    </tr>\n",
              "    <tr>\n",
              "      <th>2021-03-10</th>\n",
              "      <td>3030.0500</td>\n",
              "      <td>3057.64</td>\n",
              "      <td>3012489</td>\n",
              "    </tr>\n",
              "  </tbody>\n",
              "</table>\n",
              "<p>100 rows × 3 columns</p>\n",
              "</div>"
            ],
            "text/plain": [
              "                  low    close   volume\n",
              "Date                                   \n",
              "2021-07-30  3306.9800  3327.59  9965593\n",
              "2021-07-29  3580.0100  3599.92  5519952\n",
              "2021-07-28  3601.0000  3630.32  2999378\n",
              "2021-07-27  3586.1500  3626.39  4131890\n",
              "2021-07-26  3647.2500  3699.82  2900068\n",
              "...               ...      ...      ...\n",
              "2021-03-16  3075.8601  3091.86  2538764\n",
              "2021-03-15  3032.0900  3081.68  2918592\n",
              "2021-03-12  3045.5000  3089.49  2421888\n",
              "2021-03-11  3082.9300  3113.59  2776391\n",
              "2021-03-10  3030.0500  3057.64  3012489\n",
              "\n",
              "[100 rows x 3 columns]"
            ]
          },
          "metadata": {
            "tags": []
          },
          "execution_count": 22
        }
      ]
    },
    {
      "cell_type": "markdown",
      "metadata": {
        "id": "dB1uS8b9XAKT"
      },
      "source": [
        "##Wycinanie wierszy"
      ]
    },
    {
      "cell_type": "code",
      "metadata": {
        "colab": {
          "base_uri": "https://localhost:8080/"
        },
        "id": "yZhqRr3XWxKL",
        "outputId": "6adad2e0-a8f4-4664-d1fe-211825a54009"
      },
      "source": [
        "df.iloc[0]"
      ],
      "execution_count": 23,
      "outputs": [
        {
          "output_type": "execute_result",
          "data": {
            "text/plain": [
              "open         3347.95\n",
              "high         3368.14\n",
              "low          3306.98\n",
              "close        3327.59\n",
              "volume    9965593.00\n",
              "Name: 2021-07-30 00:00:00, dtype: float64"
            ]
          },
          "metadata": {
            "tags": []
          },
          "execution_count": 23
        }
      ]
    },
    {
      "cell_type": "code",
      "metadata": {
        "colab": {
          "base_uri": "https://localhost:8080/",
          "height": 173
        },
        "id": "zN0MYkhoXF9I",
        "outputId": "22397bd0-4e09-4c6f-e62b-1917619c66e4"
      },
      "source": [
        "df.iloc[:3]"
      ],
      "execution_count": 24,
      "outputs": [
        {
          "output_type": "execute_result",
          "data": {
            "text/html": [
              "<div>\n",
              "<style scoped>\n",
              "    .dataframe tbody tr th:only-of-type {\n",
              "        vertical-align: middle;\n",
              "    }\n",
              "\n",
              "    .dataframe tbody tr th {\n",
              "        vertical-align: top;\n",
              "    }\n",
              "\n",
              "    .dataframe thead th {\n",
              "        text-align: right;\n",
              "    }\n",
              "</style>\n",
              "<table border=\"1\" class=\"dataframe\">\n",
              "  <thead>\n",
              "    <tr style=\"text-align: right;\">\n",
              "      <th></th>\n",
              "      <th>open</th>\n",
              "      <th>high</th>\n",
              "      <th>low</th>\n",
              "      <th>close</th>\n",
              "      <th>volume</th>\n",
              "    </tr>\n",
              "    <tr>\n",
              "      <th>Date</th>\n",
              "      <th></th>\n",
              "      <th></th>\n",
              "      <th></th>\n",
              "      <th></th>\n",
              "      <th></th>\n",
              "    </tr>\n",
              "  </thead>\n",
              "  <tbody>\n",
              "    <tr>\n",
              "      <th>2021-07-30</th>\n",
              "      <td>3347.95</td>\n",
              "      <td>3368.1400</td>\n",
              "      <td>3306.98</td>\n",
              "      <td>3327.59</td>\n",
              "      <td>9965593</td>\n",
              "    </tr>\n",
              "    <tr>\n",
              "      <th>2021-07-29</th>\n",
              "      <td>3627.75</td>\n",
              "      <td>3637.9500</td>\n",
              "      <td>3580.01</td>\n",
              "      <td>3599.92</td>\n",
              "      <td>5519952</td>\n",
              "    </tr>\n",
              "    <tr>\n",
              "      <th>2021-07-28</th>\n",
              "      <td>3633.78</td>\n",
              "      <td>3658.4204</td>\n",
              "      <td>3601.00</td>\n",
              "      <td>3630.32</td>\n",
              "      <td>2999378</td>\n",
              "    </tr>\n",
              "  </tbody>\n",
              "</table>\n",
              "</div>"
            ],
            "text/plain": [
              "               open       high      low    close   volume\n",
              "Date                                                     \n",
              "2021-07-30  3347.95  3368.1400  3306.98  3327.59  9965593\n",
              "2021-07-29  3627.75  3637.9500  3580.01  3599.92  5519952\n",
              "2021-07-28  3633.78  3658.4204  3601.00  3630.32  2999378"
            ]
          },
          "metadata": {
            "tags": []
          },
          "execution_count": 24
        }
      ]
    },
    {
      "cell_type": "code",
      "metadata": {
        "colab": {
          "base_uri": "https://localhost:8080/",
          "height": 111
        },
        "id": "Kw5u27UOXSWm",
        "outputId": "96ea73e2-eb5a-43cc-d39c-e8c93f429fb7"
      },
      "source": [
        "df.loc['2021-07-29']"
      ],
      "execution_count": 25,
      "outputs": [
        {
          "output_type": "execute_result",
          "data": {
            "text/html": [
              "<div>\n",
              "<style scoped>\n",
              "    .dataframe tbody tr th:only-of-type {\n",
              "        vertical-align: middle;\n",
              "    }\n",
              "\n",
              "    .dataframe tbody tr th {\n",
              "        vertical-align: top;\n",
              "    }\n",
              "\n",
              "    .dataframe thead th {\n",
              "        text-align: right;\n",
              "    }\n",
              "</style>\n",
              "<table border=\"1\" class=\"dataframe\">\n",
              "  <thead>\n",
              "    <tr style=\"text-align: right;\">\n",
              "      <th></th>\n",
              "      <th>open</th>\n",
              "      <th>high</th>\n",
              "      <th>low</th>\n",
              "      <th>close</th>\n",
              "      <th>volume</th>\n",
              "    </tr>\n",
              "    <tr>\n",
              "      <th>Date</th>\n",
              "      <th></th>\n",
              "      <th></th>\n",
              "      <th></th>\n",
              "      <th></th>\n",
              "      <th></th>\n",
              "    </tr>\n",
              "  </thead>\n",
              "  <tbody>\n",
              "    <tr>\n",
              "      <th>2021-07-29</th>\n",
              "      <td>3627.75</td>\n",
              "      <td>3637.95</td>\n",
              "      <td>3580.01</td>\n",
              "      <td>3599.92</td>\n",
              "      <td>5519952</td>\n",
              "    </tr>\n",
              "  </tbody>\n",
              "</table>\n",
              "</div>"
            ],
            "text/plain": [
              "               open     high      low    close   volume\n",
              "Date                                                   \n",
              "2021-07-29  3627.75  3637.95  3580.01  3599.92  5519952"
            ]
          },
          "metadata": {
            "tags": []
          },
          "execution_count": 25
        }
      ]
    },
    {
      "cell_type": "markdown",
      "metadata": {
        "id": "pnC73Uy6X3sk"
      },
      "source": [
        "##Obliczanie nowych kolumn"
      ]
    },
    {
      "cell_type": "code",
      "metadata": {
        "id": "FNoWyvqMXegF"
      },
      "source": [
        ""
      ],
      "execution_count": null,
      "outputs": []
    }
  ]
}