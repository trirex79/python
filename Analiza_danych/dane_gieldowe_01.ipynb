{
  "nbformat": 4,
  "nbformat_minor": 0,
  "metadata": {
    "colab": {
      "name": "dane_gieldowe_01.ipynb",
      "provenance": [],
      "collapsed_sections": [
        "dB1uS8b9XAKT",
        "pnC73Uy6X3sk"
      ],
      "authorship_tag": "ABX9TyPVXSkonHxUAMb4VA3nt3Kq",
      "include_colab_link": true
    },
    "kernelspec": {
      "name": "python3",
      "display_name": "Python 3"
    },
    "language_info": {
      "name": "python"
    }
  },
  "cells": [
    {
      "cell_type": "markdown",
      "metadata": {
        "id": "view-in-github",
        "colab_type": "text"
      },
      "source": [
        "<a href=\"https://colab.research.google.com/github/trirex79/python/blob/main/Analiza_danych/dane_gieldowe_01.ipynb\" target=\"_parent\"><img src=\"https://colab.research.google.com/assets/colab-badge.svg\" alt=\"Open In Colab\"/></a>"
      ]
    },
    {
      "cell_type": "code",
      "metadata": {
        "id": "c8oUdjTTQNBz"
      },
      "source": [
        ""
      ],
      "execution_count": null,
      "outputs": []
    },
    {
      "cell_type": "markdown",
      "metadata": {
        "id": "WQD-U1w_QmeB"
      },
      "source": [
        "#Import bibliotek"
      ]
    },
    {
      "cell_type": "code",
      "metadata": {
        "colab": {
          "base_uri": "https://localhost:8080/"
        },
        "id": "lPwAmy5dQqs1",
        "outputId": "c745dde4-e96f-4688-c3c3-84c8d3433471"
      },
      "source": [
        "\n",
        "import numpy as np\n",
        "import pandas as pd\n",
        "\n",
        "print(f'Numpy: {np.__version__}')\n",
        "print(f'Pandas: {pd.__version__}')"
      ],
      "execution_count": null,
      "outputs": [
        {
          "output_type": "stream",
          "text": [
            "Numpy: 1.19.5\n",
            "Pandas: 1.1.5\n"
          ],
          "name": "stdout"
        }
      ]
    },
    {
      "cell_type": "markdown",
      "metadata": {
        "id": "40TQkFzCQyqx"
      },
      "source": [
        "# Ładowanie danych"
      ]
    },
    {
      "cell_type": "code",
      "metadata": {
        "colab": {
          "base_uri": "https://localhost:8080/"
        },
        "id": "k94KUmNZQrjN",
        "outputId": "03ddbe1c-2dec-4888-c400-67db0cbbce88"
      },
      "source": [
        "\n",
        "def fetch_financial_data(company='AMZN'):\n",
        "    \"\"\"Pobiera dane dotyczące notowań spółek na giełdzie według symboli\n",
        "    na serwisie stooq.pl\"\"\"\n",
        "    import pandas_datareader.data as web\n",
        "    return web.DataReader(name=company, data_source='stooq')\n",
        "\n",
        "df = fetch_financial_data()\n",
        "df.info()"
      ],
      "execution_count": null,
      "outputs": [
        {
          "output_type": "stream",
          "text": [
            "<class 'pandas.core.frame.DataFrame'>\n",
            "DatetimeIndex: 1257 entries, 2021-08-18 to 2016-08-22\n",
            "Data columns (total 5 columns):\n",
            " #   Column  Non-Null Count  Dtype  \n",
            "---  ------  --------------  -----  \n",
            " 0   Open    1257 non-null   float64\n",
            " 1   High    1257 non-null   float64\n",
            " 2   Low     1257 non-null   float64\n",
            " 3   Close   1257 non-null   float64\n",
            " 4   Volume  1257 non-null   int64  \n",
            "dtypes: float64(4), int64(1)\n",
            "memory usage: 58.9 KB\n"
          ],
          "name": "stdout"
        }
      ]
    },
    {
      "cell_type": "code",
      "metadata": {
        "colab": {
          "base_uri": "https://localhost:8080/",
          "height": 450
        },
        "id": "KpMSNrlKQ3Bz",
        "outputId": "32190204-36ab-4519-bc81-bc2b04e4f374"
      },
      "source": [
        "df"
      ],
      "execution_count": null,
      "outputs": [
        {
          "output_type": "execute_result",
          "data": {
            "text/html": [
              "<div>\n",
              "<style scoped>\n",
              "    .dataframe tbody tr th:only-of-type {\n",
              "        vertical-align: middle;\n",
              "    }\n",
              "\n",
              "    .dataframe tbody tr th {\n",
              "        vertical-align: top;\n",
              "    }\n",
              "\n",
              "    .dataframe thead th {\n",
              "        text-align: right;\n",
              "    }\n",
              "</style>\n",
              "<table border=\"1\" class=\"dataframe\">\n",
              "  <thead>\n",
              "    <tr style=\"text-align: right;\">\n",
              "      <th></th>\n",
              "      <th>Open</th>\n",
              "      <th>High</th>\n",
              "      <th>Low</th>\n",
              "      <th>Close</th>\n",
              "      <th>Volume</th>\n",
              "    </tr>\n",
              "    <tr>\n",
              "      <th>Date</th>\n",
              "      <th></th>\n",
              "      <th></th>\n",
              "      <th></th>\n",
              "      <th></th>\n",
              "      <th></th>\n",
              "    </tr>\n",
              "  </thead>\n",
              "  <tbody>\n",
              "    <tr>\n",
              "      <th>2021-07-30</th>\n",
              "      <td>3347.95</td>\n",
              "      <td>3368.1400</td>\n",
              "      <td>3306.980</td>\n",
              "      <td>3327.59</td>\n",
              "      <td>9965593</td>\n",
              "    </tr>\n",
              "    <tr>\n",
              "      <th>2021-07-29</th>\n",
              "      <td>3627.75</td>\n",
              "      <td>3637.9500</td>\n",
              "      <td>3580.010</td>\n",
              "      <td>3599.92</td>\n",
              "      <td>5519952</td>\n",
              "    </tr>\n",
              "    <tr>\n",
              "      <th>2021-07-28</th>\n",
              "      <td>3633.78</td>\n",
              "      <td>3658.4204</td>\n",
              "      <td>3601.000</td>\n",
              "      <td>3630.32</td>\n",
              "      <td>2999378</td>\n",
              "    </tr>\n",
              "    <tr>\n",
              "      <th>2021-07-27</th>\n",
              "      <td>3698.50</td>\n",
              "      <td>3698.5000</td>\n",
              "      <td>3586.150</td>\n",
              "      <td>3626.39</td>\n",
              "      <td>4131890</td>\n",
              "    </tr>\n",
              "    <tr>\n",
              "      <th>2021-07-26</th>\n",
              "      <td>3673.17</td>\n",
              "      <td>3712.0800</td>\n",
              "      <td>3647.250</td>\n",
              "      <td>3699.82</td>\n",
              "      <td>2900068</td>\n",
              "    </tr>\n",
              "    <tr>\n",
              "      <th>...</th>\n",
              "      <td>...</td>\n",
              "      <td>...</td>\n",
              "      <td>...</td>\n",
              "      <td>...</td>\n",
              "      <td>...</td>\n",
              "    </tr>\n",
              "    <tr>\n",
              "      <th>2016-08-08</th>\n",
              "      <td>766.81</td>\n",
              "      <td>767.0000</td>\n",
              "      <td>761.015</td>\n",
              "      <td>766.56</td>\n",
              "      <td>1709639</td>\n",
              "    </tr>\n",
              "    <tr>\n",
              "      <th>2016-08-05</th>\n",
              "      <td>764.81</td>\n",
              "      <td>768.4700</td>\n",
              "      <td>763.090</td>\n",
              "      <td>765.98</td>\n",
              "      <td>2516246</td>\n",
              "    </tr>\n",
              "    <tr>\n",
              "      <th>2016-08-04</th>\n",
              "      <td>753.70</td>\n",
              "      <td>765.0000</td>\n",
              "      <td>750.350</td>\n",
              "      <td>760.77</td>\n",
              "      <td>2557512</td>\n",
              "    </tr>\n",
              "    <tr>\n",
              "      <th>2016-08-03</th>\n",
              "      <td>757.06</td>\n",
              "      <td>758.8900</td>\n",
              "      <td>752.250</td>\n",
              "      <td>754.55</td>\n",
              "      <td>3083438</td>\n",
              "    </tr>\n",
              "    <tr>\n",
              "      <th>2016-08-02</th>\n",
              "      <td>763.81</td>\n",
              "      <td>765.0100</td>\n",
              "      <td>757.020</td>\n",
              "      <td>760.58</td>\n",
              "      <td>3167836</td>\n",
              "    </tr>\n",
              "  </tbody>\n",
              "</table>\n",
              "<p>1258 rows × 5 columns</p>\n",
              "</div>"
            ],
            "text/plain": [
              "               Open       High       Low    Close   Volume\n",
              "Date                                                      \n",
              "2021-07-30  3347.95  3368.1400  3306.980  3327.59  9965593\n",
              "2021-07-29  3627.75  3637.9500  3580.010  3599.92  5519952\n",
              "2021-07-28  3633.78  3658.4204  3601.000  3630.32  2999378\n",
              "2021-07-27  3698.50  3698.5000  3586.150  3626.39  4131890\n",
              "2021-07-26  3673.17  3712.0800  3647.250  3699.82  2900068\n",
              "...             ...        ...       ...      ...      ...\n",
              "2016-08-08   766.81   767.0000   761.015   766.56  1709639\n",
              "2016-08-05   764.81   768.4700   763.090   765.98  2516246\n",
              "2016-08-04   753.70   765.0000   750.350   760.77  2557512\n",
              "2016-08-03   757.06   758.8900   752.250   754.55  3083438\n",
              "2016-08-02   763.81   765.0100   757.020   760.58  3167836\n",
              "\n",
              "[1258 rows x 5 columns]"
            ]
          },
          "metadata": {
            "tags": []
          },
          "execution_count": 3
        }
      ]
    },
    {
      "cell_type": "code",
      "metadata": {
        "colab": {
          "base_uri": "https://localhost:8080/",
          "height": 235
        },
        "id": "Rmub9SvaRDeh",
        "outputId": "a9234658-8fbf-4251-e91c-80217401ee88"
      },
      "source": [
        "df.head()"
      ],
      "execution_count": null,
      "outputs": [
        {
          "output_type": "execute_result",
          "data": {
            "text/html": [
              "<div>\n",
              "<style scoped>\n",
              "    .dataframe tbody tr th:only-of-type {\n",
              "        vertical-align: middle;\n",
              "    }\n",
              "\n",
              "    .dataframe tbody tr th {\n",
              "        vertical-align: top;\n",
              "    }\n",
              "\n",
              "    .dataframe thead th {\n",
              "        text-align: right;\n",
              "    }\n",
              "</style>\n",
              "<table border=\"1\" class=\"dataframe\">\n",
              "  <thead>\n",
              "    <tr style=\"text-align: right;\">\n",
              "      <th></th>\n",
              "      <th>Open</th>\n",
              "      <th>High</th>\n",
              "      <th>Low</th>\n",
              "      <th>Close</th>\n",
              "      <th>Volume</th>\n",
              "    </tr>\n",
              "    <tr>\n",
              "      <th>Date</th>\n",
              "      <th></th>\n",
              "      <th></th>\n",
              "      <th></th>\n",
              "      <th></th>\n",
              "      <th></th>\n",
              "    </tr>\n",
              "  </thead>\n",
              "  <tbody>\n",
              "    <tr>\n",
              "      <th>2021-07-30</th>\n",
              "      <td>3347.95</td>\n",
              "      <td>3368.1400</td>\n",
              "      <td>3306.98</td>\n",
              "      <td>3327.59</td>\n",
              "      <td>9965593</td>\n",
              "    </tr>\n",
              "    <tr>\n",
              "      <th>2021-07-29</th>\n",
              "      <td>3627.75</td>\n",
              "      <td>3637.9500</td>\n",
              "      <td>3580.01</td>\n",
              "      <td>3599.92</td>\n",
              "      <td>5519952</td>\n",
              "    </tr>\n",
              "    <tr>\n",
              "      <th>2021-07-28</th>\n",
              "      <td>3633.78</td>\n",
              "      <td>3658.4204</td>\n",
              "      <td>3601.00</td>\n",
              "      <td>3630.32</td>\n",
              "      <td>2999378</td>\n",
              "    </tr>\n",
              "    <tr>\n",
              "      <th>2021-07-27</th>\n",
              "      <td>3698.50</td>\n",
              "      <td>3698.5000</td>\n",
              "      <td>3586.15</td>\n",
              "      <td>3626.39</td>\n",
              "      <td>4131890</td>\n",
              "    </tr>\n",
              "    <tr>\n",
              "      <th>2021-07-26</th>\n",
              "      <td>3673.17</td>\n",
              "      <td>3712.0800</td>\n",
              "      <td>3647.25</td>\n",
              "      <td>3699.82</td>\n",
              "      <td>2900068</td>\n",
              "    </tr>\n",
              "  </tbody>\n",
              "</table>\n",
              "</div>"
            ],
            "text/plain": [
              "               Open       High      Low    Close   Volume\n",
              "Date                                                     \n",
              "2021-07-30  3347.95  3368.1400  3306.98  3327.59  9965593\n",
              "2021-07-29  3627.75  3637.9500  3580.01  3599.92  5519952\n",
              "2021-07-28  3633.78  3658.4204  3601.00  3630.32  2999378\n",
              "2021-07-27  3698.50  3698.5000  3586.15  3626.39  4131890\n",
              "2021-07-26  3673.17  3712.0800  3647.25  3699.82  2900068"
            ]
          },
          "metadata": {
            "tags": []
          },
          "execution_count": 4
        }
      ]
    },
    {
      "cell_type": "code",
      "metadata": {
        "colab": {
          "base_uri": "https://localhost:8080/",
          "height": 235
        },
        "id": "74SfmT2zSuxE",
        "outputId": "8e91b2ab-6ae2-4a13-feac-e0876f5c76a6"
      },
      "source": [
        "df.tail()"
      ],
      "execution_count": null,
      "outputs": [
        {
          "output_type": "execute_result",
          "data": {
            "text/html": [
              "<div>\n",
              "<style scoped>\n",
              "    .dataframe tbody tr th:only-of-type {\n",
              "        vertical-align: middle;\n",
              "    }\n",
              "\n",
              "    .dataframe tbody tr th {\n",
              "        vertical-align: top;\n",
              "    }\n",
              "\n",
              "    .dataframe thead th {\n",
              "        text-align: right;\n",
              "    }\n",
              "</style>\n",
              "<table border=\"1\" class=\"dataframe\">\n",
              "  <thead>\n",
              "    <tr style=\"text-align: right;\">\n",
              "      <th></th>\n",
              "      <th>Open</th>\n",
              "      <th>High</th>\n",
              "      <th>Low</th>\n",
              "      <th>Close</th>\n",
              "      <th>Volume</th>\n",
              "    </tr>\n",
              "    <tr>\n",
              "      <th>Date</th>\n",
              "      <th></th>\n",
              "      <th></th>\n",
              "      <th></th>\n",
              "      <th></th>\n",
              "      <th></th>\n",
              "    </tr>\n",
              "  </thead>\n",
              "  <tbody>\n",
              "    <tr>\n",
              "      <th>2016-08-08</th>\n",
              "      <td>766.81</td>\n",
              "      <td>767.00</td>\n",
              "      <td>761.015</td>\n",
              "      <td>766.56</td>\n",
              "      <td>1709639</td>\n",
              "    </tr>\n",
              "    <tr>\n",
              "      <th>2016-08-05</th>\n",
              "      <td>764.81</td>\n",
              "      <td>768.47</td>\n",
              "      <td>763.090</td>\n",
              "      <td>765.98</td>\n",
              "      <td>2516246</td>\n",
              "    </tr>\n",
              "    <tr>\n",
              "      <th>2016-08-04</th>\n",
              "      <td>753.70</td>\n",
              "      <td>765.00</td>\n",
              "      <td>750.350</td>\n",
              "      <td>760.77</td>\n",
              "      <td>2557512</td>\n",
              "    </tr>\n",
              "    <tr>\n",
              "      <th>2016-08-03</th>\n",
              "      <td>757.06</td>\n",
              "      <td>758.89</td>\n",
              "      <td>752.250</td>\n",
              "      <td>754.55</td>\n",
              "      <td>3083438</td>\n",
              "    </tr>\n",
              "    <tr>\n",
              "      <th>2016-08-02</th>\n",
              "      <td>763.81</td>\n",
              "      <td>765.01</td>\n",
              "      <td>757.020</td>\n",
              "      <td>760.58</td>\n",
              "      <td>3167836</td>\n",
              "    </tr>\n",
              "  </tbody>\n",
              "</table>\n",
              "</div>"
            ],
            "text/plain": [
              "              Open    High      Low   Close   Volume\n",
              "Date                                                \n",
              "2016-08-08  766.81  767.00  761.015  766.56  1709639\n",
              "2016-08-05  764.81  768.47  763.090  765.98  2516246\n",
              "2016-08-04  753.70  765.00  750.350  760.77  2557512\n",
              "2016-08-03  757.06  758.89  752.250  754.55  3083438\n",
              "2016-08-02  763.81  765.01  757.020  760.58  3167836"
            ]
          },
          "metadata": {
            "tags": []
          },
          "execution_count": 5
        }
      ]
    },
    {
      "cell_type": "code",
      "metadata": {
        "colab": {
          "base_uri": "https://localhost:8080/",
          "height": 173
        },
        "id": "1NEpnbD-S095",
        "outputId": "75166866-293f-47b1-a654-cb59aae45a67"
      },
      "source": [
        "df.head(3)"
      ],
      "execution_count": null,
      "outputs": [
        {
          "output_type": "execute_result",
          "data": {
            "text/html": [
              "<div>\n",
              "<style scoped>\n",
              "    .dataframe tbody tr th:only-of-type {\n",
              "        vertical-align: middle;\n",
              "    }\n",
              "\n",
              "    .dataframe tbody tr th {\n",
              "        vertical-align: top;\n",
              "    }\n",
              "\n",
              "    .dataframe thead th {\n",
              "        text-align: right;\n",
              "    }\n",
              "</style>\n",
              "<table border=\"1\" class=\"dataframe\">\n",
              "  <thead>\n",
              "    <tr style=\"text-align: right;\">\n",
              "      <th></th>\n",
              "      <th>Open</th>\n",
              "      <th>High</th>\n",
              "      <th>Low</th>\n",
              "      <th>Close</th>\n",
              "      <th>Volume</th>\n",
              "    </tr>\n",
              "    <tr>\n",
              "      <th>Date</th>\n",
              "      <th></th>\n",
              "      <th></th>\n",
              "      <th></th>\n",
              "      <th></th>\n",
              "      <th></th>\n",
              "    </tr>\n",
              "  </thead>\n",
              "  <tbody>\n",
              "    <tr>\n",
              "      <th>2021-07-30</th>\n",
              "      <td>3347.95</td>\n",
              "      <td>3368.1400</td>\n",
              "      <td>3306.98</td>\n",
              "      <td>3327.59</td>\n",
              "      <td>9965593</td>\n",
              "    </tr>\n",
              "    <tr>\n",
              "      <th>2021-07-29</th>\n",
              "      <td>3627.75</td>\n",
              "      <td>3637.9500</td>\n",
              "      <td>3580.01</td>\n",
              "      <td>3599.92</td>\n",
              "      <td>5519952</td>\n",
              "    </tr>\n",
              "    <tr>\n",
              "      <th>2021-07-28</th>\n",
              "      <td>3633.78</td>\n",
              "      <td>3658.4204</td>\n",
              "      <td>3601.00</td>\n",
              "      <td>3630.32</td>\n",
              "      <td>2999378</td>\n",
              "    </tr>\n",
              "  </tbody>\n",
              "</table>\n",
              "</div>"
            ],
            "text/plain": [
              "               Open       High      Low    Close   Volume\n",
              "Date                                                     \n",
              "2021-07-30  3347.95  3368.1400  3306.98  3327.59  9965593\n",
              "2021-07-29  3627.75  3637.9500  3580.01  3599.92  5519952\n",
              "2021-07-28  3633.78  3658.4204  3601.00  3630.32  2999378"
            ]
          },
          "metadata": {
            "tags": []
          },
          "execution_count": 6
        }
      ]
    },
    {
      "cell_type": "code",
      "metadata": {
        "colab": {
          "base_uri": "https://localhost:8080/"
        },
        "id": "BqXeWkccTGSf",
        "outputId": "97e3bdeb-278a-4a7f-ced7-e348ab5bcea7"
      },
      "source": [
        "df.columns"
      ],
      "execution_count": null,
      "outputs": [
        {
          "output_type": "execute_result",
          "data": {
            "text/plain": [
              "Index(['Open', 'High', 'Low', 'Close', 'Volume'], dtype='object')"
            ]
          },
          "metadata": {
            "tags": []
          },
          "execution_count": 7
        }
      ]
    },
    {
      "cell_type": "code",
      "metadata": {
        "colab": {
          "base_uri": "https://localhost:8080/"
        },
        "id": "iB4IEKoxTexz",
        "outputId": "05886208-4fc3-4cc7-e8a6-6d471f2a2351"
      },
      "source": [
        "df.columns = [col.lower() for col in df.columns]\n",
        "df.columns"
      ],
      "execution_count": null,
      "outputs": [
        {
          "output_type": "execute_result",
          "data": {
            "text/plain": [
              "Index(['open', 'high', 'low', 'close', 'volume'], dtype='object')"
            ]
          },
          "metadata": {
            "tags": []
          },
          "execution_count": 9
        }
      ]
    },
    {
      "cell_type": "code",
      "metadata": {
        "colab": {
          "base_uri": "https://localhost:8080/",
          "height": 204
        },
        "id": "sTy0gkoJT_sH",
        "outputId": "f8296fcf-28e5-4f34-b7e4-6b985178a70d"
      },
      "source": [
        "df.describe().T"
      ],
      "execution_count": null,
      "outputs": [
        {
          "output_type": "execute_result",
          "data": {
            "text/html": [
              "<div>\n",
              "<style scoped>\n",
              "    .dataframe tbody tr th:only-of-type {\n",
              "        vertical-align: middle;\n",
              "    }\n",
              "\n",
              "    .dataframe tbody tr th {\n",
              "        vertical-align: top;\n",
              "    }\n",
              "\n",
              "    .dataframe thead th {\n",
              "        text-align: right;\n",
              "    }\n",
              "</style>\n",
              "<table border=\"1\" class=\"dataframe\">\n",
              "  <thead>\n",
              "    <tr style=\"text-align: right;\">\n",
              "      <th></th>\n",
              "      <th>count</th>\n",
              "      <th>mean</th>\n",
              "      <th>std</th>\n",
              "      <th>min</th>\n",
              "      <th>25%</th>\n",
              "      <th>50%</th>\n",
              "      <th>75%</th>\n",
              "      <th>max</th>\n",
              "    </tr>\n",
              "  </thead>\n",
              "  <tbody>\n",
              "    <tr>\n",
              "      <th>open</th>\n",
              "      <td>1258.0</td>\n",
              "      <td>1.865338e+03</td>\n",
              "      <td>8.486117e+02</td>\n",
              "      <td>730.00</td>\n",
              "      <td>1.092115e+03</td>\n",
              "      <td>1760.770</td>\n",
              "      <td>2.372130e+03</td>\n",
              "      <td>3.744000e+03</td>\n",
              "    </tr>\n",
              "    <tr>\n",
              "      <th>high</th>\n",
              "      <td>1258.0</td>\n",
              "      <td>1.884496e+03</td>\n",
              "      <td>8.591082e+02</td>\n",
              "      <td>743.26</td>\n",
              "      <td>1.106428e+03</td>\n",
              "      <td>1777.565</td>\n",
              "      <td>2.405775e+03</td>\n",
              "      <td>3.773078e+03</td>\n",
              "    </tr>\n",
              "    <tr>\n",
              "      <th>low</th>\n",
              "      <td>1258.0</td>\n",
              "      <td>1.843615e+03</td>\n",
              "      <td>8.367251e+02</td>\n",
              "      <td>710.10</td>\n",
              "      <td>1.087282e+03</td>\n",
              "      <td>1743.270</td>\n",
              "      <td>2.341784e+03</td>\n",
              "      <td>3.696793e+03</td>\n",
              "    </tr>\n",
              "    <tr>\n",
              "      <th>close</th>\n",
              "      <td>1258.0</td>\n",
              "      <td>1.864638e+03</td>\n",
              "      <td>8.476049e+02</td>\n",
              "      <td>719.07</td>\n",
              "      <td>1.101633e+03</td>\n",
              "      <td>1762.010</td>\n",
              "      <td>2.374427e+03</td>\n",
              "      <td>3.731410e+03</td>\n",
              "    </tr>\n",
              "    <tr>\n",
              "      <th>volume</th>\n",
              "      <td>1258.0</td>\n",
              "      <td>4.276295e+06</td>\n",
              "      <td>2.099220e+06</td>\n",
              "      <td>881337.00</td>\n",
              "      <td>2.890146e+06</td>\n",
              "      <td>3694802.500</td>\n",
              "      <td>5.115194e+06</td>\n",
              "      <td>1.655260e+07</td>\n",
              "    </tr>\n",
              "  </tbody>\n",
              "</table>\n",
              "</div>"
            ],
            "text/plain": [
              "         count          mean  ...           75%           max\n",
              "open    1258.0  1.865338e+03  ...  2.372130e+03  3.744000e+03\n",
              "high    1258.0  1.884496e+03  ...  2.405775e+03  3.773078e+03\n",
              "low     1258.0  1.843615e+03  ...  2.341784e+03  3.696793e+03\n",
              "close   1258.0  1.864638e+03  ...  2.374427e+03  3.731410e+03\n",
              "volume  1258.0  4.276295e+06  ...  5.115194e+06  1.655260e+07\n",
              "\n",
              "[5 rows x 8 columns]"
            ]
          },
          "metadata": {
            "tags": []
          },
          "execution_count": 11
        }
      ]
    },
    {
      "cell_type": "code",
      "metadata": {
        "colab": {
          "base_uri": "https://localhost:8080/",
          "height": 450
        },
        "id": "DlE6sfdMUXPp",
        "outputId": "6509d46d-94f2-484b-b833-44c2264f9c84"
      },
      "source": [
        "df = df.head(100)\n",
        "df"
      ],
      "execution_count": null,
      "outputs": [
        {
          "output_type": "execute_result",
          "data": {
            "text/html": [
              "<div>\n",
              "<style scoped>\n",
              "    .dataframe tbody tr th:only-of-type {\n",
              "        vertical-align: middle;\n",
              "    }\n",
              "\n",
              "    .dataframe tbody tr th {\n",
              "        vertical-align: top;\n",
              "    }\n",
              "\n",
              "    .dataframe thead th {\n",
              "        text-align: right;\n",
              "    }\n",
              "</style>\n",
              "<table border=\"1\" class=\"dataframe\">\n",
              "  <thead>\n",
              "    <tr style=\"text-align: right;\">\n",
              "      <th></th>\n",
              "      <th>open</th>\n",
              "      <th>high</th>\n",
              "      <th>low</th>\n",
              "      <th>close</th>\n",
              "      <th>volume</th>\n",
              "    </tr>\n",
              "    <tr>\n",
              "      <th>Date</th>\n",
              "      <th></th>\n",
              "      <th></th>\n",
              "      <th></th>\n",
              "      <th></th>\n",
              "      <th></th>\n",
              "    </tr>\n",
              "  </thead>\n",
              "  <tbody>\n",
              "    <tr>\n",
              "      <th>2021-07-30</th>\n",
              "      <td>3347.95</td>\n",
              "      <td>3368.1400</td>\n",
              "      <td>3306.9800</td>\n",
              "      <td>3327.59</td>\n",
              "      <td>9965593</td>\n",
              "    </tr>\n",
              "    <tr>\n",
              "      <th>2021-07-29</th>\n",
              "      <td>3627.75</td>\n",
              "      <td>3637.9500</td>\n",
              "      <td>3580.0100</td>\n",
              "      <td>3599.92</td>\n",
              "      <td>5519952</td>\n",
              "    </tr>\n",
              "    <tr>\n",
              "      <th>2021-07-28</th>\n",
              "      <td>3633.78</td>\n",
              "      <td>3658.4204</td>\n",
              "      <td>3601.0000</td>\n",
              "      <td>3630.32</td>\n",
              "      <td>2999378</td>\n",
              "    </tr>\n",
              "    <tr>\n",
              "      <th>2021-07-27</th>\n",
              "      <td>3698.50</td>\n",
              "      <td>3698.5000</td>\n",
              "      <td>3586.1500</td>\n",
              "      <td>3626.39</td>\n",
              "      <td>4131890</td>\n",
              "    </tr>\n",
              "    <tr>\n",
              "      <th>2021-07-26</th>\n",
              "      <td>3673.17</td>\n",
              "      <td>3712.0800</td>\n",
              "      <td>3647.2500</td>\n",
              "      <td>3699.82</td>\n",
              "      <td>2900068</td>\n",
              "    </tr>\n",
              "    <tr>\n",
              "      <th>...</th>\n",
              "      <td>...</td>\n",
              "      <td>...</td>\n",
              "      <td>...</td>\n",
              "      <td>...</td>\n",
              "      <td>...</td>\n",
              "    </tr>\n",
              "    <tr>\n",
              "      <th>2021-03-16</th>\n",
              "      <td>3104.97</td>\n",
              "      <td>3128.9100</td>\n",
              "      <td>3075.8601</td>\n",
              "      <td>3091.86</td>\n",
              "      <td>2538764</td>\n",
              "    </tr>\n",
              "    <tr>\n",
              "      <th>2021-03-15</th>\n",
              "      <td>3074.57</td>\n",
              "      <td>3082.2400</td>\n",
              "      <td>3032.0900</td>\n",
              "      <td>3081.68</td>\n",
              "      <td>2918592</td>\n",
              "    </tr>\n",
              "    <tr>\n",
              "      <th>2021-03-12</th>\n",
              "      <td>3075.00</td>\n",
              "      <td>3098.9800</td>\n",
              "      <td>3045.5000</td>\n",
              "      <td>3089.49</td>\n",
              "      <td>2421888</td>\n",
              "    </tr>\n",
              "    <tr>\n",
              "      <th>2021-03-11</th>\n",
              "      <td>3104.01</td>\n",
              "      <td>3131.7843</td>\n",
              "      <td>3082.9300</td>\n",
              "      <td>3113.59</td>\n",
              "      <td>2776391</td>\n",
              "    </tr>\n",
              "    <tr>\n",
              "      <th>2021-03-10</th>\n",
              "      <td>3098.45</td>\n",
              "      <td>3116.4600</td>\n",
              "      <td>3030.0500</td>\n",
              "      <td>3057.64</td>\n",
              "      <td>3012489</td>\n",
              "    </tr>\n",
              "  </tbody>\n",
              "</table>\n",
              "<p>100 rows × 5 columns</p>\n",
              "</div>"
            ],
            "text/plain": [
              "               open       high        low    close   volume\n",
              "Date                                                       \n",
              "2021-07-30  3347.95  3368.1400  3306.9800  3327.59  9965593\n",
              "2021-07-29  3627.75  3637.9500  3580.0100  3599.92  5519952\n",
              "2021-07-28  3633.78  3658.4204  3601.0000  3630.32  2999378\n",
              "2021-07-27  3698.50  3698.5000  3586.1500  3626.39  4131890\n",
              "2021-07-26  3673.17  3712.0800  3647.2500  3699.82  2900068\n",
              "...             ...        ...        ...      ...      ...\n",
              "2021-03-16  3104.97  3128.9100  3075.8601  3091.86  2538764\n",
              "2021-03-15  3074.57  3082.2400  3032.0900  3081.68  2918592\n",
              "2021-03-12  3075.00  3098.9800  3045.5000  3089.49  2421888\n",
              "2021-03-11  3104.01  3131.7843  3082.9300  3113.59  2776391\n",
              "2021-03-10  3098.45  3116.4600  3030.0500  3057.64  3012489\n",
              "\n",
              "[100 rows x 5 columns]"
            ]
          },
          "metadata": {
            "tags": []
          },
          "execution_count": 14
        }
      ]
    },
    {
      "cell_type": "markdown",
      "metadata": {
        "id": "8nLS6YQ8WV0N"
      },
      "source": [
        "##Wycinanie kolumn"
      ]
    },
    {
      "cell_type": "code",
      "metadata": {
        "colab": {
          "base_uri": "https://localhost:8080/"
        },
        "id": "Xt9_3FNBUxr6",
        "outputId": "6f0ab81f-f20d-47ec-fe11-b3dccfb2853c"
      },
      "source": [
        "df.open"
      ],
      "execution_count": null,
      "outputs": [
        {
          "output_type": "execute_result",
          "data": {
            "text/plain": [
              "Date\n",
              "2021-07-30    3347.95\n",
              "2021-07-29    3627.75\n",
              "2021-07-28    3633.78\n",
              "2021-07-27    3698.50\n",
              "2021-07-26    3673.17\n",
              "               ...   \n",
              "2021-03-16    3104.97\n",
              "2021-03-15    3074.57\n",
              "2021-03-12    3075.00\n",
              "2021-03-11    3104.01\n",
              "2021-03-10    3098.45\n",
              "Name: open, Length: 100, dtype: float64"
            ]
          },
          "metadata": {
            "tags": []
          },
          "execution_count": 16
        }
      ]
    },
    {
      "cell_type": "code",
      "metadata": {
        "colab": {
          "base_uri": "https://localhost:8080/",
          "height": 450
        },
        "id": "43aFxymDVEZw",
        "outputId": "f4d1d77a-9215-4ded-85d8-051a39c709f5"
      },
      "source": [
        "df[['open','close']]"
      ],
      "execution_count": null,
      "outputs": [
        {
          "output_type": "execute_result",
          "data": {
            "text/html": [
              "<div>\n",
              "<style scoped>\n",
              "    .dataframe tbody tr th:only-of-type {\n",
              "        vertical-align: middle;\n",
              "    }\n",
              "\n",
              "    .dataframe tbody tr th {\n",
              "        vertical-align: top;\n",
              "    }\n",
              "\n",
              "    .dataframe thead th {\n",
              "        text-align: right;\n",
              "    }\n",
              "</style>\n",
              "<table border=\"1\" class=\"dataframe\">\n",
              "  <thead>\n",
              "    <tr style=\"text-align: right;\">\n",
              "      <th></th>\n",
              "      <th>open</th>\n",
              "      <th>close</th>\n",
              "    </tr>\n",
              "    <tr>\n",
              "      <th>Date</th>\n",
              "      <th></th>\n",
              "      <th></th>\n",
              "    </tr>\n",
              "  </thead>\n",
              "  <tbody>\n",
              "    <tr>\n",
              "      <th>2021-07-30</th>\n",
              "      <td>3347.95</td>\n",
              "      <td>3327.59</td>\n",
              "    </tr>\n",
              "    <tr>\n",
              "      <th>2021-07-29</th>\n",
              "      <td>3627.75</td>\n",
              "      <td>3599.92</td>\n",
              "    </tr>\n",
              "    <tr>\n",
              "      <th>2021-07-28</th>\n",
              "      <td>3633.78</td>\n",
              "      <td>3630.32</td>\n",
              "    </tr>\n",
              "    <tr>\n",
              "      <th>2021-07-27</th>\n",
              "      <td>3698.50</td>\n",
              "      <td>3626.39</td>\n",
              "    </tr>\n",
              "    <tr>\n",
              "      <th>2021-07-26</th>\n",
              "      <td>3673.17</td>\n",
              "      <td>3699.82</td>\n",
              "    </tr>\n",
              "    <tr>\n",
              "      <th>...</th>\n",
              "      <td>...</td>\n",
              "      <td>...</td>\n",
              "    </tr>\n",
              "    <tr>\n",
              "      <th>2021-03-16</th>\n",
              "      <td>3104.97</td>\n",
              "      <td>3091.86</td>\n",
              "    </tr>\n",
              "    <tr>\n",
              "      <th>2021-03-15</th>\n",
              "      <td>3074.57</td>\n",
              "      <td>3081.68</td>\n",
              "    </tr>\n",
              "    <tr>\n",
              "      <th>2021-03-12</th>\n",
              "      <td>3075.00</td>\n",
              "      <td>3089.49</td>\n",
              "    </tr>\n",
              "    <tr>\n",
              "      <th>2021-03-11</th>\n",
              "      <td>3104.01</td>\n",
              "      <td>3113.59</td>\n",
              "    </tr>\n",
              "    <tr>\n",
              "      <th>2021-03-10</th>\n",
              "      <td>3098.45</td>\n",
              "      <td>3057.64</td>\n",
              "    </tr>\n",
              "  </tbody>\n",
              "</table>\n",
              "<p>100 rows × 2 columns</p>\n",
              "</div>"
            ],
            "text/plain": [
              "               open    close\n",
              "Date                        \n",
              "2021-07-30  3347.95  3327.59\n",
              "2021-07-29  3627.75  3599.92\n",
              "2021-07-28  3633.78  3630.32\n",
              "2021-07-27  3698.50  3626.39\n",
              "2021-07-26  3673.17  3699.82\n",
              "...             ...      ...\n",
              "2021-03-16  3104.97  3091.86\n",
              "2021-03-15  3074.57  3081.68\n",
              "2021-03-12  3075.00  3089.49\n",
              "2021-03-11  3104.01  3113.59\n",
              "2021-03-10  3098.45  3057.64\n",
              "\n",
              "[100 rows x 2 columns]"
            ]
          },
          "metadata": {
            "tags": []
          },
          "execution_count": 18
        }
      ]
    },
    {
      "cell_type": "code",
      "metadata": {
        "colab": {
          "base_uri": "https://localhost:8080/",
          "height": 450
        },
        "id": "LSQq7uSnVOcW",
        "outputId": "42a0db8d-5dd5-4be7-b008-4895a6a1dd40"
      },
      "source": [
        "df.iloc[:,[0,3]]"
      ],
      "execution_count": null,
      "outputs": [
        {
          "output_type": "execute_result",
          "data": {
            "text/html": [
              "<div>\n",
              "<style scoped>\n",
              "    .dataframe tbody tr th:only-of-type {\n",
              "        vertical-align: middle;\n",
              "    }\n",
              "\n",
              "    .dataframe tbody tr th {\n",
              "        vertical-align: top;\n",
              "    }\n",
              "\n",
              "    .dataframe thead th {\n",
              "        text-align: right;\n",
              "    }\n",
              "</style>\n",
              "<table border=\"1\" class=\"dataframe\">\n",
              "  <thead>\n",
              "    <tr style=\"text-align: right;\">\n",
              "      <th></th>\n",
              "      <th>open</th>\n",
              "      <th>close</th>\n",
              "    </tr>\n",
              "    <tr>\n",
              "      <th>Date</th>\n",
              "      <th></th>\n",
              "      <th></th>\n",
              "    </tr>\n",
              "  </thead>\n",
              "  <tbody>\n",
              "    <tr>\n",
              "      <th>2021-07-30</th>\n",
              "      <td>3347.95</td>\n",
              "      <td>3327.59</td>\n",
              "    </tr>\n",
              "    <tr>\n",
              "      <th>2021-07-29</th>\n",
              "      <td>3627.75</td>\n",
              "      <td>3599.92</td>\n",
              "    </tr>\n",
              "    <tr>\n",
              "      <th>2021-07-28</th>\n",
              "      <td>3633.78</td>\n",
              "      <td>3630.32</td>\n",
              "    </tr>\n",
              "    <tr>\n",
              "      <th>2021-07-27</th>\n",
              "      <td>3698.50</td>\n",
              "      <td>3626.39</td>\n",
              "    </tr>\n",
              "    <tr>\n",
              "      <th>2021-07-26</th>\n",
              "      <td>3673.17</td>\n",
              "      <td>3699.82</td>\n",
              "    </tr>\n",
              "    <tr>\n",
              "      <th>...</th>\n",
              "      <td>...</td>\n",
              "      <td>...</td>\n",
              "    </tr>\n",
              "    <tr>\n",
              "      <th>2021-03-16</th>\n",
              "      <td>3104.97</td>\n",
              "      <td>3091.86</td>\n",
              "    </tr>\n",
              "    <tr>\n",
              "      <th>2021-03-15</th>\n",
              "      <td>3074.57</td>\n",
              "      <td>3081.68</td>\n",
              "    </tr>\n",
              "    <tr>\n",
              "      <th>2021-03-12</th>\n",
              "      <td>3075.00</td>\n",
              "      <td>3089.49</td>\n",
              "    </tr>\n",
              "    <tr>\n",
              "      <th>2021-03-11</th>\n",
              "      <td>3104.01</td>\n",
              "      <td>3113.59</td>\n",
              "    </tr>\n",
              "    <tr>\n",
              "      <th>2021-03-10</th>\n",
              "      <td>3098.45</td>\n",
              "      <td>3057.64</td>\n",
              "    </tr>\n",
              "  </tbody>\n",
              "</table>\n",
              "<p>100 rows × 2 columns</p>\n",
              "</div>"
            ],
            "text/plain": [
              "               open    close\n",
              "Date                        \n",
              "2021-07-30  3347.95  3327.59\n",
              "2021-07-29  3627.75  3599.92\n",
              "2021-07-28  3633.78  3630.32\n",
              "2021-07-27  3698.50  3626.39\n",
              "2021-07-26  3673.17  3699.82\n",
              "...             ...      ...\n",
              "2021-03-16  3104.97  3091.86\n",
              "2021-03-15  3074.57  3081.68\n",
              "2021-03-12  3075.00  3089.49\n",
              "2021-03-11  3104.01  3113.59\n",
              "2021-03-10  3098.45  3057.64\n",
              "\n",
              "[100 rows x 2 columns]"
            ]
          },
          "metadata": {
            "tags": []
          },
          "execution_count": 19
        }
      ]
    },
    {
      "cell_type": "code",
      "metadata": {
        "colab": {
          "base_uri": "https://localhost:8080/",
          "height": 204
        },
        "id": "4EDj3ITqVy9J",
        "outputId": "7d6f7e20-5f8f-4eb9-d6fb-55344b6cb089"
      },
      "source": [
        "df.iloc[0:4,[0,3]]"
      ],
      "execution_count": null,
      "outputs": [
        {
          "output_type": "execute_result",
          "data": {
            "text/html": [
              "<div>\n",
              "<style scoped>\n",
              "    .dataframe tbody tr th:only-of-type {\n",
              "        vertical-align: middle;\n",
              "    }\n",
              "\n",
              "    .dataframe tbody tr th {\n",
              "        vertical-align: top;\n",
              "    }\n",
              "\n",
              "    .dataframe thead th {\n",
              "        text-align: right;\n",
              "    }\n",
              "</style>\n",
              "<table border=\"1\" class=\"dataframe\">\n",
              "  <thead>\n",
              "    <tr style=\"text-align: right;\">\n",
              "      <th></th>\n",
              "      <th>open</th>\n",
              "      <th>close</th>\n",
              "    </tr>\n",
              "    <tr>\n",
              "      <th>Date</th>\n",
              "      <th></th>\n",
              "      <th></th>\n",
              "    </tr>\n",
              "  </thead>\n",
              "  <tbody>\n",
              "    <tr>\n",
              "      <th>2021-07-30</th>\n",
              "      <td>3347.95</td>\n",
              "      <td>3327.59</td>\n",
              "    </tr>\n",
              "    <tr>\n",
              "      <th>2021-07-29</th>\n",
              "      <td>3627.75</td>\n",
              "      <td>3599.92</td>\n",
              "    </tr>\n",
              "    <tr>\n",
              "      <th>2021-07-28</th>\n",
              "      <td>3633.78</td>\n",
              "      <td>3630.32</td>\n",
              "    </tr>\n",
              "    <tr>\n",
              "      <th>2021-07-27</th>\n",
              "      <td>3698.50</td>\n",
              "      <td>3626.39</td>\n",
              "    </tr>\n",
              "  </tbody>\n",
              "</table>\n",
              "</div>"
            ],
            "text/plain": [
              "               open    close\n",
              "Date                        \n",
              "2021-07-30  3347.95  3327.59\n",
              "2021-07-29  3627.75  3599.92\n",
              "2021-07-28  3633.78  3630.32\n",
              "2021-07-27  3698.50  3626.39"
            ]
          },
          "metadata": {
            "tags": []
          },
          "execution_count": 21
        }
      ]
    },
    {
      "cell_type": "code",
      "metadata": {
        "colab": {
          "base_uri": "https://localhost:8080/",
          "height": 450
        },
        "id": "TSJTzJunWFto",
        "outputId": "e8b97342-bbbc-44e3-da1f-ca3151c3c3be"
      },
      "source": [
        "df.iloc[:, -3:]"
      ],
      "execution_count": null,
      "outputs": [
        {
          "output_type": "execute_result",
          "data": {
            "text/html": [
              "<div>\n",
              "<style scoped>\n",
              "    .dataframe tbody tr th:only-of-type {\n",
              "        vertical-align: middle;\n",
              "    }\n",
              "\n",
              "    .dataframe tbody tr th {\n",
              "        vertical-align: top;\n",
              "    }\n",
              "\n",
              "    .dataframe thead th {\n",
              "        text-align: right;\n",
              "    }\n",
              "</style>\n",
              "<table border=\"1\" class=\"dataframe\">\n",
              "  <thead>\n",
              "    <tr style=\"text-align: right;\">\n",
              "      <th></th>\n",
              "      <th>low</th>\n",
              "      <th>close</th>\n",
              "      <th>volume</th>\n",
              "    </tr>\n",
              "    <tr>\n",
              "      <th>Date</th>\n",
              "      <th></th>\n",
              "      <th></th>\n",
              "      <th></th>\n",
              "    </tr>\n",
              "  </thead>\n",
              "  <tbody>\n",
              "    <tr>\n",
              "      <th>2021-07-30</th>\n",
              "      <td>3306.9800</td>\n",
              "      <td>3327.59</td>\n",
              "      <td>9965593</td>\n",
              "    </tr>\n",
              "    <tr>\n",
              "      <th>2021-07-29</th>\n",
              "      <td>3580.0100</td>\n",
              "      <td>3599.92</td>\n",
              "      <td>5519952</td>\n",
              "    </tr>\n",
              "    <tr>\n",
              "      <th>2021-07-28</th>\n",
              "      <td>3601.0000</td>\n",
              "      <td>3630.32</td>\n",
              "      <td>2999378</td>\n",
              "    </tr>\n",
              "    <tr>\n",
              "      <th>2021-07-27</th>\n",
              "      <td>3586.1500</td>\n",
              "      <td>3626.39</td>\n",
              "      <td>4131890</td>\n",
              "    </tr>\n",
              "    <tr>\n",
              "      <th>2021-07-26</th>\n",
              "      <td>3647.2500</td>\n",
              "      <td>3699.82</td>\n",
              "      <td>2900068</td>\n",
              "    </tr>\n",
              "    <tr>\n",
              "      <th>...</th>\n",
              "      <td>...</td>\n",
              "      <td>...</td>\n",
              "      <td>...</td>\n",
              "    </tr>\n",
              "    <tr>\n",
              "      <th>2021-03-16</th>\n",
              "      <td>3075.8601</td>\n",
              "      <td>3091.86</td>\n",
              "      <td>2538764</td>\n",
              "    </tr>\n",
              "    <tr>\n",
              "      <th>2021-03-15</th>\n",
              "      <td>3032.0900</td>\n",
              "      <td>3081.68</td>\n",
              "      <td>2918592</td>\n",
              "    </tr>\n",
              "    <tr>\n",
              "      <th>2021-03-12</th>\n",
              "      <td>3045.5000</td>\n",
              "      <td>3089.49</td>\n",
              "      <td>2421888</td>\n",
              "    </tr>\n",
              "    <tr>\n",
              "      <th>2021-03-11</th>\n",
              "      <td>3082.9300</td>\n",
              "      <td>3113.59</td>\n",
              "      <td>2776391</td>\n",
              "    </tr>\n",
              "    <tr>\n",
              "      <th>2021-03-10</th>\n",
              "      <td>3030.0500</td>\n",
              "      <td>3057.64</td>\n",
              "      <td>3012489</td>\n",
              "    </tr>\n",
              "  </tbody>\n",
              "</table>\n",
              "<p>100 rows × 3 columns</p>\n",
              "</div>"
            ],
            "text/plain": [
              "                  low    close   volume\n",
              "Date                                   \n",
              "2021-07-30  3306.9800  3327.59  9965593\n",
              "2021-07-29  3580.0100  3599.92  5519952\n",
              "2021-07-28  3601.0000  3630.32  2999378\n",
              "2021-07-27  3586.1500  3626.39  4131890\n",
              "2021-07-26  3647.2500  3699.82  2900068\n",
              "...               ...      ...      ...\n",
              "2021-03-16  3075.8601  3091.86  2538764\n",
              "2021-03-15  3032.0900  3081.68  2918592\n",
              "2021-03-12  3045.5000  3089.49  2421888\n",
              "2021-03-11  3082.9300  3113.59  2776391\n",
              "2021-03-10  3030.0500  3057.64  3012489\n",
              "\n",
              "[100 rows x 3 columns]"
            ]
          },
          "metadata": {
            "tags": []
          },
          "execution_count": 22
        }
      ]
    },
    {
      "cell_type": "markdown",
      "metadata": {
        "id": "dB1uS8b9XAKT"
      },
      "source": [
        "##Wycinanie wierszy"
      ]
    },
    {
      "cell_type": "code",
      "metadata": {
        "colab": {
          "base_uri": "https://localhost:8080/"
        },
        "id": "yZhqRr3XWxKL",
        "outputId": "6adad2e0-a8f4-4664-d1fe-211825a54009"
      },
      "source": [
        "df.iloc[0]"
      ],
      "execution_count": null,
      "outputs": [
        {
          "output_type": "execute_result",
          "data": {
            "text/plain": [
              "open         3347.95\n",
              "high         3368.14\n",
              "low          3306.98\n",
              "close        3327.59\n",
              "volume    9965593.00\n",
              "Name: 2021-07-30 00:00:00, dtype: float64"
            ]
          },
          "metadata": {
            "tags": []
          },
          "execution_count": 23
        }
      ]
    },
    {
      "cell_type": "code",
      "metadata": {
        "colab": {
          "base_uri": "https://localhost:8080/",
          "height": 173
        },
        "id": "zN0MYkhoXF9I",
        "outputId": "22397bd0-4e09-4c6f-e62b-1917619c66e4"
      },
      "source": [
        "df.iloc[:3]"
      ],
      "execution_count": null,
      "outputs": [
        {
          "output_type": "execute_result",
          "data": {
            "text/html": [
              "<div>\n",
              "<style scoped>\n",
              "    .dataframe tbody tr th:only-of-type {\n",
              "        vertical-align: middle;\n",
              "    }\n",
              "\n",
              "    .dataframe tbody tr th {\n",
              "        vertical-align: top;\n",
              "    }\n",
              "\n",
              "    .dataframe thead th {\n",
              "        text-align: right;\n",
              "    }\n",
              "</style>\n",
              "<table border=\"1\" class=\"dataframe\">\n",
              "  <thead>\n",
              "    <tr style=\"text-align: right;\">\n",
              "      <th></th>\n",
              "      <th>open</th>\n",
              "      <th>high</th>\n",
              "      <th>low</th>\n",
              "      <th>close</th>\n",
              "      <th>volume</th>\n",
              "    </tr>\n",
              "    <tr>\n",
              "      <th>Date</th>\n",
              "      <th></th>\n",
              "      <th></th>\n",
              "      <th></th>\n",
              "      <th></th>\n",
              "      <th></th>\n",
              "    </tr>\n",
              "  </thead>\n",
              "  <tbody>\n",
              "    <tr>\n",
              "      <th>2021-07-30</th>\n",
              "      <td>3347.95</td>\n",
              "      <td>3368.1400</td>\n",
              "      <td>3306.98</td>\n",
              "      <td>3327.59</td>\n",
              "      <td>9965593</td>\n",
              "    </tr>\n",
              "    <tr>\n",
              "      <th>2021-07-29</th>\n",
              "      <td>3627.75</td>\n",
              "      <td>3637.9500</td>\n",
              "      <td>3580.01</td>\n",
              "      <td>3599.92</td>\n",
              "      <td>5519952</td>\n",
              "    </tr>\n",
              "    <tr>\n",
              "      <th>2021-07-28</th>\n",
              "      <td>3633.78</td>\n",
              "      <td>3658.4204</td>\n",
              "      <td>3601.00</td>\n",
              "      <td>3630.32</td>\n",
              "      <td>2999378</td>\n",
              "    </tr>\n",
              "  </tbody>\n",
              "</table>\n",
              "</div>"
            ],
            "text/plain": [
              "               open       high      low    close   volume\n",
              "Date                                                     \n",
              "2021-07-30  3347.95  3368.1400  3306.98  3327.59  9965593\n",
              "2021-07-29  3627.75  3637.9500  3580.01  3599.92  5519952\n",
              "2021-07-28  3633.78  3658.4204  3601.00  3630.32  2999378"
            ]
          },
          "metadata": {
            "tags": []
          },
          "execution_count": 24
        }
      ]
    },
    {
      "cell_type": "code",
      "metadata": {
        "colab": {
          "base_uri": "https://localhost:8080/",
          "height": 111
        },
        "id": "Kw5u27UOXSWm",
        "outputId": "96ea73e2-eb5a-43cc-d39c-e8c93f429fb7"
      },
      "source": [
        "df.loc['2021-07-29']"
      ],
      "execution_count": null,
      "outputs": [
        {
          "output_type": "execute_result",
          "data": {
            "text/html": [
              "<div>\n",
              "<style scoped>\n",
              "    .dataframe tbody tr th:only-of-type {\n",
              "        vertical-align: middle;\n",
              "    }\n",
              "\n",
              "    .dataframe tbody tr th {\n",
              "        vertical-align: top;\n",
              "    }\n",
              "\n",
              "    .dataframe thead th {\n",
              "        text-align: right;\n",
              "    }\n",
              "</style>\n",
              "<table border=\"1\" class=\"dataframe\">\n",
              "  <thead>\n",
              "    <tr style=\"text-align: right;\">\n",
              "      <th></th>\n",
              "      <th>open</th>\n",
              "      <th>high</th>\n",
              "      <th>low</th>\n",
              "      <th>close</th>\n",
              "      <th>volume</th>\n",
              "    </tr>\n",
              "    <tr>\n",
              "      <th>Date</th>\n",
              "      <th></th>\n",
              "      <th></th>\n",
              "      <th></th>\n",
              "      <th></th>\n",
              "      <th></th>\n",
              "    </tr>\n",
              "  </thead>\n",
              "  <tbody>\n",
              "    <tr>\n",
              "      <th>2021-07-29</th>\n",
              "      <td>3627.75</td>\n",
              "      <td>3637.95</td>\n",
              "      <td>3580.01</td>\n",
              "      <td>3599.92</td>\n",
              "      <td>5519952</td>\n",
              "    </tr>\n",
              "  </tbody>\n",
              "</table>\n",
              "</div>"
            ],
            "text/plain": [
              "               open     high      low    close   volume\n",
              "Date                                                   \n",
              "2021-07-29  3627.75  3637.95  3580.01  3599.92  5519952"
            ]
          },
          "metadata": {
            "tags": []
          },
          "execution_count": 25
        }
      ]
    },
    {
      "cell_type": "markdown",
      "metadata": {
        "id": "pnC73Uy6X3sk"
      },
      "source": [
        "##Obliczanie nowych kolumn"
      ]
    },
    {
      "cell_type": "code",
      "metadata": {
        "id": "FNoWyvqMXegF",
        "colab": {
          "base_uri": "https://localhost:8080/"
        },
        "outputId": "2a00b92f-8a7a-4eda-fe41-912a927e5911"
      },
      "source": [
        "df = fetch_financial_data('MSFT')\n",
        "df.info()"
      ],
      "execution_count": null,
      "outputs": [
        {
          "output_type": "stream",
          "text": [
            "<class 'pandas.core.frame.DataFrame'>\n",
            "DatetimeIndex: 1257 entries, 2021-08-18 to 2016-08-22\n",
            "Data columns (total 5 columns):\n",
            " #   Column  Non-Null Count  Dtype  \n",
            "---  ------  --------------  -----  \n",
            " 0   Open    1257 non-null   float64\n",
            " 1   High    1257 non-null   float64\n",
            " 2   Low     1257 non-null   float64\n",
            " 3   Close   1257 non-null   float64\n",
            " 4   Volume  1257 non-null   int64  \n",
            "dtypes: float64(4), int64(1)\n",
            "memory usage: 58.9 KB\n"
          ],
          "name": "stdout"
        }
      ]
    },
    {
      "cell_type": "code",
      "metadata": {
        "id": "1h9ugQagIoOX",
        "colab": {
          "base_uri": "https://localhost:8080/",
          "height": 297
        },
        "outputId": "5b7f4465-f188-460c-bae5-d3ea479e9859"
      },
      "source": [
        "df.describe()"
      ],
      "execution_count": null,
      "outputs": [
        {
          "output_type": "execute_result",
          "data": {
            "text/html": [
              "<div>\n",
              "<style scoped>\n",
              "    .dataframe tbody tr th:only-of-type {\n",
              "        vertical-align: middle;\n",
              "    }\n",
              "\n",
              "    .dataframe tbody tr th {\n",
              "        vertical-align: top;\n",
              "    }\n",
              "\n",
              "    .dataframe thead th {\n",
              "        text-align: right;\n",
              "    }\n",
              "</style>\n",
              "<table border=\"1\" class=\"dataframe\">\n",
              "  <thead>\n",
              "    <tr style=\"text-align: right;\">\n",
              "      <th></th>\n",
              "      <th>Open</th>\n",
              "      <th>High</th>\n",
              "      <th>Low</th>\n",
              "      <th>Close</th>\n",
              "      <th>Volume</th>\n",
              "    </tr>\n",
              "  </thead>\n",
              "  <tbody>\n",
              "    <tr>\n",
              "      <th>count</th>\n",
              "      <td>1257.000000</td>\n",
              "      <td>1257.000000</td>\n",
              "      <td>1257.000000</td>\n",
              "      <td>1257.000000</td>\n",
              "      <td>1.257000e+03</td>\n",
              "    </tr>\n",
              "    <tr>\n",
              "      <th>mean</th>\n",
              "      <td>132.426239</td>\n",
              "      <td>133.680279</td>\n",
              "      <td>131.131034</td>\n",
              "      <td>132.487694</td>\n",
              "      <td>2.919721e+07</td>\n",
              "    </tr>\n",
              "    <tr>\n",
              "      <th>std</th>\n",
              "      <td>64.892482</td>\n",
              "      <td>65.576681</td>\n",
              "      <td>64.276170</td>\n",
              "      <td>64.983308</td>\n",
              "      <td>1.310842e+07</td>\n",
              "    </tr>\n",
              "    <tr>\n",
              "      <th>min</th>\n",
              "      <td>51.814000</td>\n",
              "      <td>52.396000</td>\n",
              "      <td>50.552000</td>\n",
              "      <td>52.009000</td>\n",
              "      <td>7.797724e+06</td>\n",
              "    </tr>\n",
              "    <tr>\n",
              "      <th>25%</th>\n",
              "      <td>79.488000</td>\n",
              "      <td>79.899000</td>\n",
              "      <td>78.862000</td>\n",
              "      <td>79.489000</td>\n",
              "      <td>2.074499e+07</td>\n",
              "    </tr>\n",
              "    <tr>\n",
              "      <th>50%</th>\n",
              "      <td>109.480000</td>\n",
              "      <td>109.970000</td>\n",
              "      <td>108.250000</td>\n",
              "      <td>109.360000</td>\n",
              "      <td>2.560501e+07</td>\n",
              "    </tr>\n",
              "    <tr>\n",
              "      <th>75%</th>\n",
              "      <td>182.410000</td>\n",
              "      <td>183.940000</td>\n",
              "      <td>180.210000</td>\n",
              "      <td>181.800000</td>\n",
              "      <td>3.337881e+07</td>\n",
              "    </tr>\n",
              "    <tr>\n",
              "      <th>max</th>\n",
              "      <td>292.630000</td>\n",
              "      <td>294.820000</td>\n",
              "      <td>290.520000</td>\n",
              "      <td>294.040000</td>\n",
              "      <td>1.148290e+08</td>\n",
              "    </tr>\n",
              "  </tbody>\n",
              "</table>\n",
              "</div>"
            ],
            "text/plain": [
              "              Open         High          Low        Close        Volume\n",
              "count  1257.000000  1257.000000  1257.000000  1257.000000  1.257000e+03\n",
              "mean    132.426239   133.680279   131.131034   132.487694  2.919721e+07\n",
              "std      64.892482    65.576681    64.276170    64.983308  1.310842e+07\n",
              "min      51.814000    52.396000    50.552000    52.009000  7.797724e+06\n",
              "25%      79.488000    79.899000    78.862000    79.489000  2.074499e+07\n",
              "50%     109.480000   109.970000   108.250000   109.360000  2.560501e+07\n",
              "75%     182.410000   183.940000   180.210000   181.800000  3.337881e+07\n",
              "max     292.630000   294.820000   290.520000   294.040000  1.148290e+08"
            ]
          },
          "metadata": {},
          "execution_count": 6
        }
      ]
    },
    {
      "cell_type": "code",
      "metadata": {
        "id": "JlD5ERDBIxbX",
        "colab": {
          "base_uri": "https://localhost:8080/",
          "height": 235
        },
        "outputId": "5d4de363-5ff4-4eb2-826c-c13437e806b4"
      },
      "source": [
        "df['Average'] = (df.Open + df.Close) / 2\n",
        "df.head()"
      ],
      "execution_count": null,
      "outputs": [
        {
          "output_type": "execute_result",
          "data": {
            "text/html": [
              "<div>\n",
              "<style scoped>\n",
              "    .dataframe tbody tr th:only-of-type {\n",
              "        vertical-align: middle;\n",
              "    }\n",
              "\n",
              "    .dataframe tbody tr th {\n",
              "        vertical-align: top;\n",
              "    }\n",
              "\n",
              "    .dataframe thead th {\n",
              "        text-align: right;\n",
              "    }\n",
              "</style>\n",
              "<table border=\"1\" class=\"dataframe\">\n",
              "  <thead>\n",
              "    <tr style=\"text-align: right;\">\n",
              "      <th></th>\n",
              "      <th>Open</th>\n",
              "      <th>High</th>\n",
              "      <th>Low</th>\n",
              "      <th>Close</th>\n",
              "      <th>Volume</th>\n",
              "      <th>Average</th>\n",
              "    </tr>\n",
              "    <tr>\n",
              "      <th>Date</th>\n",
              "      <th></th>\n",
              "      <th></th>\n",
              "      <th></th>\n",
              "      <th></th>\n",
              "      <th></th>\n",
              "      <th></th>\n",
              "    </tr>\n",
              "  </thead>\n",
              "  <tbody>\n",
              "    <tr>\n",
              "      <th>2021-08-18</th>\n",
              "      <td>292.04</td>\n",
              "      <td>294.82</td>\n",
              "      <td>290.27</td>\n",
              "      <td>290.73</td>\n",
              "      <td>21812985</td>\n",
              "      <td>291.385</td>\n",
              "    </tr>\n",
              "    <tr>\n",
              "      <th>2021-08-17</th>\n",
              "      <td>291.83</td>\n",
              "      <td>292.87</td>\n",
              "      <td>290.52</td>\n",
              "      <td>292.52</td>\n",
              "      <td>20113682</td>\n",
              "      <td>292.175</td>\n",
              "    </tr>\n",
              "    <tr>\n",
              "      <th>2021-08-16</th>\n",
              "      <td>292.63</td>\n",
              "      <td>294.26</td>\n",
              "      <td>289.47</td>\n",
              "      <td>294.04</td>\n",
              "      <td>22559132</td>\n",
              "      <td>293.335</td>\n",
              "    </tr>\n",
              "    <tr>\n",
              "      <th>2021-08-13</th>\n",
              "      <td>288.93</td>\n",
              "      <td>292.34</td>\n",
              "      <td>288.75</td>\n",
              "      <td>292.29</td>\n",
              "      <td>18283982</td>\n",
              "      <td>290.610</td>\n",
              "    </tr>\n",
              "    <tr>\n",
              "      <th>2021-08-12</th>\n",
              "      <td>286.08</td>\n",
              "      <td>289.42</td>\n",
              "      <td>285.79</td>\n",
              "      <td>289.26</td>\n",
              "      <td>14598285</td>\n",
              "      <td>287.670</td>\n",
              "    </tr>\n",
              "  </tbody>\n",
              "</table>\n",
              "</div>"
            ],
            "text/plain": [
              "              Open    High     Low   Close    Volume  Average\n",
              "Date                                                         \n",
              "2021-08-18  292.04  294.82  290.27  290.73  21812985  291.385\n",
              "2021-08-17  291.83  292.87  290.52  292.52  20113682  292.175\n",
              "2021-08-16  292.63  294.26  289.47  294.04  22559132  293.335\n",
              "2021-08-13  288.93  292.34  288.75  292.29  18283982  290.610\n",
              "2021-08-12  286.08  289.42  285.79  289.26  14598285  287.670"
            ]
          },
          "metadata": {},
          "execution_count": 7
        }
      ]
    },
    {
      "cell_type": "code",
      "metadata": {
        "id": "UoyRokhdJROY",
        "colab": {
          "base_uri": "https://localhost:8080/",
          "height": 235
        },
        "outputId": "5ca893af-6731-4332-dace-4aea638adeea"
      },
      "source": [
        "df = df.sort_index()\n",
        "df.head()"
      ],
      "execution_count": null,
      "outputs": [
        {
          "output_type": "execute_result",
          "data": {
            "text/html": [
              "<div>\n",
              "<style scoped>\n",
              "    .dataframe tbody tr th:only-of-type {\n",
              "        vertical-align: middle;\n",
              "    }\n",
              "\n",
              "    .dataframe tbody tr th {\n",
              "        vertical-align: top;\n",
              "    }\n",
              "\n",
              "    .dataframe thead th {\n",
              "        text-align: right;\n",
              "    }\n",
              "</style>\n",
              "<table border=\"1\" class=\"dataframe\">\n",
              "  <thead>\n",
              "    <tr style=\"text-align: right;\">\n",
              "      <th></th>\n",
              "      <th>Open</th>\n",
              "      <th>High</th>\n",
              "      <th>Low</th>\n",
              "      <th>Close</th>\n",
              "      <th>Volume</th>\n",
              "      <th>Average</th>\n",
              "    </tr>\n",
              "    <tr>\n",
              "      <th>Date</th>\n",
              "      <th></th>\n",
              "      <th></th>\n",
              "      <th></th>\n",
              "      <th></th>\n",
              "      <th></th>\n",
              "      <th></th>\n",
              "    </tr>\n",
              "  </thead>\n",
              "  <tbody>\n",
              "    <tr>\n",
              "      <th>2016-08-22</th>\n",
              "      <td>53.293</td>\n",
              "      <td>53.430</td>\n",
              "      <td>52.979</td>\n",
              "      <td>53.359</td>\n",
              "      <td>15335079</td>\n",
              "      <td>53.3260</td>\n",
              "    </tr>\n",
              "    <tr>\n",
              "      <th>2016-08-23</th>\n",
              "      <td>53.569</td>\n",
              "      <td>53.830</td>\n",
              "      <td>53.524</td>\n",
              "      <td>53.561</td>\n",
              "      <td>18232204</td>\n",
              "      <td>53.5650</td>\n",
              "    </tr>\n",
              "    <tr>\n",
              "      <th>2016-08-24</th>\n",
              "      <td>53.478</td>\n",
              "      <td>53.700</td>\n",
              "      <td>53.401</td>\n",
              "      <td>53.617</td>\n",
              "      <td>17731419</td>\n",
              "      <td>53.5475</td>\n",
              "    </tr>\n",
              "    <tr>\n",
              "      <th>2016-08-25</th>\n",
              "      <td>53.552</td>\n",
              "      <td>53.932</td>\n",
              "      <td>53.459</td>\n",
              "      <td>53.821</td>\n",
              "      <td>17349761</td>\n",
              "      <td>53.6865</td>\n",
              "    </tr>\n",
              "    <tr>\n",
              "      <th>2016-08-26</th>\n",
              "      <td>53.923</td>\n",
              "      <td>54.312</td>\n",
              "      <td>53.379</td>\n",
              "      <td>53.700</td>\n",
              "      <td>20337823</td>\n",
              "      <td>53.8115</td>\n",
              "    </tr>\n",
              "  </tbody>\n",
              "</table>\n",
              "</div>"
            ],
            "text/plain": [
              "              Open    High     Low   Close    Volume  Average\n",
              "Date                                                         \n",
              "2016-08-22  53.293  53.430  52.979  53.359  15335079  53.3260\n",
              "2016-08-23  53.569  53.830  53.524  53.561  18232204  53.5650\n",
              "2016-08-24  53.478  53.700  53.401  53.617  17731419  53.5475\n",
              "2016-08-25  53.552  53.932  53.459  53.821  17349761  53.6865\n",
              "2016-08-26  53.923  54.312  53.379  53.700  20337823  53.8115"
            ]
          },
          "metadata": {},
          "execution_count": 8
        }
      ]
    },
    {
      "cell_type": "code",
      "metadata": {
        "id": "OOKfIfFVJen8",
        "colab": {
          "base_uri": "https://localhost:8080/",
          "height": 235
        },
        "outputId": "42935747-bd8a-4e52-b555-cb97b5e0d8f2"
      },
      "source": [
        "df['Close_shift'] = df.Close.shift(1)\n",
        "df.head()"
      ],
      "execution_count": null,
      "outputs": [
        {
          "output_type": "execute_result",
          "data": {
            "text/html": [
              "<div>\n",
              "<style scoped>\n",
              "    .dataframe tbody tr th:only-of-type {\n",
              "        vertical-align: middle;\n",
              "    }\n",
              "\n",
              "    .dataframe tbody tr th {\n",
              "        vertical-align: top;\n",
              "    }\n",
              "\n",
              "    .dataframe thead th {\n",
              "        text-align: right;\n",
              "    }\n",
              "</style>\n",
              "<table border=\"1\" class=\"dataframe\">\n",
              "  <thead>\n",
              "    <tr style=\"text-align: right;\">\n",
              "      <th></th>\n",
              "      <th>Open</th>\n",
              "      <th>High</th>\n",
              "      <th>Low</th>\n",
              "      <th>Close</th>\n",
              "      <th>Volume</th>\n",
              "      <th>Average</th>\n",
              "      <th>Close_shift</th>\n",
              "    </tr>\n",
              "    <tr>\n",
              "      <th>Date</th>\n",
              "      <th></th>\n",
              "      <th></th>\n",
              "      <th></th>\n",
              "      <th></th>\n",
              "      <th></th>\n",
              "      <th></th>\n",
              "      <th></th>\n",
              "    </tr>\n",
              "  </thead>\n",
              "  <tbody>\n",
              "    <tr>\n",
              "      <th>2016-08-22</th>\n",
              "      <td>53.293</td>\n",
              "      <td>53.430</td>\n",
              "      <td>52.979</td>\n",
              "      <td>53.359</td>\n",
              "      <td>15335079</td>\n",
              "      <td>53.3260</td>\n",
              "      <td>NaN</td>\n",
              "    </tr>\n",
              "    <tr>\n",
              "      <th>2016-08-23</th>\n",
              "      <td>53.569</td>\n",
              "      <td>53.830</td>\n",
              "      <td>53.524</td>\n",
              "      <td>53.561</td>\n",
              "      <td>18232204</td>\n",
              "      <td>53.5650</td>\n",
              "      <td>53.359</td>\n",
              "    </tr>\n",
              "    <tr>\n",
              "      <th>2016-08-24</th>\n",
              "      <td>53.478</td>\n",
              "      <td>53.700</td>\n",
              "      <td>53.401</td>\n",
              "      <td>53.617</td>\n",
              "      <td>17731419</td>\n",
              "      <td>53.5475</td>\n",
              "      <td>53.561</td>\n",
              "    </tr>\n",
              "    <tr>\n",
              "      <th>2016-08-25</th>\n",
              "      <td>53.552</td>\n",
              "      <td>53.932</td>\n",
              "      <td>53.459</td>\n",
              "      <td>53.821</td>\n",
              "      <td>17349761</td>\n",
              "      <td>53.6865</td>\n",
              "      <td>53.617</td>\n",
              "    </tr>\n",
              "    <tr>\n",
              "      <th>2016-08-26</th>\n",
              "      <td>53.923</td>\n",
              "      <td>54.312</td>\n",
              "      <td>53.379</td>\n",
              "      <td>53.700</td>\n",
              "      <td>20337823</td>\n",
              "      <td>53.8115</td>\n",
              "      <td>53.821</td>\n",
              "    </tr>\n",
              "  </tbody>\n",
              "</table>\n",
              "</div>"
            ],
            "text/plain": [
              "              Open    High     Low   Close    Volume  Average  Close_shift\n",
              "Date                                                                      \n",
              "2016-08-22  53.293  53.430  52.979  53.359  15335079  53.3260          NaN\n",
              "2016-08-23  53.569  53.830  53.524  53.561  18232204  53.5650       53.359\n",
              "2016-08-24  53.478  53.700  53.401  53.617  17731419  53.5475       53.561\n",
              "2016-08-25  53.552  53.932  53.459  53.821  17349761  53.6865       53.617\n",
              "2016-08-26  53.923  54.312  53.379  53.700  20337823  53.8115       53.821"
            ]
          },
          "metadata": {},
          "execution_count": 9
        }
      ]
    },
    {
      "cell_type": "code",
      "metadata": {
        "id": "ptFLR7MfKAwo",
        "colab": {
          "base_uri": "https://localhost:8080/",
          "height": 235
        },
        "outputId": "964bbd4c-b869-49ee-83cc-98d567f49837"
      },
      "source": [
        "df['Daily_change'] = df.Close / df.Close_shift - 1 \n",
        "df.head()"
      ],
      "execution_count": null,
      "outputs": [
        {
          "output_type": "execute_result",
          "data": {
            "text/html": [
              "<div>\n",
              "<style scoped>\n",
              "    .dataframe tbody tr th:only-of-type {\n",
              "        vertical-align: middle;\n",
              "    }\n",
              "\n",
              "    .dataframe tbody tr th {\n",
              "        vertical-align: top;\n",
              "    }\n",
              "\n",
              "    .dataframe thead th {\n",
              "        text-align: right;\n",
              "    }\n",
              "</style>\n",
              "<table border=\"1\" class=\"dataframe\">\n",
              "  <thead>\n",
              "    <tr style=\"text-align: right;\">\n",
              "      <th></th>\n",
              "      <th>Open</th>\n",
              "      <th>High</th>\n",
              "      <th>Low</th>\n",
              "      <th>Close</th>\n",
              "      <th>Volume</th>\n",
              "      <th>Average</th>\n",
              "      <th>Close_shift</th>\n",
              "      <th>Daily_change</th>\n",
              "    </tr>\n",
              "    <tr>\n",
              "      <th>Date</th>\n",
              "      <th></th>\n",
              "      <th></th>\n",
              "      <th></th>\n",
              "      <th></th>\n",
              "      <th></th>\n",
              "      <th></th>\n",
              "      <th></th>\n",
              "      <th></th>\n",
              "    </tr>\n",
              "  </thead>\n",
              "  <tbody>\n",
              "    <tr>\n",
              "      <th>2016-08-22</th>\n",
              "      <td>53.293</td>\n",
              "      <td>53.430</td>\n",
              "      <td>52.979</td>\n",
              "      <td>53.359</td>\n",
              "      <td>15335079</td>\n",
              "      <td>53.3260</td>\n",
              "      <td>NaN</td>\n",
              "      <td>NaN</td>\n",
              "    </tr>\n",
              "    <tr>\n",
              "      <th>2016-08-23</th>\n",
              "      <td>53.569</td>\n",
              "      <td>53.830</td>\n",
              "      <td>53.524</td>\n",
              "      <td>53.561</td>\n",
              "      <td>18232204</td>\n",
              "      <td>53.5650</td>\n",
              "      <td>53.359</td>\n",
              "      <td>0.003786</td>\n",
              "    </tr>\n",
              "    <tr>\n",
              "      <th>2016-08-24</th>\n",
              "      <td>53.478</td>\n",
              "      <td>53.700</td>\n",
              "      <td>53.401</td>\n",
              "      <td>53.617</td>\n",
              "      <td>17731419</td>\n",
              "      <td>53.5475</td>\n",
              "      <td>53.561</td>\n",
              "      <td>0.001046</td>\n",
              "    </tr>\n",
              "    <tr>\n",
              "      <th>2016-08-25</th>\n",
              "      <td>53.552</td>\n",
              "      <td>53.932</td>\n",
              "      <td>53.459</td>\n",
              "      <td>53.821</td>\n",
              "      <td>17349761</td>\n",
              "      <td>53.6865</td>\n",
              "      <td>53.617</td>\n",
              "      <td>0.003805</td>\n",
              "    </tr>\n",
              "    <tr>\n",
              "      <th>2016-08-26</th>\n",
              "      <td>53.923</td>\n",
              "      <td>54.312</td>\n",
              "      <td>53.379</td>\n",
              "      <td>53.700</td>\n",
              "      <td>20337823</td>\n",
              "      <td>53.8115</td>\n",
              "      <td>53.821</td>\n",
              "      <td>-0.002248</td>\n",
              "    </tr>\n",
              "  </tbody>\n",
              "</table>\n",
              "</div>"
            ],
            "text/plain": [
              "              Open    High     Low  ...  Average  Close_shift  Daily_change\n",
              "Date                                ...                                    \n",
              "2016-08-22  53.293  53.430  52.979  ...  53.3260          NaN           NaN\n",
              "2016-08-23  53.569  53.830  53.524  ...  53.5650       53.359      0.003786\n",
              "2016-08-24  53.478  53.700  53.401  ...  53.5475       53.561      0.001046\n",
              "2016-08-25  53.552  53.932  53.459  ...  53.6865       53.617      0.003805\n",
              "2016-08-26  53.923  54.312  53.379  ...  53.8115       53.821     -0.002248\n",
              "\n",
              "[5 rows x 8 columns]"
            ]
          },
          "metadata": {},
          "execution_count": 11
        }
      ]
    },
    {
      "cell_type": "code",
      "metadata": {
        "id": "-OzU6NUWKsx3",
        "colab": {
          "base_uri": "https://localhost:8080/",
          "height": 235
        },
        "outputId": "170af83e-613e-4b0d-8c1e-911992418bce"
      },
      "source": [
        "del df['Close_shift']\n",
        "df.head()"
      ],
      "execution_count": null,
      "outputs": [
        {
          "output_type": "execute_result",
          "data": {
            "text/html": [
              "<div>\n",
              "<style scoped>\n",
              "    .dataframe tbody tr th:only-of-type {\n",
              "        vertical-align: middle;\n",
              "    }\n",
              "\n",
              "    .dataframe tbody tr th {\n",
              "        vertical-align: top;\n",
              "    }\n",
              "\n",
              "    .dataframe thead th {\n",
              "        text-align: right;\n",
              "    }\n",
              "</style>\n",
              "<table border=\"1\" class=\"dataframe\">\n",
              "  <thead>\n",
              "    <tr style=\"text-align: right;\">\n",
              "      <th></th>\n",
              "      <th>Open</th>\n",
              "      <th>High</th>\n",
              "      <th>Low</th>\n",
              "      <th>Close</th>\n",
              "      <th>Volume</th>\n",
              "      <th>Average</th>\n",
              "      <th>Daily_change</th>\n",
              "    </tr>\n",
              "    <tr>\n",
              "      <th>Date</th>\n",
              "      <th></th>\n",
              "      <th></th>\n",
              "      <th></th>\n",
              "      <th></th>\n",
              "      <th></th>\n",
              "      <th></th>\n",
              "      <th></th>\n",
              "    </tr>\n",
              "  </thead>\n",
              "  <tbody>\n",
              "    <tr>\n",
              "      <th>2016-08-22</th>\n",
              "      <td>53.293</td>\n",
              "      <td>53.430</td>\n",
              "      <td>52.979</td>\n",
              "      <td>53.359</td>\n",
              "      <td>15335079</td>\n",
              "      <td>53.3260</td>\n",
              "      <td>NaN</td>\n",
              "    </tr>\n",
              "    <tr>\n",
              "      <th>2016-08-23</th>\n",
              "      <td>53.569</td>\n",
              "      <td>53.830</td>\n",
              "      <td>53.524</td>\n",
              "      <td>53.561</td>\n",
              "      <td>18232204</td>\n",
              "      <td>53.5650</td>\n",
              "      <td>0.003786</td>\n",
              "    </tr>\n",
              "    <tr>\n",
              "      <th>2016-08-24</th>\n",
              "      <td>53.478</td>\n",
              "      <td>53.700</td>\n",
              "      <td>53.401</td>\n",
              "      <td>53.617</td>\n",
              "      <td>17731419</td>\n",
              "      <td>53.5475</td>\n",
              "      <td>0.001046</td>\n",
              "    </tr>\n",
              "    <tr>\n",
              "      <th>2016-08-25</th>\n",
              "      <td>53.552</td>\n",
              "      <td>53.932</td>\n",
              "      <td>53.459</td>\n",
              "      <td>53.821</td>\n",
              "      <td>17349761</td>\n",
              "      <td>53.6865</td>\n",
              "      <td>0.003805</td>\n",
              "    </tr>\n",
              "    <tr>\n",
              "      <th>2016-08-26</th>\n",
              "      <td>53.923</td>\n",
              "      <td>54.312</td>\n",
              "      <td>53.379</td>\n",
              "      <td>53.700</td>\n",
              "      <td>20337823</td>\n",
              "      <td>53.8115</td>\n",
              "      <td>-0.002248</td>\n",
              "    </tr>\n",
              "  </tbody>\n",
              "</table>\n",
              "</div>"
            ],
            "text/plain": [
              "              Open    High     Low   Close    Volume  Average  Daily_change\n",
              "Date                                                                       \n",
              "2016-08-22  53.293  53.430  52.979  53.359  15335079  53.3260           NaN\n",
              "2016-08-23  53.569  53.830  53.524  53.561  18232204  53.5650      0.003786\n",
              "2016-08-24  53.478  53.700  53.401  53.617  17731419  53.5475      0.001046\n",
              "2016-08-25  53.552  53.932  53.459  53.821  17349761  53.6865      0.003805\n",
              "2016-08-26  53.923  54.312  53.379  53.700  20337823  53.8115     -0.002248"
            ]
          },
          "metadata": {},
          "execution_count": 13
        }
      ]
    },
    {
      "cell_type": "code",
      "metadata": {
        "id": "zLieO_2vLJ9W",
        "colab": {
          "base_uri": "https://localhost:8080/"
        },
        "outputId": "03130a4d-5988-416b-e2ab-70e7da18858e"
      },
      "source": [
        "df.Daily_change.min()\n",
        "df.Daily_change.max()"
      ],
      "execution_count": null,
      "outputs": [
        {
          "output_type": "execute_result",
          "data": {
            "text/plain": [
              "0.1422526991537787"
            ]
          },
          "metadata": {},
          "execution_count": 14
        }
      ]
    },
    {
      "cell_type": "code",
      "metadata": {
        "id": "JGVtMPmyLTFV",
        "colab": {
          "base_uri": "https://localhost:8080/",
          "height": 282
        },
        "outputId": "89632a8d-ba72-4948-b9a2-6351fc190281"
      },
      "source": [
        "df.Daily_change.hist(bins = 100)"
      ],
      "execution_count": null,
      "outputs": [
        {
          "output_type": "execute_result",
          "data": {
            "text/plain": [
              "<matplotlib.axes._subplots.AxesSubplot at 0x7fdc3186b150>"
            ]
          },
          "metadata": {},
          "execution_count": 16
        },
        {
          "output_type": "display_data",
          "data": {
            "image/png": "[encoded data removed]",
            "text/plain": [
              "<Figure size 432x288 with 1 Axes>"
            ]
          },
          "metadata": {
            "needs_background": "light"
          }
        }
      ]
    },
    {
      "cell_type": "code",
      "metadata": {
        "id": "_B1Gk5tsLuNi",
        "colab": {
          "base_uri": "https://localhost:8080/",
          "height": 285
        },
        "outputId": "792fa0c6-a23d-4b2a-d5ad-912c9b49db05"
      },
      "source": [
        "import seaborn as sns\n",
        "sns.set()\n",
        "df.Daily_change.hist(bins = 100)"
      ],
      "execution_count": null,
      "outputs": [
        {
          "output_type": "execute_result",
          "data": {
            "text/plain": [
              "<matplotlib.axes._subplots.AxesSubplot at 0x7fdc225bfbd0>"
            ]
          },
          "metadata": {},
          "execution_count": 17
        },
        {
          "output_type": "display_data",
          "data": {
            "image/png": "[encoded data removed]",
            "text/plain": [
              "<Figure size 432x288 with 1 Axes>"
            ]
          },
          "metadata": {}
        }
      ]
    },
    {
      "cell_type": "code",
      "metadata": {
        "id": "WUFxv6vjMGrs",
        "colab": {
          "base_uri": "https://localhost:8080/",
          "height": 293
        },
        "outputId": "ac79cdce-a18d-4b5d-a45f-874abb57577f"
      },
      "source": [
        "df.Close.plot()"
      ],
      "execution_count": null,
      "outputs": [
        {
          "output_type": "execute_result",
          "data": {
            "text/plain": [
              "<matplotlib.axes._subplots.AxesSubplot at 0x7fdc21e7ac90>"
            ]
          },
          "metadata": {},
          "execution_count": 18
        },
        {
          "output_type": "display_data",
          "data": {
            "image/png": "[encoded data removed]",
            "text/plain": [
              "<Figure size 432x288 with 1 Axes>"
            ]
          },
          "metadata": {}
        }
      ]
    },
    {
      "cell_type": "markdown",
      "metadata": {
        "id": "HI6dyxUIMg3o"
      },
      "source": [
        "# Filtrowanie danych"
      ]
    },
    {
      "cell_type": "code",
      "metadata": {
        "id": "ahJ2CkQCMlI3",
        "colab": {
          "base_uri": "https://localhost:8080/"
        },
        "outputId": "17aff21e-7298-4878-8cc8-59933d73db42"
      },
      "source": [
        "df.Daily_change > 0 "
      ],
      "execution_count": null,
      "outputs": [
        {
          "output_type": "execute_result",
          "data": {
            "text/plain": [
              "Date\n",
              "2016-08-22    False\n",
              "2016-08-23     True\n",
              "2016-08-24     True\n",
              "2016-08-25     True\n",
              "2016-08-26    False\n",
              "              ...  \n",
              "2021-08-12     True\n",
              "2021-08-13     True\n",
              "2021-08-16     True\n",
              "2021-08-17    False\n",
              "2021-08-18    False\n",
              "Name: Daily_change, Length: 1257, dtype: bool"
            ]
          },
          "metadata": {},
          "execution_count": 19
        }
      ]
    },
    {
      "cell_type": "code",
      "metadata": {
        "id": "PHP3vOxbM3b1",
        "colab": {
          "base_uri": "https://localhost:8080/",
          "height": 450
        },
        "outputId": "4ac7a56a-89af-4bb4-88b9-850a609edad6"
      },
      "source": [
        "df[df.Daily_change < 0]"
      ],
      "execution_count": null,
      "outputs": [
        {
          "output_type": "execute_result",
          "data": {
            "text/html": [
              "<div>\n",
              "<style scoped>\n",
              "    .dataframe tbody tr th:only-of-type {\n",
              "        vertical-align: middle;\n",
              "    }\n",
              "\n",
              "    .dataframe tbody tr th {\n",
              "        vertical-align: top;\n",
              "    }\n",
              "\n",
              "    .dataframe thead th {\n",
              "        text-align: right;\n",
              "    }\n",
              "</style>\n",
              "<table border=\"1\" class=\"dataframe\">\n",
              "  <thead>\n",
              "    <tr style=\"text-align: right;\">\n",
              "      <th></th>\n",
              "      <th>Open</th>\n",
              "      <th>High</th>\n",
              "      <th>Low</th>\n",
              "      <th>Close</th>\n",
              "      <th>Volume</th>\n",
              "      <th>Average</th>\n",
              "      <th>Daily_change</th>\n",
              "    </tr>\n",
              "    <tr>\n",
              "      <th>Date</th>\n",
              "      <th></th>\n",
              "      <th></th>\n",
              "      <th></th>\n",
              "      <th></th>\n",
              "      <th></th>\n",
              "      <th></th>\n",
              "      <th></th>\n",
              "    </tr>\n",
              "  </thead>\n",
              "  <tbody>\n",
              "    <tr>\n",
              "      <th>2016-08-26</th>\n",
              "      <td>53.923</td>\n",
              "      <td>54.312</td>\n",
              "      <td>53.379</td>\n",
              "      <td>53.700</td>\n",
              "      <td>20337823</td>\n",
              "      <td>53.8115</td>\n",
              "      <td>-0.002248</td>\n",
              "    </tr>\n",
              "    <tr>\n",
              "      <th>2016-08-30</th>\n",
              "      <td>53.646</td>\n",
              "      <td>53.840</td>\n",
              "      <td>53.303</td>\n",
              "      <td>53.561</td>\n",
              "      <td>17284413</td>\n",
              "      <td>53.6035</td>\n",
              "      <td>-0.003646</td>\n",
              "    </tr>\n",
              "    <tr>\n",
              "      <th>2016-08-31</th>\n",
              "      <td>53.340</td>\n",
              "      <td>53.478</td>\n",
              "      <td>53.016</td>\n",
              "      <td>53.163</td>\n",
              "      <td>20673204</td>\n",
              "      <td>53.2515</td>\n",
              "      <td>-0.007431</td>\n",
              "    </tr>\n",
              "    <tr>\n",
              "      <th>2016-09-06</th>\n",
              "      <td>53.459</td>\n",
              "      <td>53.478</td>\n",
              "      <td>52.934</td>\n",
              "      <td>53.303</td>\n",
              "      <td>16196267</td>\n",
              "      <td>53.3810</td>\n",
              "      <td>-0.001049</td>\n",
              "    </tr>\n",
              "    <tr>\n",
              "      <th>2016-09-08</th>\n",
              "      <td>53.320</td>\n",
              "      <td>53.468</td>\n",
              "      <td>52.905</td>\n",
              "      <td>53.135</td>\n",
              "      <td>19473862</td>\n",
              "      <td>53.2275</td>\n",
              "      <td>-0.004030</td>\n",
              "    </tr>\n",
              "    <tr>\n",
              "      <th>...</th>\n",
              "      <td>...</td>\n",
              "      <td>...</td>\n",
              "      <td>...</td>\n",
              "      <td>...</td>\n",
              "      <td>...</td>\n",
              "      <td>...</td>\n",
              "      <td>...</td>\n",
              "    </tr>\n",
              "    <tr>\n",
              "      <th>2021-08-06</th>\n",
              "      <td>287.950</td>\n",
              "      <td>288.950</td>\n",
              "      <td>287.070</td>\n",
              "      <td>288.910</td>\n",
              "      <td>16621095</td>\n",
              "      <td>288.4300</td>\n",
              "      <td>-0.000208</td>\n",
              "    </tr>\n",
              "    <tr>\n",
              "      <th>2021-08-09</th>\n",
              "      <td>289.200</td>\n",
              "      <td>290.990</td>\n",
              "      <td>287.260</td>\n",
              "      <td>287.780</td>\n",
              "      <td>16148485</td>\n",
              "      <td>288.4900</td>\n",
              "      <td>-0.003911</td>\n",
              "    </tr>\n",
              "    <tr>\n",
              "      <th>2021-08-10</th>\n",
              "      <td>288.250</td>\n",
              "      <td>288.700</td>\n",
              "      <td>284.660</td>\n",
              "      <td>285.890</td>\n",
              "      <td>18652218</td>\n",
              "      <td>287.0700</td>\n",
              "      <td>-0.006568</td>\n",
              "    </tr>\n",
              "    <tr>\n",
              "      <th>2021-08-17</th>\n",
              "      <td>291.830</td>\n",
              "      <td>292.870</td>\n",
              "      <td>290.520</td>\n",
              "      <td>292.520</td>\n",
              "      <td>20113682</td>\n",
              "      <td>292.1750</td>\n",
              "      <td>-0.005169</td>\n",
              "    </tr>\n",
              "    <tr>\n",
              "      <th>2021-08-18</th>\n",
              "      <td>292.040</td>\n",
              "      <td>294.820</td>\n",
              "      <td>290.270</td>\n",
              "      <td>290.730</td>\n",
              "      <td>21812985</td>\n",
              "      <td>291.3850</td>\n",
              "      <td>-0.006119</td>\n",
              "    </tr>\n",
              "  </tbody>\n",
              "</table>\n",
              "<p>550 rows × 7 columns</p>\n",
              "</div>"
            ],
            "text/plain": [
              "               Open     High      Low  ...    Volume   Average  Daily_change\n",
              "Date                                   ...                                  \n",
              "2016-08-26   53.923   54.312   53.379  ...  20337823   53.8115     -0.002248\n",
              "2016-08-30   53.646   53.840   53.303  ...  17284413   53.6035     -0.003646\n",
              "2016-08-31   53.340   53.478   53.016  ...  20673204   53.2515     -0.007431\n",
              "2016-09-06   53.459   53.478   52.934  ...  16196267   53.3810     -0.001049\n",
              "2016-09-08   53.320   53.468   52.905  ...  19473862   53.2275     -0.004030\n",
              "...             ...      ...      ...  ...       ...       ...           ...\n",
              "2021-08-06  287.950  288.950  287.070  ...  16621095  288.4300     -0.000208\n",
              "2021-08-09  289.200  290.990  287.260  ...  16148485  288.4900     -0.003911\n",
              "2021-08-10  288.250  288.700  284.660  ...  18652218  287.0700     -0.006568\n",
              "2021-08-17  291.830  292.870  290.520  ...  20113682  292.1750     -0.005169\n",
              "2021-08-18  292.040  294.820  290.270  ...  21812985  291.3850     -0.006119\n",
              "\n",
              "[550 rows x 7 columns]"
            ]
          },
          "metadata": {},
          "execution_count": 21
        }
      ]
    },
    {
      "cell_type": "code",
      "metadata": {
        "id": "mdO5gJq7NZ1x",
        "colab": {
          "base_uri": "https://localhost:8080/",
          "height": 235
        },
        "outputId": "8ea5a2a2-3335-468b-ba5a-17cdb6d8d355"
      },
      "source": [
        "df_positive = df[df.Daily_change > 0]\n",
        "df_positive.head()"
      ],
      "execution_count": null,
      "outputs": [
        {
          "output_type": "execute_result",
          "data": {
            "text/html": [
              "<div>\n",
              "<style scoped>\n",
              "    .dataframe tbody tr th:only-of-type {\n",
              "        vertical-align: middle;\n",
              "    }\n",
              "\n",
              "    .dataframe tbody tr th {\n",
              "        vertical-align: top;\n",
              "    }\n",
              "\n",
              "    .dataframe thead th {\n",
              "        text-align: right;\n",
              "    }\n",
              "</style>\n",
              "<table border=\"1\" class=\"dataframe\">\n",
              "  <thead>\n",
              "    <tr style=\"text-align: right;\">\n",
              "      <th></th>\n",
              "      <th>Open</th>\n",
              "      <th>High</th>\n",
              "      <th>Low</th>\n",
              "      <th>Close</th>\n",
              "      <th>Volume</th>\n",
              "      <th>Average</th>\n",
              "      <th>Daily_change</th>\n",
              "    </tr>\n",
              "    <tr>\n",
              "      <th>Date</th>\n",
              "      <th></th>\n",
              "      <th></th>\n",
              "      <th></th>\n",
              "      <th></th>\n",
              "      <th></th>\n",
              "      <th></th>\n",
              "      <th></th>\n",
              "    </tr>\n",
              "  </thead>\n",
              "  <tbody>\n",
              "    <tr>\n",
              "      <th>2016-08-23</th>\n",
              "      <td>53.569</td>\n",
              "      <td>53.830</td>\n",
              "      <td>53.524</td>\n",
              "      <td>53.561</td>\n",
              "      <td>18232204</td>\n",
              "      <td>53.5650</td>\n",
              "      <td>0.003786</td>\n",
              "    </tr>\n",
              "    <tr>\n",
              "      <th>2016-08-24</th>\n",
              "      <td>53.478</td>\n",
              "      <td>53.700</td>\n",
              "      <td>53.401</td>\n",
              "      <td>53.617</td>\n",
              "      <td>17731419</td>\n",
              "      <td>53.5475</td>\n",
              "      <td>0.001046</td>\n",
              "    </tr>\n",
              "    <tr>\n",
              "      <th>2016-08-25</th>\n",
              "      <td>53.552</td>\n",
              "      <td>53.932</td>\n",
              "      <td>53.459</td>\n",
              "      <td>53.821</td>\n",
              "      <td>17349761</td>\n",
              "      <td>53.6865</td>\n",
              "      <td>0.003805</td>\n",
              "    </tr>\n",
              "    <tr>\n",
              "      <th>2016-08-29</th>\n",
              "      <td>53.830</td>\n",
              "      <td>54.218</td>\n",
              "      <td>53.757</td>\n",
              "      <td>53.757</td>\n",
              "      <td>13741851</td>\n",
              "      <td>53.7935</td>\n",
              "      <td>0.001061</td>\n",
              "    </tr>\n",
              "    <tr>\n",
              "      <th>2016-09-01</th>\n",
              "      <td>52.746</td>\n",
              "      <td>53.496</td>\n",
              "      <td>52.746</td>\n",
              "      <td>53.274</td>\n",
              "      <td>25267415</td>\n",
              "      <td>53.0100</td>\n",
              "      <td>0.002088</td>\n",
              "    </tr>\n",
              "  </tbody>\n",
              "</table>\n",
              "</div>"
            ],
            "text/plain": [
              "              Open    High     Low   Close    Volume  Average  Daily_change\n",
              "Date                                                                       \n",
              "2016-08-23  53.569  53.830  53.524  53.561  18232204  53.5650      0.003786\n",
              "2016-08-24  53.478  53.700  53.401  53.617  17731419  53.5475      0.001046\n",
              "2016-08-25  53.552  53.932  53.459  53.821  17349761  53.6865      0.003805\n",
              "2016-08-29  53.830  54.218  53.757  53.757  13741851  53.7935      0.001061\n",
              "2016-09-01  52.746  53.496  52.746  53.274  25267415  53.0100      0.002088"
            ]
          },
          "metadata": {},
          "execution_count": 22
        }
      ]
    },
    {
      "cell_type": "code",
      "metadata": {
        "id": "9aybMv0rNpfm",
        "colab": {
          "base_uri": "https://localhost:8080/"
        },
        "outputId": "94260488-366e-4534-9c78-ac4ab0a33053"
      },
      "source": [
        "df_positive.Daily_change.mean() #średnia dodatnia kwota zwrotu"
      ],
      "execution_count": null,
      "outputs": [
        {
          "output_type": "execute_result",
          "data": {
            "text/plain": [
              "0.011582476166565199"
            ]
          },
          "metadata": {},
          "execution_count": 23
        }
      ]
    },
    {
      "cell_type": "code",
      "metadata": {
        "id": "psFvq7wxN2lI",
        "colab": {
          "base_uri": "https://localhost:8080/"
        },
        "outputId": "914150cb-6da2-4388-94e0-8cb28d94082f"
      },
      "source": [
        "df_negative = df[df.Daily_change < 0]\n",
        "df_negative.Daily_change.mean()"
      ],
      "execution_count": null,
      "outputs": [
        {
          "output_type": "execute_result",
          "data": {
            "text/plain": [
              "-0.011215039326844877"
            ]
          },
          "metadata": {},
          "execution_count": 24
        }
      ]
    },
    {
      "cell_type": "code",
      "metadata": {
        "id": "kxopavQ6OSKM",
        "colab": {
          "base_uri": "https://localhost:8080/",
          "height": 266
        },
        "outputId": "a6d32568-0982-4914-a31e-50b81a614476"
      },
      "source": [
        "df[df.Close == df.High]"
      ],
      "execution_count": null,
      "outputs": [
        {
          "output_type": "execute_result",
          "data": {
            "text/html": [
              "<div>\n",
              "<style scoped>\n",
              "    .dataframe tbody tr th:only-of-type {\n",
              "        vertical-align: middle;\n",
              "    }\n",
              "\n",
              "    .dataframe tbody tr th {\n",
              "        vertical-align: top;\n",
              "    }\n",
              "\n",
              "    .dataframe thead th {\n",
              "        text-align: right;\n",
              "    }\n",
              "</style>\n",
              "<table border=\"1\" class=\"dataframe\">\n",
              "  <thead>\n",
              "    <tr style=\"text-align: right;\">\n",
              "      <th></th>\n",
              "      <th>Open</th>\n",
              "      <th>High</th>\n",
              "      <th>Low</th>\n",
              "      <th>Close</th>\n",
              "      <th>Volume</th>\n",
              "      <th>Average</th>\n",
              "      <th>Daily_change</th>\n",
              "    </tr>\n",
              "    <tr>\n",
              "      <th>Date</th>\n",
              "      <th></th>\n",
              "      <th></th>\n",
              "      <th></th>\n",
              "      <th></th>\n",
              "      <th></th>\n",
              "      <th></th>\n",
              "      <th></th>\n",
              "    </tr>\n",
              "  </thead>\n",
              "  <tbody>\n",
              "    <tr>\n",
              "      <th>2016-10-24</th>\n",
              "      <td>55.462</td>\n",
              "      <td>56.438</td>\n",
              "      <td>55.452</td>\n",
              "      <td>56.438</td>\n",
              "      <td>54952525</td>\n",
              "      <td>55.950</td>\n",
              "      <td>0.022446</td>\n",
              "    </tr>\n",
              "    <tr>\n",
              "      <th>2016-11-25</th>\n",
              "      <td>56.168</td>\n",
              "      <td>56.382</td>\n",
              "      <td>56.009</td>\n",
              "      <td>56.382</td>\n",
              "      <td>8530896</td>\n",
              "      <td>56.275</td>\n",
              "      <td>0.002133</td>\n",
              "    </tr>\n",
              "    <tr>\n",
              "      <th>2017-05-30</th>\n",
              "      <td>65.778</td>\n",
              "      <td>66.360</td>\n",
              "      <td>65.759</td>\n",
              "      <td>66.360</td>\n",
              "      <td>18098130</td>\n",
              "      <td>66.069</td>\n",
              "      <td>0.006430</td>\n",
              "    </tr>\n",
              "    <tr>\n",
              "      <th>2018-01-26</th>\n",
              "      <td>88.677</td>\n",
              "      <td>89.573</td>\n",
              "      <td>88.162</td>\n",
              "      <td>89.573</td>\n",
              "      <td>30417685</td>\n",
              "      <td>89.125</td>\n",
              "      <td>0.018755</td>\n",
              "    </tr>\n",
              "    <tr>\n",
              "      <th>2018-03-09</th>\n",
              "      <td>91.167</td>\n",
              "      <td>92.365</td>\n",
              "      <td>90.890</td>\n",
              "      <td>92.365</td>\n",
              "      <td>38606957</td>\n",
              "      <td>91.766</td>\n",
              "      <td>0.022347</td>\n",
              "    </tr>\n",
              "    <tr>\n",
              "      <th>2019-01-30</th>\n",
              "      <td>101.370</td>\n",
              "      <td>103.050</td>\n",
              "      <td>101.090</td>\n",
              "      <td>103.050</td>\n",
              "      <td>51067041</td>\n",
              "      <td>102.210</td>\n",
              "      <td>0.033394</td>\n",
              "    </tr>\n",
              "  </tbody>\n",
              "</table>\n",
              "</div>"
            ],
            "text/plain": [
              "               Open     High      Low    Close    Volume  Average  Daily_change\n",
              "Date                                                                           \n",
              "2016-10-24   55.462   56.438   55.452   56.438  54952525   55.950      0.022446\n",
              "2016-11-25   56.168   56.382   56.009   56.382   8530896   56.275      0.002133\n",
              "2017-05-30   65.778   66.360   65.759   66.360  18098130   66.069      0.006430\n",
              "2018-01-26   88.677   89.573   88.162   89.573  30417685   89.125      0.018755\n",
              "2018-03-09   91.167   92.365   90.890   92.365  38606957   91.766      0.022347\n",
              "2019-01-30  101.370  103.050  101.090  103.050  51067041  102.210      0.033394"
            ]
          },
          "metadata": {},
          "execution_count": 26
        }
      ]
    },
    {
      "cell_type": "code",
      "metadata": {
        "id": "qcT_KmxIOq_X",
        "colab": {
          "base_uri": "https://localhost:8080/"
        },
        "outputId": "e39115cc-1a44-4ceb-cdba-e7b3a26491bd"
      },
      "source": [
        "df.index"
      ],
      "execution_count": null,
      "outputs": [
        {
          "output_type": "execute_result",
          "data": {
            "text/plain": [
              "DatetimeIndex(['2016-08-22', '2016-08-23', '2016-08-24', '2016-08-25',\n",
              "               '2016-08-26', '2016-08-29', '2016-08-30', '2016-08-31',\n",
              "               '2016-09-01', '2016-09-02',\n",
              "               ...\n",
              "               '2021-08-05', '2021-08-06', '2021-08-09', '2021-08-10',\n",
              "               '2021-08-11', '2021-08-12', '2021-08-13', '2021-08-16',\n",
              "               '2021-08-17', '2021-08-18'],\n",
              "              dtype='datetime64[ns]', name='Date', length=1257, freq=None)"
            ]
          },
          "metadata": {},
          "execution_count": 27
        }
      ]
    },
    {
      "cell_type": "code",
      "metadata": {
        "id": "rmZn_CZgOthR",
        "colab": {
          "base_uri": "https://localhost:8080/"
        },
        "outputId": "3535809c-4666-46ea-c3b0-05f89a6dd504"
      },
      "source": [
        "df[df.index > '2021-08-05'].mean()"
      ],
      "execution_count": null,
      "outputs": [
        {
          "output_type": "execute_result",
          "data": {
            "text/plain": [
              "Open            2.892856e+02\n",
              "High            2.911622e+02\n",
              "Low             2.876778e+02\n",
              "Close           2.897578e+02\n",
              "Volume          1.808584e+07\n",
              "Average         2.895217e+02\n",
              "Daily_change    6.952376e-04\n",
              "dtype: float64"
            ]
          },
          "metadata": {},
          "execution_count": 30
        }
      ]
    },
    {
      "cell_type": "code",
      "metadata": {
        "id": "Y33NikdnPJwr",
        "colab": {
          "base_uri": "https://localhost:8080/",
          "height": 390
        },
        "outputId": "a2725450-f0ca-4c18-8e36-c5db9e6c3646"
      },
      "source": [
        "df[(df.index >= '2021-08-01') & (df.index < '2021-8-15')]"
      ],
      "execution_count": null,
      "outputs": [
        {
          "output_type": "execute_result",
          "data": {
            "text/html": [
              "<div>\n",
              "<style scoped>\n",
              "    .dataframe tbody tr th:only-of-type {\n",
              "        vertical-align: middle;\n",
              "    }\n",
              "\n",
              "    .dataframe tbody tr th {\n",
              "        vertical-align: top;\n",
              "    }\n",
              "\n",
              "    .dataframe thead th {\n",
              "        text-align: right;\n",
              "    }\n",
              "</style>\n",
              "<table border=\"1\" class=\"dataframe\">\n",
              "  <thead>\n",
              "    <tr style=\"text-align: right;\">\n",
              "      <th></th>\n",
              "      <th>Open</th>\n",
              "      <th>High</th>\n",
              "      <th>Low</th>\n",
              "      <th>Close</th>\n",
              "      <th>Volume</th>\n",
              "      <th>Average</th>\n",
              "      <th>Daily_change</th>\n",
              "    </tr>\n",
              "    <tr>\n",
              "      <th>Date</th>\n",
              "      <th></th>\n",
              "      <th></th>\n",
              "      <th></th>\n",
              "      <th></th>\n",
              "      <th></th>\n",
              "      <th></th>\n",
              "      <th></th>\n",
              "    </tr>\n",
              "  </thead>\n",
              "  <tbody>\n",
              "    <tr>\n",
              "      <th>2021-08-02</th>\n",
              "      <td>285.81</td>\n",
              "      <td>286.23</td>\n",
              "      <td>283.20</td>\n",
              "      <td>284.28</td>\n",
              "      <td>16298499</td>\n",
              "      <td>285.045</td>\n",
              "      <td>-0.000316</td>\n",
              "    </tr>\n",
              "    <tr>\n",
              "      <th>2021-08-03</th>\n",
              "      <td>284.87</td>\n",
              "      <td>286.68</td>\n",
              "      <td>283.46</td>\n",
              "      <td>286.57</td>\n",
              "      <td>17913276</td>\n",
              "      <td>285.720</td>\n",
              "      <td>0.008055</td>\n",
              "    </tr>\n",
              "    <tr>\n",
              "      <th>2021-08-04</th>\n",
              "      <td>285.67</td>\n",
              "      <td>287.04</td>\n",
              "      <td>284.11</td>\n",
              "      <td>285.96</td>\n",
              "      <td>16222298</td>\n",
              "      <td>285.815</td>\n",
              "      <td>-0.002129</td>\n",
              "    </tr>\n",
              "    <tr>\n",
              "      <th>2021-08-05</th>\n",
              "      <td>286.33</td>\n",
              "      <td>289.08</td>\n",
              "      <td>285.55</td>\n",
              "      <td>288.97</td>\n",
              "      <td>13926777</td>\n",
              "      <td>287.650</td>\n",
              "      <td>0.010526</td>\n",
              "    </tr>\n",
              "    <tr>\n",
              "      <th>2021-08-06</th>\n",
              "      <td>287.95</td>\n",
              "      <td>288.95</td>\n",
              "      <td>287.07</td>\n",
              "      <td>288.91</td>\n",
              "      <td>16621095</td>\n",
              "      <td>288.430</td>\n",
              "      <td>-0.000208</td>\n",
              "    </tr>\n",
              "    <tr>\n",
              "      <th>2021-08-09</th>\n",
              "      <td>289.20</td>\n",
              "      <td>290.99</td>\n",
              "      <td>287.26</td>\n",
              "      <td>287.78</td>\n",
              "      <td>16148485</td>\n",
              "      <td>288.490</td>\n",
              "      <td>-0.003911</td>\n",
              "    </tr>\n",
              "    <tr>\n",
              "      <th>2021-08-10</th>\n",
              "      <td>288.25</td>\n",
              "      <td>288.70</td>\n",
              "      <td>284.66</td>\n",
              "      <td>285.89</td>\n",
              "      <td>18652218</td>\n",
              "      <td>287.070</td>\n",
              "      <td>-0.006568</td>\n",
              "    </tr>\n",
              "    <tr>\n",
              "      <th>2021-08-11</th>\n",
              "      <td>286.66</td>\n",
              "      <td>288.11</td>\n",
              "      <td>285.31</td>\n",
              "      <td>286.40</td>\n",
              "      <td>13982651</td>\n",
              "      <td>286.530</td>\n",
              "      <td>0.001784</td>\n",
              "    </tr>\n",
              "    <tr>\n",
              "      <th>2021-08-12</th>\n",
              "      <td>286.08</td>\n",
              "      <td>289.42</td>\n",
              "      <td>285.79</td>\n",
              "      <td>289.26</td>\n",
              "      <td>14598285</td>\n",
              "      <td>287.670</td>\n",
              "      <td>0.009986</td>\n",
              "    </tr>\n",
              "    <tr>\n",
              "      <th>2021-08-13</th>\n",
              "      <td>288.93</td>\n",
              "      <td>292.34</td>\n",
              "      <td>288.75</td>\n",
              "      <td>292.29</td>\n",
              "      <td>18283982</td>\n",
              "      <td>290.610</td>\n",
              "      <td>0.010475</td>\n",
              "    </tr>\n",
              "  </tbody>\n",
              "</table>\n",
              "</div>"
            ],
            "text/plain": [
              "              Open    High     Low   Close    Volume  Average  Daily_change\n",
              "Date                                                                       \n",
              "2021-08-02  285.81  286.23  283.20  284.28  16298499  285.045     -0.000316\n",
              "2021-08-03  284.87  286.68  283.46  286.57  17913276  285.720      0.008055\n",
              "2021-08-04  285.67  287.04  284.11  285.96  16222298  285.815     -0.002129\n",
              "2021-08-05  286.33  289.08  285.55  288.97  13926777  287.650      0.010526\n",
              "2021-08-06  287.95  288.95  287.07  288.91  16621095  288.430     -0.000208\n",
              "2021-08-09  289.20  290.99  287.26  287.78  16148485  288.490     -0.003911\n",
              "2021-08-10  288.25  288.70  284.66  285.89  18652218  287.070     -0.006568\n",
              "2021-08-11  286.66  288.11  285.31  286.40  13982651  286.530      0.001784\n",
              "2021-08-12  286.08  289.42  285.79  289.26  14598285  287.670      0.009986\n",
              "2021-08-13  288.93  292.34  288.75  292.29  18283982  290.610      0.010475"
            ]
          },
          "metadata": {},
          "execution_count": 31
        }
      ]
    },
    {
      "cell_type": "code",
      "metadata": {
        "id": "ARHmLFtKPxNw",
        "colab": {
          "base_uri": "https://localhost:8080/",
          "height": 142
        },
        "outputId": "d2ea3e3a-3631-41d3-f967-54513197768f"
      },
      "source": [
        "df[(df.index == '2021-08-02') | (df.index == '2021-08-12')]"
      ],
      "execution_count": null,
      "outputs": [
        {
          "output_type": "execute_result",
          "data": {
            "text/html": [
              "<div>\n",
              "<style scoped>\n",
              "    .dataframe tbody tr th:only-of-type {\n",
              "        vertical-align: middle;\n",
              "    }\n",
              "\n",
              "    .dataframe tbody tr th {\n",
              "        vertical-align: top;\n",
              "    }\n",
              "\n",
              "    .dataframe thead th {\n",
              "        text-align: right;\n",
              "    }\n",
              "</style>\n",
              "<table border=\"1\" class=\"dataframe\">\n",
              "  <thead>\n",
              "    <tr style=\"text-align: right;\">\n",
              "      <th></th>\n",
              "      <th>Open</th>\n",
              "      <th>High</th>\n",
              "      <th>Low</th>\n",
              "      <th>Close</th>\n",
              "      <th>Volume</th>\n",
              "      <th>Average</th>\n",
              "      <th>Daily_change</th>\n",
              "    </tr>\n",
              "    <tr>\n",
              "      <th>Date</th>\n",
              "      <th></th>\n",
              "      <th></th>\n",
              "      <th></th>\n",
              "      <th></th>\n",
              "      <th></th>\n",
              "      <th></th>\n",
              "      <th></th>\n",
              "    </tr>\n",
              "  </thead>\n",
              "  <tbody>\n",
              "    <tr>\n",
              "      <th>2021-08-02</th>\n",
              "      <td>285.81</td>\n",
              "      <td>286.23</td>\n",
              "      <td>283.20</td>\n",
              "      <td>284.28</td>\n",
              "      <td>16298499</td>\n",
              "      <td>285.045</td>\n",
              "      <td>-0.000316</td>\n",
              "    </tr>\n",
              "    <tr>\n",
              "      <th>2021-08-12</th>\n",
              "      <td>286.08</td>\n",
              "      <td>289.42</td>\n",
              "      <td>285.79</td>\n",
              "      <td>289.26</td>\n",
              "      <td>14598285</td>\n",
              "      <td>287.670</td>\n",
              "      <td>0.009986</td>\n",
              "    </tr>\n",
              "  </tbody>\n",
              "</table>\n",
              "</div>"
            ],
            "text/plain": [
              "              Open    High     Low   Close    Volume  Average  Daily_change\n",
              "Date                                                                       \n",
              "2021-08-02  285.81  286.23  283.20  284.28  16298499  285.045     -0.000316\n",
              "2021-08-12  286.08  289.42  285.79  289.26  14598285  287.670      0.009986"
            ]
          },
          "metadata": {},
          "execution_count": 38
        }
      ]
    },
    {
      "cell_type": "code",
      "metadata": {
        "id": "Gx-cL4j_QkA_",
        "colab": {
          "base_uri": "https://localhost:8080/",
          "height": 700
        },
        "outputId": "b53c7e09-c935-466e-e892-c53700bf3f40"
      },
      "source": [
        "df[(df.index.month == 5) & (df.index.year == 2021)]"
      ],
      "execution_count": null,
      "outputs": [
        {
          "output_type": "execute_result",
          "data": {
            "text/html": [
              "<div>\n",
              "<style scoped>\n",
              "    .dataframe tbody tr th:only-of-type {\n",
              "        vertical-align: middle;\n",
              "    }\n",
              "\n",
              "    .dataframe tbody tr th {\n",
              "        vertical-align: top;\n",
              "    }\n",
              "\n",
              "    .dataframe thead th {\n",
              "        text-align: right;\n",
              "    }\n",
              "</style>\n",
              "<table border=\"1\" class=\"dataframe\">\n",
              "  <thead>\n",
              "    <tr style=\"text-align: right;\">\n",
              "      <th></th>\n",
              "      <th>Open</th>\n",
              "      <th>High</th>\n",
              "      <th>Low</th>\n",
              "      <th>Close</th>\n",
              "      <th>Volume</th>\n",
              "      <th>Average</th>\n",
              "      <th>Daily_change</th>\n",
              "    </tr>\n",
              "    <tr>\n",
              "      <th>Date</th>\n",
              "      <th></th>\n",
              "      <th></th>\n",
              "      <th></th>\n",
              "      <th></th>\n",
              "      <th></th>\n",
              "      <th></th>\n",
              "      <th></th>\n",
              "    </tr>\n",
              "  </thead>\n",
              "  <tbody>\n",
              "    <tr>\n",
              "      <th>2021-05-03</th>\n",
              "      <td>252.34</td>\n",
              "      <td>253.28</td>\n",
              "      <td>250.06</td>\n",
              "      <td>250.80</td>\n",
              "      <td>19709547</td>\n",
              "      <td>251.570</td>\n",
              "      <td>-0.001274</td>\n",
              "    </tr>\n",
              "    <tr>\n",
              "      <th>2021-05-04</th>\n",
              "      <td>249.91</td>\n",
              "      <td>250.15</td>\n",
              "      <td>244.72</td>\n",
              "      <td>246.75</td>\n",
              "      <td>32894542</td>\n",
              "      <td>248.330</td>\n",
              "      <td>-0.016148</td>\n",
              "    </tr>\n",
              "    <tr>\n",
              "      <th>2021-05-05</th>\n",
              "      <td>248.02</td>\n",
              "      <td>248.45</td>\n",
              "      <td>244.78</td>\n",
              "      <td>245.43</td>\n",
              "      <td>21993922</td>\n",
              "      <td>246.725</td>\n",
              "      <td>-0.005350</td>\n",
              "    </tr>\n",
              "    <tr>\n",
              "      <th>2021-05-06</th>\n",
              "      <td>245.41</td>\n",
              "      <td>248.80</td>\n",
              "      <td>243.66</td>\n",
              "      <td>248.67</td>\n",
              "      <td>26603087</td>\n",
              "      <td>247.040</td>\n",
              "      <td>0.013201</td>\n",
              "    </tr>\n",
              "    <tr>\n",
              "      <th>2021-05-07</th>\n",
              "      <td>251.09</td>\n",
              "      <td>253.23</td>\n",
              "      <td>250.11</td>\n",
              "      <td>251.40</td>\n",
              "      <td>27147204</td>\n",
              "      <td>251.245</td>\n",
              "      <td>0.010978</td>\n",
              "    </tr>\n",
              "    <tr>\n",
              "      <th>2021-05-10</th>\n",
              "      <td>249.81</td>\n",
              "      <td>250.67</td>\n",
              "      <td>246.08</td>\n",
              "      <td>246.14</td>\n",
              "      <td>29423767</td>\n",
              "      <td>247.975</td>\n",
              "      <td>-0.020923</td>\n",
              "    </tr>\n",
              "    <tr>\n",
              "      <th>2021-05-11</th>\n",
              "      <td>243.52</td>\n",
              "      <td>245.56</td>\n",
              "      <td>241.55</td>\n",
              "      <td>245.19</td>\n",
              "      <td>33783822</td>\n",
              "      <td>244.355</td>\n",
              "      <td>-0.003860</td>\n",
              "    </tr>\n",
              "    <tr>\n",
              "      <th>2021-05-12</th>\n",
              "      <td>241.15</td>\n",
              "      <td>243.35</td>\n",
              "      <td>237.07</td>\n",
              "      <td>237.99</td>\n",
              "      <td>36839468</td>\n",
              "      <td>239.570</td>\n",
              "      <td>-0.029365</td>\n",
              "    </tr>\n",
              "    <tr>\n",
              "      <th>2021-05-13</th>\n",
              "      <td>240.78</td>\n",
              "      <td>244.56</td>\n",
              "      <td>240.40</td>\n",
              "      <td>242.01</td>\n",
              "      <td>29749547</td>\n",
              "      <td>241.395</td>\n",
              "      <td>0.016891</td>\n",
              "    </tr>\n",
              "    <tr>\n",
              "      <th>2021-05-14</th>\n",
              "      <td>244.54</td>\n",
              "      <td>248.13</td>\n",
              "      <td>244.45</td>\n",
              "      <td>247.11</td>\n",
              "      <td>24002133</td>\n",
              "      <td>245.825</td>\n",
              "      <td>0.021074</td>\n",
              "    </tr>\n",
              "    <tr>\n",
              "      <th>2021-05-17</th>\n",
              "      <td>245.51</td>\n",
              "      <td>245.55</td>\n",
              "      <td>242.50</td>\n",
              "      <td>244.15</td>\n",
              "      <td>25075739</td>\n",
              "      <td>244.830</td>\n",
              "      <td>-0.011978</td>\n",
              "    </tr>\n",
              "    <tr>\n",
              "      <th>2021-05-18</th>\n",
              "      <td>245.23</td>\n",
              "      <td>245.37</td>\n",
              "      <td>241.88</td>\n",
              "      <td>242.06</td>\n",
              "      <td>20253244</td>\n",
              "      <td>243.645</td>\n",
              "      <td>-0.008560</td>\n",
              "    </tr>\n",
              "    <tr>\n",
              "      <th>2021-05-19</th>\n",
              "      <td>238.85</td>\n",
              "      <td>242.77</td>\n",
              "      <td>238.14</td>\n",
              "      <td>242.66</td>\n",
              "      <td>25789083</td>\n",
              "      <td>240.755</td>\n",
              "      <td>0.002479</td>\n",
              "    </tr>\n",
              "    <tr>\n",
              "      <th>2021-05-20</th>\n",
              "      <td>243.49</td>\n",
              "      <td>247.48</td>\n",
              "      <td>243.39</td>\n",
              "      <td>246.01</td>\n",
              "      <td>21842451</td>\n",
              "      <td>244.750</td>\n",
              "      <td>0.013805</td>\n",
              "    </tr>\n",
              "    <tr>\n",
              "      <th>2021-05-21</th>\n",
              "      <td>247.09</td>\n",
              "      <td>247.86</td>\n",
              "      <td>244.27</td>\n",
              "      <td>244.70</td>\n",
              "      <td>21904913</td>\n",
              "      <td>245.895</td>\n",
              "      <td>-0.005325</td>\n",
              "    </tr>\n",
              "    <tr>\n",
              "      <th>2021-05-24</th>\n",
              "      <td>247.31</td>\n",
              "      <td>250.68</td>\n",
              "      <td>247.04</td>\n",
              "      <td>250.30</td>\n",
              "      <td>21452537</td>\n",
              "      <td>248.805</td>\n",
              "      <td>0.022885</td>\n",
              "    </tr>\n",
              "    <tr>\n",
              "      <th>2021-05-25</th>\n",
              "      <td>251.29</td>\n",
              "      <td>252.27</td>\n",
              "      <td>250.34</td>\n",
              "      <td>251.24</td>\n",
              "      <td>17738196</td>\n",
              "      <td>251.265</td>\n",
              "      <td>0.003755</td>\n",
              "    </tr>\n",
              "    <tr>\n",
              "      <th>2021-05-26</th>\n",
              "      <td>250.95</td>\n",
              "      <td>252.46</td>\n",
              "      <td>250.27</td>\n",
              "      <td>251.01</td>\n",
              "      <td>17805622</td>\n",
              "      <td>250.980</td>\n",
              "      <td>-0.000915</td>\n",
              "    </tr>\n",
              "    <tr>\n",
              "      <th>2021-05-27</th>\n",
              "      <td>250.69</td>\n",
              "      <td>251.00</td>\n",
              "      <td>248.77</td>\n",
              "      <td>248.83</td>\n",
              "      <td>24473006</td>\n",
              "      <td>249.760</td>\n",
              "      <td>-0.008685</td>\n",
              "    </tr>\n",
              "    <tr>\n",
              "      <th>2021-05-28</th>\n",
              "      <td>250.52</td>\n",
              "      <td>251.60</td>\n",
              "      <td>249.08</td>\n",
              "      <td>249.20</td>\n",
              "      <td>18309928</td>\n",
              "      <td>249.860</td>\n",
              "      <td>0.001487</td>\n",
              "    </tr>\n",
              "  </tbody>\n",
              "</table>\n",
              "</div>"
            ],
            "text/plain": [
              "              Open    High     Low   Close    Volume  Average  Daily_change\n",
              "Date                                                                       \n",
              "2021-05-03  252.34  253.28  250.06  250.80  19709547  251.570     -0.001274\n",
              "2021-05-04  249.91  250.15  244.72  246.75  32894542  248.330     -0.016148\n",
              "2021-05-05  248.02  248.45  244.78  245.43  21993922  246.725     -0.005350\n",
              "2021-05-06  245.41  248.80  243.66  248.67  26603087  247.040      0.013201\n",
              "2021-05-07  251.09  253.23  250.11  251.40  27147204  251.245      0.010978\n",
              "2021-05-10  249.81  250.67  246.08  246.14  29423767  247.975     -0.020923\n",
              "2021-05-11  243.52  245.56  241.55  245.19  33783822  244.355     -0.003860\n",
              "2021-05-12  241.15  243.35  237.07  237.99  36839468  239.570     -0.029365\n",
              "2021-05-13  240.78  244.56  240.40  242.01  29749547  241.395      0.016891\n",
              "2021-05-14  244.54  248.13  244.45  247.11  24002133  245.825      0.021074\n",
              "2021-05-17  245.51  245.55  242.50  244.15  25075739  244.830     -0.011978\n",
              "2021-05-18  245.23  245.37  241.88  242.06  20253244  243.645     -0.008560\n",
              "2021-05-19  238.85  242.77  238.14  242.66  25789083  240.755      0.002479\n",
              "2021-05-20  243.49  247.48  243.39  246.01  21842451  244.750      0.013805\n",
              "2021-05-21  247.09  247.86  244.27  244.70  21904913  245.895     -0.005325\n",
              "2021-05-24  247.31  250.68  247.04  250.30  21452537  248.805      0.022885\n",
              "2021-05-25  251.29  252.27  250.34  251.24  17738196  251.265      0.003755\n",
              "2021-05-26  250.95  252.46  250.27  251.01  17805622  250.980     -0.000915\n",
              "2021-05-27  250.69  251.00  248.77  248.83  24473006  249.760     -0.008685\n",
              "2021-05-28  250.52  251.60  249.08  249.20  18309928  249.860      0.001487"
            ]
          },
          "metadata": {},
          "execution_count": 40
        }
      ]
    }
  ]
}