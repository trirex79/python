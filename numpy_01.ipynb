{
  "nbformat": 4,
  "nbformat_minor": 0,
  "metadata": {
    "colab": {
      "name": "numpy_01.ipynb",
      "provenance": [],
      "collapsed_sections": [],
      "authorship_tag": "ABX9TyO8XFrYbgDk3s+M1fzR424G",
      "include_colab_link": true
    },
    "kernelspec": {
      "name": "python3",
      "display_name": "Python 3"
    },
    "language_info": {
      "name": "python"
    }
  },
  "cells": [
    {
      "cell_type": "markdown",
      "metadata": {
        "id": "view-in-github",
        "colab_type": "text"
      },
      "source": [
        "<a href=\"https://colab.research.google.com/github/trirex79/python/blob/main/numpy_01.ipynb\" target=\"_parent\"><img src=\"https://colab.research.google.com/assets/colab-badge.svg\" alt=\"Open In Colab\"/></a>"
      ]
    },
    {
      "cell_type": "markdown",
      "metadata": {
        "id": "WKWTm1N7P3x6"
      },
      "source": [
        "Strona biblioteki: https://numpy.org/\n",
        "Dokumentacja: https://numpy.org/doc/\n",
        "\n",
        "Podstawowa biblioteka do obliczeń numerycznych w języku Python.\n",
        "\n",
        "Aby zainstalować bibliotekę NumPy, użyj polecenia: pip install numpy"
      ]
    },
    {
      "cell_type": "markdown",
      "metadata": {
        "id": "akEEvekxQZ0D"
      },
      "source": [
        "#Podstawy"
      ]
    },
    {
      "cell_type": "code",
      "metadata": {
        "colab": {
          "base_uri": "https://localhost:8080/"
        },
        "id": "CRNM5OlCQDxd",
        "outputId": "8c0d6a59-640e-4307-f633-f2c0fc629b7b"
      },
      "source": [
        "pip install numpy;"
      ],
      "execution_count": 1,
      "outputs": [
        {
          "output_type": "stream",
          "text": [
            "Requirement already satisfied: numpy in /usr/local/lib/python3.7/dist-packages (1.19.5)\n"
          ],
          "name": "stdout"
        }
      ]
    },
    {
      "cell_type": "code",
      "metadata": {
        "colab": {
          "base_uri": "https://localhost:8080/",
          "height": 35
        },
        "id": "nXuoVs1xQHdg",
        "outputId": "ca6c2cfa-9aa9-477b-8622-35c198c3301e"
      },
      "source": [
        "import numpy as np\n",
        "np.__version__"
      ],
      "execution_count": 4,
      "outputs": [
        {
          "output_type": "execute_result",
          "data": {
            "application/vnd.google.colaboratory.intrinsic+json": {
              "type": "string"
            },
            "text/plain": [
              "'1.19.5'"
            ]
          },
          "metadata": {
            "tags": []
          },
          "execution_count": 4
        }
      ]
    },
    {
      "cell_type": "code",
      "metadata": {
        "id": "dqW-BWcyQjdL"
      },
      "source": [
        "print(dir(np))"
      ],
      "execution_count": null,
      "outputs": []
    },
    {
      "cell_type": "code",
      "metadata": {
        "id": "kSxG220uQ2sA"
      },
      "source": [
        "help(np.array)"
      ],
      "execution_count": null,
      "outputs": []
    },
    {
      "cell_type": "markdown",
      "metadata": {
        "colab_type": "toc",
        "id": "lOzKpDG-Rgui"
      },
      "source": [
        ">[Podstawy](#updateTitle=true&folderId=1Fsd6YlTlAP1oIWxYZ0V8HY38Asw6IpDb&scrollTo=akEEvekxQZ0D)\n",
        "\n",
        ">[ARRAY](#updateTitle=true&folderId=1Fsd6YlTlAP1oIWxYZ0V8HY38Asw6IpDb&scrollTo=oKo8M0tnR41T)\n",
        "\n",
        ">>[Array 1D](#updateTitle=true&folderId=1Fsd6YlTlAP1oIWxYZ0V8HY38Asw6IpDb&scrollTo=--ny58GGRfxC)\n",
        "\n",
        ">>[Array 2D](#updateTitle=true&folderId=1Fsd6YlTlAP1oIWxYZ0V8HY38Asw6IpDb&scrollTo=r_K16XwUVbqi)\n",
        "\n",
        ">>[Array 3D](#updateTitle=true&folderId=1Fsd6YlTlAP1oIWxYZ0V8HY38Asw6IpDb&scrollTo=yrdK7DsjXkKD)\n",
        "\n",
        ">[Typy danych](#updateTitle=true&folderId=1Fsd6YlTlAP1oIWxYZ0V8HY38Asw6IpDb&scrollTo=y82nxc50aD4w)\n",
        "\n",
        ">[Tworzenie tabli aytomatycznie](#updateTitle=true&folderId=1Fsd6YlTlAP1oIWxYZ0V8HY38Asw6IpDb&scrollTo=5LNr0bOpdPWm)\n",
        "\n",
        ">[Podstawowe operacje na tablicach](#updateTitle=true&folderId=1Fsd6YlTlAP1oIWxYZ0V8HY38Asw6IpDb&scrollTo=lXaBPrK6jEHA)\n",
        "\n",
        ">>>[Mnożenie macierzy](#updateTitle=true&folderId=1Fsd6YlTlAP1oIWxYZ0V8HY38Asw6IpDb&scrollTo=aBl0FBLVlOSq)\n",
        "\n",
        ">>>[Jak mnożymy macierze:](#updateTitle=true&folderId=1Fsd6YlTlAP1oIWxYZ0V8HY38Asw6IpDb&scrollTo=7GuQTYtHpz9P)\n",
        "\n",
        ">>>>[(1 w 1 k)                       ; (1 wiersz 2 kolumna)](#updateTitle=true&folderId=1Fsd6YlTlAP1oIWxYZ0V8HY38Asw6IpDb&scrollTo=7GuQTYtHpz9P)\n",
        "\n",
        ">>>>[(2 w 1k )                      ; (2 wiersz 2 kolumna)](#updateTitle=true&folderId=1Fsd6YlTlAP1oIWxYZ0V8HY38Asw6IpDb&scrollTo=7GuQTYtHpz9P)\n",
        "\n",
        ">[Generowani liczby pseudolosowych](#updateTitle=true&folderId=1Fsd6YlTlAP1oIWxYZ0V8HY38Asw6IpDb&scrollTo=OR4XIuR8rIeV)\n",
        "\n",
        ">[Podstawowe funkcje biblioteki numpy](#updateTitle=true&folderId=1Fsd6YlTlAP1oIWxYZ0V8HY38Asw6IpDb&scrollTo=PqMB78g1Cfr3)\n",
        "\n",
        ">[Indeksowanie i wycinanie](#updateTitle=true&folderId=1Fsd6YlTlAP1oIWxYZ0V8HY38Asw6IpDb&scrollTo=OPF5wb74J9XE)\n",
        "\n",
        ">[Iteracja po tablicach](#updateTitle=true&folderId=1Fsd6YlTlAP1oIWxYZ0V8HY38Asw6IpDb&scrollTo=jK_jEkv6M9D2)\n",
        "\n",
        ">[Zmiana rozmiaru tablicy](#updateTitle=true&folderId=1Fsd6YlTlAP1oIWxYZ0V8HY38Asw6IpDb&scrollTo=gTSSnXwRN_-z)\n",
        "\n",
        ">[Maski logiczne](#updateTitle=true&folderId=1Fsd6YlTlAP1oIWxYZ0V8HY38Asw6IpDb&scrollTo=WfkqhXA_PBUm)\n",
        "\n"
      ]
    },
    {
      "cell_type": "markdown",
      "metadata": {
        "id": "oKo8M0tnR41T"
      },
      "source": [
        "#ARRAY\n",
        "Wszystkie obiekty muszą być tego samego typu"
      ]
    },
    {
      "cell_type": "markdown",
      "metadata": {
        "id": "--ny58GGRfxC"
      },
      "source": [
        "##Array 1D"
      ]
    },
    {
      "cell_type": "code",
      "metadata": {
        "colab": {
          "base_uri": "https://localhost:8080/"
        },
        "id": "sq1WRX86RGT9",
        "outputId": "b9b5641d-c430-4c81-b361-dd39c22aaefc"
      },
      "source": [
        "arr1 = np.array([1.5,3.2,4.1])\n",
        "arr1\n",
        "print(arr1)\n"
      ],
      "execution_count": 21,
      "outputs": [
        {
          "output_type": "stream",
          "text": [
            "[1.5 3.2 4.1]\n"
          ],
          "name": "stdout"
        }
      ]
    },
    {
      "cell_type": "code",
      "metadata": {
        "colab": {
          "base_uri": "https://localhost:8080/"
        },
        "id": "nNXcJavKTpYu",
        "outputId": "f83b46a6-cb5f-4826-8917-d78982a42c13"
      },
      "source": [
        "type(arr1)"
      ],
      "execution_count": 22,
      "outputs": [
        {
          "output_type": "execute_result",
          "data": {
            "text/plain": [
              "numpy.ndarray"
            ]
          },
          "metadata": {
            "tags": []
          },
          "execution_count": 22
        }
      ]
    },
    {
      "cell_type": "code",
      "metadata": {
        "colab": {
          "base_uri": "https://localhost:8080/"
        },
        "id": "fda7P0BaTBV7",
        "outputId": "3f21abe2-3ae2-49e8-fc70-f42f9513b525"
      },
      "source": [
        "arr1.ndim"
      ],
      "execution_count": 23,
      "outputs": [
        {
          "output_type": "execute_result",
          "data": {
            "text/plain": [
              "1"
            ]
          },
          "metadata": {
            "tags": []
          },
          "execution_count": 23
        }
      ]
    },
    {
      "cell_type": "code",
      "metadata": {
        "colab": {
          "base_uri": "https://localhost:8080/"
        },
        "id": "ocacv8cEUjJI",
        "outputId": "8a04ea3c-00ed-4f31-bdfd-1ed4186e13d6"
      },
      "source": [
        "arr1.shape"
      ],
      "execution_count": 24,
      "outputs": [
        {
          "output_type": "execute_result",
          "data": {
            "text/plain": [
              "(3,)"
            ]
          },
          "metadata": {
            "tags": []
          },
          "execution_count": 24
        }
      ]
    },
    {
      "cell_type": "code",
      "metadata": {
        "colab": {
          "base_uri": "https://localhost:8080/"
        },
        "id": "oy34krrtUmcY",
        "outputId": "d6688d07-e874-4ad4-d8d4-9a1b5df54fab"
      },
      "source": [
        "arr1.size"
      ],
      "execution_count": 25,
      "outputs": [
        {
          "output_type": "execute_result",
          "data": {
            "text/plain": [
              "3"
            ]
          },
          "metadata": {
            "tags": []
          },
          "execution_count": 25
        }
      ]
    },
    {
      "cell_type": "code",
      "metadata": {
        "colab": {
          "base_uri": "https://localhost:8080/"
        },
        "id": "zZl0rOjuUoqR",
        "outputId": "78c0199f-2990-4275-ffd3-65edf1367a61"
      },
      "source": [
        "arr1.dtype"
      ],
      "execution_count": 26,
      "outputs": [
        {
          "output_type": "execute_result",
          "data": {
            "text/plain": [
              "dtype('float64')"
            ]
          },
          "metadata": {
            "tags": []
          },
          "execution_count": 26
        }
      ]
    },
    {
      "cell_type": "markdown",
      "metadata": {
        "id": "r_K16XwUVbqi"
      },
      "source": [
        "##Array 2D"
      ]
    },
    {
      "cell_type": "code",
      "metadata": {
        "colab": {
          "base_uri": "https://localhost:8080/"
        },
        "id": "8JtLZbyCVem-",
        "outputId": "31484c23-67be-4322-cc5a-c22bb6f398aa"
      },
      "source": [
        "x = np.array([[1,2],[-3,1]])\n",
        "x"
      ],
      "execution_count": 29,
      "outputs": [
        {
          "output_type": "execute_result",
          "data": {
            "text/plain": [
              "array([[ 1,  2],\n",
              "       [-3,  1]])"
            ]
          },
          "metadata": {
            "tags": []
          },
          "execution_count": 29
        }
      ]
    },
    {
      "cell_type": "code",
      "metadata": {
        "colab": {
          "base_uri": "https://localhost:8080/"
        },
        "id": "NY_onWUOWwL0",
        "outputId": "b557caf1-e4c9-493e-db57-b293a9a5254d"
      },
      "source": [
        "y = np.array([['aaa','bbb','ccc'],['ddd','eee','bbb']])\n",
        "y"
      ],
      "execution_count": 35,
      "outputs": [
        {
          "output_type": "execute_result",
          "data": {
            "text/plain": [
              "array([['aaa', 'bbb', 'ccc'],\n",
              "       ['ddd', 'eee', 'bbb']], dtype='<U3')"
            ]
          },
          "metadata": {
            "tags": []
          },
          "execution_count": 35
        }
      ]
    },
    {
      "cell_type": "code",
      "metadata": {
        "colab": {
          "base_uri": "https://localhost:8080/"
        },
        "id": "5onIODHSWCgs",
        "outputId": "3cc8453e-f52f-4898-b4cb-304b698df687"
      },
      "source": [
        "x.ndim"
      ],
      "execution_count": 30,
      "outputs": [
        {
          "output_type": "execute_result",
          "data": {
            "text/plain": [
              "2"
            ]
          },
          "metadata": {
            "tags": []
          },
          "execution_count": 30
        }
      ]
    },
    {
      "cell_type": "code",
      "metadata": {
        "colab": {
          "base_uri": "https://localhost:8080/"
        },
        "id": "yWoa-oznXGw_",
        "outputId": "f2dcbb4d-ead3-440a-d16e-506313f3fff7"
      },
      "source": [
        "y.ndim"
      ],
      "execution_count": 36,
      "outputs": [
        {
          "output_type": "execute_result",
          "data": {
            "text/plain": [
              "2"
            ]
          },
          "metadata": {
            "tags": []
          },
          "execution_count": 36
        }
      ]
    },
    {
      "cell_type": "code",
      "metadata": {
        "colab": {
          "base_uri": "https://localhost:8080/"
        },
        "id": "UgPo67EHWFrf",
        "outputId": "9c7dfd62-9f0f-4675-bc29-a332fdfd51e0"
      },
      "source": [
        "x.shape"
      ],
      "execution_count": 31,
      "outputs": [
        {
          "output_type": "execute_result",
          "data": {
            "text/plain": [
              "(2, 2)"
            ]
          },
          "metadata": {
            "tags": []
          },
          "execution_count": 31
        }
      ]
    },
    {
      "cell_type": "code",
      "metadata": {
        "colab": {
          "base_uri": "https://localhost:8080/"
        },
        "id": "n_te2RE_XTZf",
        "outputId": "e76c38c2-949a-4778-f993-526363917395"
      },
      "source": [
        "y.shape"
      ],
      "execution_count": 37,
      "outputs": [
        {
          "output_type": "execute_result",
          "data": {
            "text/plain": [
              "(2, 3)"
            ]
          },
          "metadata": {
            "tags": []
          },
          "execution_count": 37
        }
      ]
    },
    {
      "cell_type": "code",
      "metadata": {
        "colab": {
          "base_uri": "https://localhost:8080/"
        },
        "id": "bPG3yEMWWH4L",
        "outputId": "e0e6714f-bf50-4d18-a61d-99dbb1e7ffec"
      },
      "source": [
        "x.size"
      ],
      "execution_count": 32,
      "outputs": [
        {
          "output_type": "execute_result",
          "data": {
            "text/plain": [
              "4"
            ]
          },
          "metadata": {
            "tags": []
          },
          "execution_count": 32
        }
      ]
    },
    {
      "cell_type": "code",
      "metadata": {
        "colab": {
          "base_uri": "https://localhost:8080/"
        },
        "id": "ZKccHs0CWOBq",
        "outputId": "d3112596-5730-4168-92e6-fe26635110dd"
      },
      "source": [
        "x.dtype"
      ],
      "execution_count": 33,
      "outputs": [
        {
          "output_type": "execute_result",
          "data": {
            "text/plain": [
              "dtype('int64')"
            ]
          },
          "metadata": {
            "tags": []
          },
          "execution_count": 33
        }
      ]
    },
    {
      "cell_type": "code",
      "metadata": {
        "colab": {
          "base_uri": "https://localhost:8080/"
        },
        "id": "Is7kuKNEWQcC",
        "outputId": "bece9a58-ba3c-43a9-e9ff-6d8e5bcbc625"
      },
      "source": [
        "y.dtype"
      ],
      "execution_count": 38,
      "outputs": [
        {
          "output_type": "execute_result",
          "data": {
            "text/plain": [
              "dtype('<U3')"
            ]
          },
          "metadata": {
            "tags": []
          },
          "execution_count": 38
        }
      ]
    },
    {
      "cell_type": "markdown",
      "metadata": {
        "id": "yrdK7DsjXkKD"
      },
      "source": [
        "##Array 3D"
      ]
    },
    {
      "cell_type": "code",
      "metadata": {
        "colab": {
          "base_uri": "https://localhost:8080/"
        },
        "id": "6z29PQakXYAI",
        "outputId": "7f387522-c725-4325-f739-342f5a047696"
      },
      "source": [
        "z = np.array([\n",
        "              [[1,4,5],[5,7,9]],\n",
        "              [[1,2,3],[4,5,6]],\n",
        "              [[1,4,5],[5,7,9]],\n",
        "              [[1,2,3],[4,5,6]]\n",
        "            ])\n",
        "z"
      ],
      "execution_count": 48,
      "outputs": [
        {
          "output_type": "execute_result",
          "data": {
            "text/plain": [
              "array([[[1, 4, 5],\n",
              "        [5, 7, 9]],\n",
              "\n",
              "       [[1, 2, 3],\n",
              "        [4, 5, 6]],\n",
              "\n",
              "       [[1, 4, 5],\n",
              "        [5, 7, 9]],\n",
              "\n",
              "       [[1, 2, 3],\n",
              "        [4, 5, 6]]])"
            ]
          },
          "metadata": {
            "tags": []
          },
          "execution_count": 48
        }
      ]
    },
    {
      "cell_type": "code",
      "metadata": {
        "colab": {
          "base_uri": "https://localhost:8080/"
        },
        "id": "X5ECZLTnYgI2",
        "outputId": "2149dcd6-2ddf-4708-bcfc-dc23b1f7f887"
      },
      "source": [
        "z.ndim #3 wymiary"
      ],
      "execution_count": 49,
      "outputs": [
        {
          "output_type": "execute_result",
          "data": {
            "text/plain": [
              "3"
            ]
          },
          "metadata": {
            "tags": []
          },
          "execution_count": 49
        }
      ]
    },
    {
      "cell_type": "code",
      "metadata": {
        "colab": {
          "base_uri": "https://localhost:8080/"
        },
        "id": "FChzBseLY1-U",
        "outputId": "ef571571-9813-4d5e-adcf-36902ad99b40"
      },
      "source": [
        "z.size"
      ],
      "execution_count": 42,
      "outputs": [
        {
          "output_type": "execute_result",
          "data": {
            "text/plain": [
              "12"
            ]
          },
          "metadata": {
            "tags": []
          },
          "execution_count": 42
        }
      ]
    },
    {
      "cell_type": "code",
      "metadata": {
        "colab": {
          "base_uri": "https://localhost:8080/"
        },
        "id": "-iB0VhP0Y4M6",
        "outputId": "9a43e5a6-b290-4f3b-a977-93cb58ae02fb"
      },
      "source": [
        "z.shape\n",
        "# 4 tablice, 2 wiersze, 3 kolumny"
      ],
      "execution_count": 50,
      "outputs": [
        {
          "output_type": "execute_result",
          "data": {
            "text/plain": [
              "(4, 2, 3)"
            ]
          },
          "metadata": {
            "tags": []
          },
          "execution_count": 50
        }
      ]
    },
    {
      "cell_type": "markdown",
      "metadata": {
        "id": "y82nxc50aD4w"
      },
      "source": [
        "#Typy danych"
      ]
    },
    {
      "cell_type": "code",
      "metadata": {
        "colab": {
          "base_uri": "https://localhost:8080/"
        },
        "id": "aSib_m5dY6vx",
        "outputId": "093012b0-a68a-4049-f6b4-3de2232ddf0b"
      },
      "source": [
        "A =np.array([1,7,2])\n",
        "A.dtype"
      ],
      "execution_count": 51,
      "outputs": [
        {
          "output_type": "execute_result",
          "data": {
            "text/plain": [
              "dtype('int64')"
            ]
          },
          "metadata": {
            "tags": []
          },
          "execution_count": 51
        }
      ]
    },
    {
      "cell_type": "code",
      "metadata": {
        "colab": {
          "base_uri": "https://localhost:8080/"
        },
        "id": "7cEyrlGqah7U",
        "outputId": "b986b176-4d81-4031-9c12-e207e93255f9"
      },
      "source": [
        "A = np.array([1.5 ,2.6])\n",
        "A.dtype"
      ],
      "execution_count": 52,
      "outputs": [
        {
          "output_type": "execute_result",
          "data": {
            "text/plain": [
              "dtype('float64')"
            ]
          },
          "metadata": {
            "tags": []
          },
          "execution_count": 52
        }
      ]
    },
    {
      "cell_type": "code",
      "metadata": {
        "colab": {
          "base_uri": "https://localhost:8080/"
        },
        "id": "EgkDOHkHaqLB",
        "outputId": "30472db1-227b-4650-ff80-84901d1b78bf"
      },
      "source": [
        "A = np.array([1,2,3], dtype='float')\n",
        "A.dtype"
      ],
      "execution_count": 53,
      "outputs": [
        {
          "output_type": "execute_result",
          "data": {
            "text/plain": [
              "dtype('float64')"
            ]
          },
          "metadata": {
            "tags": []
          },
          "execution_count": 53
        }
      ]
    },
    {
      "cell_type": "code",
      "metadata": {
        "colab": {
          "base_uri": "https://localhost:8080/"
        },
        "id": "KCq4WvWzazPR",
        "outputId": "7dea152b-c167-4d0f-a87b-cf0da4247487"
      },
      "source": [
        "A = np.array([1,2,3], dtype='complex') #typy złożone\n",
        "A.dtype"
      ],
      "execution_count": 56,
      "outputs": [
        {
          "output_type": "execute_result",
          "data": {
            "text/plain": [
              "dtype('complex128')"
            ]
          },
          "metadata": {
            "tags": []
          },
          "execution_count": 56
        }
      ]
    },
    {
      "cell_type": "code",
      "metadata": {
        "colab": {
          "base_uri": "https://localhost:8080/"
        },
        "id": "mbi3Il1XbBlG",
        "outputId": "73b73c86-59ee-4a62-fb8c-2789b0a22d84"
      },
      "source": [
        "A"
      ],
      "execution_count": 55,
      "outputs": [
        {
          "output_type": "execute_result",
          "data": {
            "text/plain": [
              "array([1.+0.j, 2.+0.j, 3.+0.j])"
            ]
          },
          "metadata": {
            "tags": []
          },
          "execution_count": 55
        }
      ]
    },
    {
      "cell_type": "code",
      "metadata": {
        "colab": {
          "base_uri": "https://localhost:8080/"
        },
        "id": "uLtrWkFBbDd_",
        "outputId": "f54fcfed-8628-4bb9-c074-63c2ba5013fd"
      },
      "source": [
        "B = np.array([1.1 ,2.2 ,3.0 ], dtype='int') #niejawna konwersja\n",
        "B.dtype"
      ],
      "execution_count": 57,
      "outputs": [
        {
          "output_type": "execute_result",
          "data": {
            "text/plain": [
              "dtype('int64')"
            ]
          },
          "metadata": {
            "tags": []
          },
          "execution_count": 57
        }
      ]
    },
    {
      "cell_type": "code",
      "metadata": {
        "colab": {
          "base_uri": "https://localhost:8080/"
        },
        "id": "fWfHvAV5bfZy",
        "outputId": "5197d374-763a-4a50-dbcd-42a2b8bae7c8"
      },
      "source": [
        "B"
      ],
      "execution_count": 58,
      "outputs": [
        {
          "output_type": "execute_result",
          "data": {
            "text/plain": [
              "array([1, 2, 3])"
            ]
          },
          "metadata": {
            "tags": []
          },
          "execution_count": 58
        }
      ]
    },
    {
      "cell_type": "code",
      "metadata": {
        "colab": {
          "base_uri": "https://localhost:8080/"
        },
        "id": "XSDXib_fbgQK",
        "outputId": "73eedee4-597c-456d-b1b5-8f7c7ed1a61b"
      },
      "source": [
        "C =np.array([True,False])  # z dużej litery\n",
        "C.dtype"
      ],
      "execution_count": 61,
      "outputs": [
        {
          "output_type": "execute_result",
          "data": {
            "text/plain": [
              "dtype('bool')"
            ]
          },
          "metadata": {
            "tags": []
          },
          "execution_count": 61
        }
      ]
    },
    {
      "cell_type": "code",
      "metadata": {
        "colab": {
          "base_uri": "https://localhost:8080/"
        },
        "id": "SY18V0Vab1NK",
        "outputId": "df4e3589-7a79-45b9-c3b8-38633942ddc8"
      },
      "source": [
        "pixel = np.array([120,230,255], dtype=np.uint8) # unsign int od 0 do 225 wystarczy do RGB\n",
        "pixel.dtype"
      ],
      "execution_count": 63,
      "outputs": [
        {
          "output_type": "execute_result",
          "data": {
            "text/plain": [
              "dtype('uint8')"
            ]
          },
          "metadata": {
            "tags": []
          },
          "execution_count": 63
        }
      ]
    },
    {
      "cell_type": "markdown",
      "metadata": {
        "id": "5LNr0bOpdPWm"
      },
      "source": [
        "#Tworzenie tabli aytomatycznie"
      ]
    },
    {
      "cell_type": "code",
      "metadata": {
        "colab": {
          "base_uri": "https://localhost:8080/"
        },
        "id": "qsbeZITIcnqj",
        "outputId": "92cb57c2-d62b-435f-8d59-276a35480e08"
      },
      "source": [
        "q = np.zeros(shape=(4,10))\n",
        "q"
      ],
      "execution_count": 69,
      "outputs": [
        {
          "output_type": "execute_result",
          "data": {
            "text/plain": [
              "array([[0., 0., 0., 0., 0., 0., 0., 0., 0., 0.],\n",
              "       [0., 0., 0., 0., 0., 0., 0., 0., 0., 0.],\n",
              "       [0., 0., 0., 0., 0., 0., 0., 0., 0., 0.],\n",
              "       [0., 0., 0., 0., 0., 0., 0., 0., 0., 0.]])"
            ]
          },
          "metadata": {
            "tags": []
          },
          "execution_count": 69
        }
      ]
    },
    {
      "cell_type": "code",
      "metadata": {
        "colab": {
          "base_uri": "https://localhost:8080/"
        },
        "id": "gVQSG75Xdd_r",
        "outputId": "b57ff0ff-530c-42d3-a7d5-84cce502d15a"
      },
      "source": [
        "q.dtype #domyślny typ float"
      ],
      "execution_count": 68,
      "outputs": [
        {
          "output_type": "execute_result",
          "data": {
            "text/plain": [
              "dtype('float64')"
            ]
          },
          "metadata": {
            "tags": []
          },
          "execution_count": 68
        }
      ]
    },
    {
      "cell_type": "code",
      "metadata": {
        "colab": {
          "base_uri": "https://localhost:8080/"
        },
        "id": "8dAsk9xRdyGA",
        "outputId": "d0180579-b402-45ff-f79d-68607a1a3f29"
      },
      "source": [
        "r = np.ones(shape=(5,8), dtype = np.uint8)\n",
        "r"
      ],
      "execution_count": 70,
      "outputs": [
        {
          "output_type": "execute_result",
          "data": {
            "text/plain": [
              "array([[1, 1, 1, 1, 1, 1, 1, 1],\n",
              "       [1, 1, 1, 1, 1, 1, 1, 1],\n",
              "       [1, 1, 1, 1, 1, 1, 1, 1],\n",
              "       [1, 1, 1, 1, 1, 1, 1, 1],\n",
              "       [1, 1, 1, 1, 1, 1, 1, 1]], dtype=uint8)"
            ]
          },
          "metadata": {
            "tags": []
          },
          "execution_count": 70
        }
      ]
    },
    {
      "cell_type": "code",
      "metadata": {
        "colab": {
          "base_uri": "https://localhost:8080/"
        },
        "id": "Us9hcatbeUUE",
        "outputId": "f76e8006-8df0-42d6-d13b-1266398d7844"
      },
      "source": [
        "p = np.full(shape=(4,4),fill_value=5, dtype='int')\n",
        "p"
      ],
      "execution_count": 71,
      "outputs": [
        {
          "output_type": "execute_result",
          "data": {
            "text/plain": [
              "array([[5, 5, 5, 5],\n",
              "       [5, 5, 5, 5],\n",
              "       [5, 5, 5, 5],\n",
              "       [5, 5, 5, 5]])"
            ]
          },
          "metadata": {
            "tags": []
          },
          "execution_count": 71
        }
      ]
    },
    {
      "cell_type": "code",
      "metadata": {
        "colab": {
          "base_uri": "https://localhost:8080/"
        },
        "id": "Ll1EZM7xe59P",
        "outputId": "4eab9a15-c0a1-466d-e684-3f5d6d2d6104"
      },
      "source": [
        "np.arange(10)"
      ],
      "execution_count": 73,
      "outputs": [
        {
          "output_type": "execute_result",
          "data": {
            "text/plain": [
              "array([0, 1, 2, 3, 4, 5, 6, 7, 8, 9])"
            ]
          },
          "metadata": {
            "tags": []
          },
          "execution_count": 73
        }
      ]
    },
    {
      "cell_type": "code",
      "metadata": {
        "colab": {
          "base_uri": "https://localhost:8080/"
        },
        "id": "dRF48SGPfINt",
        "outputId": "837ea503-a796-4592-ddf9-40b9aeb365ab"
      },
      "source": [
        "np.arange(1,13,2)"
      ],
      "execution_count": 76,
      "outputs": [
        {
          "output_type": "execute_result",
          "data": {
            "text/plain": [
              "array([ 1,  3,  5,  7,  9, 11])"
            ]
          },
          "metadata": {
            "tags": []
          },
          "execution_count": 76
        }
      ]
    },
    {
      "cell_type": "code",
      "metadata": {
        "colab": {
          "base_uri": "https://localhost:8080/"
        },
        "id": "rrwmE3XJf_By",
        "outputId": "d7437c88-f03e-4620-cf81-27380da296a1"
      },
      "source": [
        "np.arange(start =100, stop=-20, step=-10)"
      ],
      "execution_count": 80,
      "outputs": [
        {
          "output_type": "execute_result",
          "data": {
            "text/plain": [
              "array([100,  90,  80,  70,  60,  50,  40,  30,  20,  10,   0, -10])"
            ]
          },
          "metadata": {
            "tags": []
          },
          "execution_count": 80
        }
      ]
    },
    {
      "cell_type": "code",
      "metadata": {
        "colab": {
          "base_uri": "https://localhost:8080/"
        },
        "id": "mp_gJ246gVhG",
        "outputId": "602b28be-081d-4109-b44e-8808bc22d874"
      },
      "source": [
        "np.arange(start =0, stop=1, step=0.05)"
      ],
      "execution_count": 82,
      "outputs": [
        {
          "output_type": "execute_result",
          "data": {
            "text/plain": [
              "array([0.  , 0.05, 0.1 , 0.15, 0.2 , 0.25, 0.3 , 0.35, 0.4 , 0.45, 0.5 ,\n",
              "       0.55, 0.6 , 0.65, 0.7 , 0.75, 0.8 , 0.85, 0.9 , 0.95])"
            ]
          },
          "metadata": {
            "tags": []
          },
          "execution_count": 82
        }
      ]
    },
    {
      "cell_type": "code",
      "metadata": {
        "colab": {
          "base_uri": "https://localhost:8080/"
        },
        "id": "4TwkcsKnfOSI",
        "outputId": "bdf1fcbc-56e8-4608-9caa-efb135423bc9"
      },
      "source": [
        "range(10)"
      ],
      "execution_count": 77,
      "outputs": [
        {
          "output_type": "execute_result",
          "data": {
            "text/plain": [
              "range(0, 10)"
            ]
          },
          "metadata": {
            "tags": []
          },
          "execution_count": 77
        }
      ]
    },
    {
      "cell_type": "code",
      "metadata": {
        "colab": {
          "base_uri": "https://localhost:8080/"
        },
        "id": "j8juU_4JfkMy",
        "outputId": "081f3457-5fdd-4621-dc2a-dd99dd39c0b5"
      },
      "source": [
        "list(range(10))"
      ],
      "execution_count": 78,
      "outputs": [
        {
          "output_type": "execute_result",
          "data": {
            "text/plain": [
              "[0, 1, 2, 3, 4, 5, 6, 7, 8, 9]"
            ]
          },
          "metadata": {
            "tags": []
          },
          "execution_count": 78
        }
      ]
    },
    {
      "cell_type": "code",
      "metadata": {
        "colab": {
          "base_uri": "https://localhost:8080/"
        },
        "id": "EelNNuP_fnvh",
        "outputId": "7322d230-ce9d-4ab8-e695-6472a7c75b31"
      },
      "source": [
        "np.linspace(start=0, stop=9 , num= 10)"
      ],
      "execution_count": 84,
      "outputs": [
        {
          "output_type": "execute_result",
          "data": {
            "text/plain": [
              "array([0., 1., 2., 3., 4., 5., 6., 7., 8., 9.])"
            ]
          },
          "metadata": {
            "tags": []
          },
          "execution_count": 84
        }
      ]
    },
    {
      "cell_type": "code",
      "metadata": {
        "colab": {
          "base_uri": "https://localhost:8080/"
        },
        "id": "WNiryMfyg2qA",
        "outputId": "1fdc923c-ff6b-47fc-c2e5-16db2b0bdf1d"
      },
      "source": [
        "A = np.arange(15)\n",
        "A"
      ],
      "execution_count": 85,
      "outputs": [
        {
          "output_type": "execute_result",
          "data": {
            "text/plain": [
              "array([ 0,  1,  2,  3,  4,  5,  6,  7,  8,  9, 10, 11, 12, 13, 14])"
            ]
          },
          "metadata": {
            "tags": []
          },
          "execution_count": 85
        }
      ]
    },
    {
      "cell_type": "code",
      "metadata": {
        "colab": {
          "base_uri": "https://localhost:8080/"
        },
        "id": "cIoTWzwlhS89",
        "outputId": "e9bfcc2f-1cd9-427c-d1ee-08f37c93b801"
      },
      "source": [
        "A.reshape((3,5))"
      ],
      "execution_count": 86,
      "outputs": [
        {
          "output_type": "execute_result",
          "data": {
            "text/plain": [
              "array([[ 0,  1,  2,  3,  4],\n",
              "       [ 5,  6,  7,  8,  9],\n",
              "       [10, 11, 12, 13, 14]])"
            ]
          },
          "metadata": {
            "tags": []
          },
          "execution_count": 86
        }
      ]
    },
    {
      "cell_type": "code",
      "metadata": {
        "colab": {
          "base_uri": "https://localhost:8080/"
        },
        "id": "Ao2dWNZ6hYof",
        "outputId": "54b0e634-f407-4a90-a506-3b8f8ff7208f"
      },
      "source": [
        "A.reshape((5,-1)) # 5 wierszy i odpowiednia liczba kolum  -1"
      ],
      "execution_count": 94,
      "outputs": [
        {
          "output_type": "execute_result",
          "data": {
            "text/plain": [
              "array([[ 0,  1,  2],\n",
              "       [ 3,  4,  5],\n",
              "       [ 6,  7,  8],\n",
              "       [ 9, 10, 11],\n",
              "       [12, 13, 14]])"
            ]
          },
          "metadata": {
            "tags": []
          },
          "execution_count": 94
        }
      ]
    },
    {
      "cell_type": "code",
      "metadata": {
        "colab": {
          "base_uri": "https://localhost:8080/"
        },
        "id": "I96ABAsqhupT",
        "outputId": "e6fc6518-cc8c-4006-a59b-420f648c95ce"
      },
      "source": [
        "A.reshape((-1,5))"
      ],
      "execution_count": 95,
      "outputs": [
        {
          "output_type": "execute_result",
          "data": {
            "text/plain": [
              "array([[ 0,  1,  2,  3,  4],\n",
              "       [ 5,  6,  7,  8,  9],\n",
              "       [10, 11, 12, 13, 14]])"
            ]
          },
          "metadata": {
            "tags": []
          },
          "execution_count": 95
        }
      ]
    },
    {
      "cell_type": "markdown",
      "metadata": {
        "id": "lXaBPrK6jEHA"
      },
      "source": [
        "#Podstawowe operacje na tablicach"
      ]
    },
    {
      "cell_type": "code",
      "metadata": {
        "colab": {
          "base_uri": "https://localhost:8080/"
        },
        "id": "vCOkZ_SChxgS",
        "outputId": "edbf65b7-e74b-4a4d-ea1d-cecf73b15b4f"
      },
      "source": [
        "A = np.array([3, 1, 4, 2])\n",
        "B = np.array([3, -1, 3, 2])\n",
        "print(A)\n",
        "print(B)"
      ],
      "execution_count": 96,
      "outputs": [
        {
          "output_type": "stream",
          "text": [
            "[3 1 4 2]\n",
            "[ 3 -1  3  2]\n"
          ],
          "name": "stdout"
        }
      ]
    },
    {
      "cell_type": "code",
      "metadata": {
        "colab": {
          "base_uri": "https://localhost:8080/"
        },
        "id": "wiN59iSljJ2v",
        "outputId": "ca6d90bf-4561-4d33-eebc-284c3a79c544"
      },
      "source": [
        "A + B #aby dodać rozmiar musi się zgadzać "
      ],
      "execution_count": 97,
      "outputs": [
        {
          "output_type": "execute_result",
          "data": {
            "text/plain": [
              "array([6, 0, 7, 4])"
            ]
          },
          "metadata": {
            "tags": []
          },
          "execution_count": 97
        }
      ]
    },
    {
      "cell_type": "code",
      "metadata": {
        "colab": {
          "base_uri": "https://localhost:8080/"
        },
        "id": "rblTfvB_jXnQ",
        "outputId": "ceda2a34-68b0-4f03-e02d-7dc3eeb7b7ae"
      },
      "source": [
        "A / B # druga tablica nie może zawierać zer"
      ],
      "execution_count": 98,
      "outputs": [
        {
          "output_type": "execute_result",
          "data": {
            "text/plain": [
              "array([ 1.        , -1.        ,  1.33333333,  1.        ])"
            ]
          },
          "metadata": {
            "tags": []
          },
          "execution_count": 98
        }
      ]
    },
    {
      "cell_type": "code",
      "metadata": {
        "colab": {
          "base_uri": "https://localhost:8080/"
        },
        "id": "3jDd7W-Ekhou",
        "outputId": "208806f3-416e-4996-ca5a-dc8e594a7728"
      },
      "source": [
        "np.add(A,B)"
      ],
      "execution_count": 104,
      "outputs": [
        {
          "output_type": "execute_result",
          "data": {
            "text/plain": [
              "array([6, 0, 7, 4])"
            ]
          },
          "metadata": {
            "tags": []
          },
          "execution_count": 104
        }
      ]
    },
    {
      "cell_type": "code",
      "metadata": {
        "colab": {
          "base_uri": "https://localhost:8080/"
        },
        "id": "1Xo589ZdkleS",
        "outputId": "171c2aeb-3827-4ef8-c2b2-685c4ee1ff22"
      },
      "source": [
        "np.subtract(A, B)"
      ],
      "execution_count": 105,
      "outputs": [
        {
          "output_type": "execute_result",
          "data": {
            "text/plain": [
              "array([0, 2, 1, 0])"
            ]
          },
          "metadata": {
            "tags": []
          },
          "execution_count": 105
        }
      ]
    },
    {
      "cell_type": "code",
      "metadata": {
        "colab": {
          "base_uri": "https://localhost:8080/"
        },
        "id": "cz4CN4d-kofe",
        "outputId": "fb62b459-0267-41bd-eb5e-b8cbc9814cc9"
      },
      "source": [
        "np.multiply(A, B)"
      ],
      "execution_count": 106,
      "outputs": [
        {
          "output_type": "execute_result",
          "data": {
            "text/plain": [
              "array([ 9, -1, 12,  4])"
            ]
          },
          "metadata": {
            "tags": []
          },
          "execution_count": 106
        }
      ]
    },
    {
      "cell_type": "code",
      "metadata": {
        "colab": {
          "base_uri": "https://localhost:8080/"
        },
        "id": "F5RF7s7wksJ8",
        "outputId": "52077635-4e45-4703-9e4a-ba170b1fe6dc"
      },
      "source": [
        "np.divide(A,B)"
      ],
      "execution_count": 107,
      "outputs": [
        {
          "output_type": "execute_result",
          "data": {
            "text/plain": [
              "array([ 1.        , -1.        ,  1.33333333,  1.        ])"
            ]
          },
          "metadata": {
            "tags": []
          },
          "execution_count": 107
        }
      ]
    },
    {
      "cell_type": "code",
      "metadata": {
        "colab": {
          "base_uri": "https://localhost:8080/"
        },
        "id": "t7YRWww-kvzT",
        "outputId": "d607ea08-16ca-454d-f1af-1f971c996fe8"
      },
      "source": [
        "np.absolute(B) #wartość bezwzględna"
      ],
      "execution_count": 108,
      "outputs": [
        {
          "output_type": "execute_result",
          "data": {
            "text/plain": [
              "array([3, 1, 3, 2])"
            ]
          },
          "metadata": {
            "tags": []
          },
          "execution_count": 108
        }
      ]
    },
    {
      "cell_type": "code",
      "metadata": {
        "colab": {
          "base_uri": "https://localhost:8080/"
        },
        "id": "q3rdKXnxj8ir",
        "outputId": "07ba5767-8595-4ef3-ecc5-23ec47fa7abb"
      },
      "source": [
        "A + 7"
      ],
      "execution_count": 101,
      "outputs": [
        {
          "output_type": "execute_result",
          "data": {
            "text/plain": [
              "array([10,  8, 11,  9])"
            ]
          },
          "metadata": {
            "tags": []
          },
          "execution_count": 101
        }
      ]
    },
    {
      "cell_type": "code",
      "metadata": {
        "colab": {
          "base_uri": "https://localhost:8080/"
        },
        "id": "Xc9RTco1j96T",
        "outputId": "09ea0cc2-b167-4994-c0b5-5b3fb5ce8279"
      },
      "source": [
        "(A +7) + B"
      ],
      "execution_count": 102,
      "outputs": [
        {
          "output_type": "execute_result",
          "data": {
            "text/plain": [
              "array([13,  7, 14, 11])"
            ]
          },
          "metadata": {
            "tags": []
          },
          "execution_count": 102
        }
      ]
    },
    {
      "cell_type": "code",
      "metadata": {
        "colab": {
          "base_uri": "https://localhost:8080/"
        },
        "id": "csMK7SSFkMtS",
        "outputId": "1da9bb93-d49f-4502-8d69-04a9b44c2c20"
      },
      "source": [
        "A + 3*B"
      ],
      "execution_count": 103,
      "outputs": [
        {
          "output_type": "execute_result",
          "data": {
            "text/plain": [
              "array([12, -2, 13,  8])"
            ]
          },
          "metadata": {
            "tags": []
          },
          "execution_count": 103
        }
      ]
    },
    {
      "cell_type": "markdown",
      "metadata": {
        "id": "aBl0FBLVlOSq"
      },
      "source": [
        "### Mnożenie macierzy"
      ]
    },
    {
      "cell_type": "code",
      "metadata": {
        "colab": {
          "base_uri": "https://localhost:8080/"
        },
        "id": "D2bqBTfdkRBQ",
        "outputId": "3f4a28d2-061f-4d5b-f445-4123faa5602c"
      },
      "source": [
        "X = np.array([[1, 3], [-2, 0]])\n",
        "Y = np.array([[6, 0], [-1, 2]])\n",
        "print(X, '\\n')\n",
        "print(Y)"
      ],
      "execution_count": 109,
      "outputs": [
        {
          "output_type": "stream",
          "text": [
            "[[ 1  3]\n",
            " [-2  0]] \n",
            "\n",
            "[[ 6  0]\n",
            " [-1  2]]\n"
          ],
          "name": "stdout"
        }
      ]
    },
    {
      "cell_type": "code",
      "metadata": {
        "colab": {
          "base_uri": "https://localhost:8080/"
        },
        "id": "CyAhwlc7lRrJ",
        "outputId": "af683fa3-fd18-4441-9ec0-9159030665a9"
      },
      "source": [
        "X * Y #mnożenie po elemencie"
      ],
      "execution_count": 110,
      "outputs": [
        {
          "output_type": "execute_result",
          "data": {
            "text/plain": [
              "array([[6, 0],\n",
              "       [2, 0]])"
            ]
          },
          "metadata": {
            "tags": []
          },
          "execution_count": 110
        }
      ]
    },
    {
      "cell_type": "code",
      "metadata": {
        "colab": {
          "base_uri": "https://localhost:8080/"
        },
        "id": "zcbE5Jr3le14",
        "outputId": "673dc2ba-7b23-48ff-f3cf-437a739e5a20"
      },
      "source": [
        "np.dot(X,Y) #mnożenie macierzowe - wiersz razy kolumna - licza wierszy Y musi być = liczba kolum X"
      ],
      "execution_count": 111,
      "outputs": [
        {
          "output_type": "execute_result",
          "data": {
            "text/plain": [
              "array([[  3,   6],\n",
              "       [-12,   0]])"
            ]
          },
          "metadata": {
            "tags": []
          },
          "execution_count": 111
        }
      ]
    },
    {
      "cell_type": "markdown",
      "metadata": {
        "id": "7GuQTYtHpz9P"
      },
      "source": [
        "###Jak mnożymy macierze:\n",
        "####(1 w 1 k)                       ; (1 wiersz 2 kolumna)\n",
        "(1 * 6 ) + ( 3 * -1) = 3.     ; (1 * 0) + (3 * 2) = 6\n",
        "####(2 w 1k )                      ; (2 wiersz 2 kolumna) \n",
        "(-2 * 6 ) + (0 * -1) =  -12 ; (-2 *0 ) + (0 * 2 ) =0"
      ]
    },
    {
      "cell_type": "code",
      "metadata": {
        "colab": {
          "base_uri": "https://localhost:8080/"
        },
        "id": "hX_TCoitl0B2",
        "outputId": "79dfcd62-6841-43e5-f703-ae66ec59adf4"
      },
      "source": [
        "X.dot(Y) #pomnóż macierz X przez macierz Y"
      ],
      "execution_count": 112,
      "outputs": [
        {
          "output_type": "execute_result",
          "data": {
            "text/plain": [
              "array([[  3,   6],\n",
              "       [-12,   0]])"
            ]
          },
          "metadata": {
            "tags": []
          },
          "execution_count": 112
        }
      ]
    },
    {
      "cell_type": "code",
      "metadata": {
        "colab": {
          "base_uri": "https://localhost:8080/"
        },
        "id": "iaXl8D7UmPy1",
        "outputId": "644f1add-eefa-4eee-f70a-b4ccb8ebd21b"
      },
      "source": [
        "Y.dot(X) # mnożenie macierzy nie jest przemienne "
      ],
      "execution_count": 113,
      "outputs": [
        {
          "output_type": "execute_result",
          "data": {
            "text/plain": [
              "array([[ 6, 18],\n",
              "       [-5, -3]])"
            ]
          },
          "metadata": {
            "tags": []
          },
          "execution_count": 113
        }
      ]
    },
    {
      "cell_type": "code",
      "metadata": {
        "colab": {
          "base_uri": "https://localhost:8080/"
        },
        "id": "tUqRLCaFmaJ1",
        "outputId": "9ac64d45-fa4b-4002-e4e2-9abd4752e22c"
      },
      "source": [
        "Y @ X #pomnóż macierz Y przez macierz X"
      ],
      "execution_count": 114,
      "outputs": [
        {
          "output_type": "execute_result",
          "data": {
            "text/plain": [
              "array([[ 6, 18],\n",
              "       [-5, -3]])"
            ]
          },
          "metadata": {
            "tags": []
          },
          "execution_count": 114
        }
      ]
    },
    {
      "cell_type": "markdown",
      "metadata": {
        "id": "OR4XIuR8rIeV"
      },
      "source": [
        "#Generowani liczby pseudolosowych"
      ]
    },
    {
      "cell_type": "code",
      "metadata": {
        "id": "MJia5BiCrHdt"
      },
      "source": [
        "np.random.seed(0) #ustawiamy ziarno losowe, jeżeli ziarno się nie zmienia wynik losowania zawsze będzie taki sam!"
      ],
      "execution_count": 116,
      "outputs": []
    },
    {
      "cell_type": "code",
      "metadata": {
        "colab": {
          "base_uri": "https://localhost:8080/"
        },
        "id": "VT0kkWrXqOY6",
        "outputId": "a82080ea-8e21-4430-bd4d-ed4b761923f3"
      },
      "source": [
        "np.random.randn()  # losowa wartość z rozkładu normalnego"
      ],
      "execution_count": 117,
      "outputs": [
        {
          "output_type": "execute_result",
          "data": {
            "text/plain": [
              "1.764052345967664"
            ]
          },
          "metadata": {
            "tags": []
          },
          "execution_count": 117
        }
      ]
    },
    {
      "cell_type": "code",
      "metadata": {
        "colab": {
          "base_uri": "https://localhost:8080/"
        },
        "id": "jagCACx7r2Xf",
        "outputId": "c7fae334-49cb-4676-e5ea-933a0f8d1e2c"
      },
      "source": [
        "np.random.randn(10)  # 10 losowych wartości z rozkładu normalnego standardowego czyli wartość 0 odchylenie 1 "
      ],
      "execution_count": 119,
      "outputs": [
        {
          "output_type": "execute_result",
          "data": {
            "text/plain": [
              "array([ 1.45427351,  0.76103773,  0.12167502,  0.44386323,  0.33367433,\n",
              "        1.49407907, -0.20515826,  0.3130677 , -0.85409574, -2.55298982])"
            ]
          },
          "metadata": {
            "tags": []
          },
          "execution_count": 119
        }
      ]
    },
    {
      "cell_type": "code",
      "metadata": {
        "colab": {
          "base_uri": "https://localhost:8080/"
        },
        "id": "fpwDoUzosDWN",
        "outputId": "57e182d1-3710-4350-ff76-1a98072339f2"
      },
      "source": [
        "np.random.randn(10,4) #kolumny - zmienne, wiersze - próbki"
      ],
      "execution_count": 120,
      "outputs": [
        {
          "output_type": "execute_result",
          "data": {
            "text/plain": [
              "array([[ 0.6536186 ,  0.8644362 , -0.74216502,  2.26975462],\n",
              "       [-1.45436567,  0.04575852, -0.18718385,  1.53277921],\n",
              "       [ 1.46935877,  0.15494743,  0.37816252, -0.88778575],\n",
              "       [-1.98079647, -0.34791215,  0.15634897,  1.23029068],\n",
              "       [ 1.20237985, -0.38732682, -0.30230275, -1.04855297],\n",
              "       [-1.42001794, -1.70627019,  1.9507754 , -0.50965218],\n",
              "       [-0.4380743 , -1.25279536,  0.77749036, -1.61389785],\n",
              "       [-0.21274028, -0.89546656,  0.3869025 , -0.51080514],\n",
              "       [-1.18063218, -0.02818223,  0.42833187,  0.06651722],\n",
              "       [ 0.3024719 , -0.63432209, -0.36274117, -0.67246045]])"
            ]
          },
          "metadata": {
            "tags": []
          },
          "execution_count": 120
        }
      ]
    },
    {
      "cell_type": "code",
      "metadata": {
        "colab": {
          "base_uri": "https://localhost:8080/"
        },
        "id": "xCqYrNXosWvW",
        "outputId": "7e1654b8-e00a-4fc3-8457-719ba12ee363"
      },
      "source": [
        "np.random.rand() #rozkład jednostajny na przedziale <0;1)"
      ],
      "execution_count": 126,
      "outputs": [
        {
          "output_type": "execute_result",
          "data": {
            "text/plain": [
              "0.5013243819267023"
            ]
          },
          "metadata": {
            "tags": []
          },
          "execution_count": 126
        }
      ]
    },
    {
      "cell_type": "code",
      "metadata": {
        "colab": {
          "base_uri": "https://localhost:8080/"
        },
        "id": "6M96nSfqtncj",
        "outputId": "69b61714-0a8f-4442-dd29-92bd383b1b9c"
      },
      "source": [
        "np.random.rand(10)"
      ],
      "execution_count": 124,
      "outputs": [
        {
          "output_type": "execute_result",
          "data": {
            "text/plain": [
              "array([0.41426299, 0.0641475 , 0.69247212, 0.56660145, 0.26538949,\n",
              "       0.52324805, 0.09394051, 0.5759465 , 0.9292962 , 0.31856895])"
            ]
          },
          "metadata": {
            "tags": []
          },
          "execution_count": 124
        }
      ]
    },
    {
      "cell_type": "code",
      "metadata": {
        "colab": {
          "base_uri": "https://localhost:8080/"
        },
        "id": "HVvNQdKJ_eaG",
        "outputId": "e188f299-0a54-49f0-8167-c692cafff6d4"
      },
      "source": [
        "np.random.rand(10,3)"
      ],
      "execution_count": 125,
      "outputs": [
        {
          "output_type": "execute_result",
          "data": {
            "text/plain": [
              "array([[0.66741038, 0.13179786, 0.7163272 ],\n",
              "       [0.28940609, 0.18319136, 0.58651293],\n",
              "       [0.02010755, 0.82894003, 0.00469548],\n",
              "       [0.67781654, 0.27000797, 0.73519402],\n",
              "       [0.96218855, 0.24875314, 0.57615733],\n",
              "       [0.59204193, 0.57225191, 0.22308163],\n",
              "       [0.95274901, 0.44712538, 0.84640867],\n",
              "       [0.69947928, 0.29743695, 0.81379782],\n",
              "       [0.39650574, 0.8811032 , 0.58127287],\n",
              "       [0.88173536, 0.69253159, 0.72525428]])"
            ]
          },
          "metadata": {
            "tags": []
          },
          "execution_count": 125
        }
      ]
    },
    {
      "cell_type": "code",
      "metadata": {
        "colab": {
          "base_uri": "https://localhost:8080/"
        },
        "id": "ZeOFHRiJ_ixs",
        "outputId": "024aa13f-ef97-4f6d-e491-7a48fd81655f"
      },
      "source": [
        "np.random.randint(10) #może zwrócić 0,1,2,3,4,5,6,7,8,9"
      ],
      "execution_count": 127,
      "outputs": [
        {
          "output_type": "execute_result",
          "data": {
            "text/plain": [
              "3"
            ]
          },
          "metadata": {
            "tags": []
          },
          "execution_count": 127
        }
      ]
    },
    {
      "cell_type": "code",
      "metadata": {
        "colab": {
          "base_uri": "https://localhost:8080/"
        },
        "id": "mJIw2txzAZve",
        "outputId": "342becb8-c284-4e2a-e309-9d8a737b58a5"
      },
      "source": [
        "np.random.randint(low=10, high=101)"
      ],
      "execution_count": 128,
      "outputs": [
        {
          "output_type": "execute_result",
          "data": {
            "text/plain": [
              "43"
            ]
          },
          "metadata": {
            "tags": []
          },
          "execution_count": 128
        }
      ]
    },
    {
      "cell_type": "code",
      "metadata": {
        "colab": {
          "base_uri": "https://localhost:8080/"
        },
        "id": "mQf5QpDXAoXd",
        "outputId": "d2d5651a-37ff-419e-eb66-64388d6de73d"
      },
      "source": [
        "np.random.randint(low=10, high=101, size=10)"
      ],
      "execution_count": 129,
      "outputs": [
        {
          "output_type": "execute_result",
          "data": {
            "text/plain": [
              "array([42, 80, 95, 41, 23, 81, 66, 34, 89, 51])"
            ]
          },
          "metadata": {
            "tags": []
          },
          "execution_count": 129
        }
      ]
    },
    {
      "cell_type": "code",
      "metadata": {
        "colab": {
          "base_uri": "https://localhost:8080/"
        },
        "id": "jXlN0KbPAytL",
        "outputId": "47d08c9f-1d1b-4c6f-fc3b-a9a35984b8c0"
      },
      "source": [
        "np.random.choice([2,-8,-3,6,0] ) #losowy element z listy"
      ],
      "execution_count": 133,
      "outputs": [
        {
          "output_type": "execute_result",
          "data": {
            "text/plain": [
              "-8"
            ]
          },
          "metadata": {
            "tags": []
          },
          "execution_count": 133
        }
      ]
    },
    {
      "cell_type": "code",
      "metadata": {
        "colab": {
          "base_uri": "https://localhost:8080/",
          "height": 35
        },
        "id": "oIdhVXcrBG7B",
        "outputId": "d9536dfd-69ef-4975-f8e1-7fff3761cfab"
      },
      "source": [
        "np.random.choice(['python','R','C++','sql'] )"
      ],
      "execution_count": 135,
      "outputs": [
        {
          "output_type": "execute_result",
          "data": {
            "application/vnd.google.colaboratory.intrinsic+json": {
              "type": "string"
            },
            "text/plain": [
              "'sql'"
            ]
          },
          "metadata": {
            "tags": []
          },
          "execution_count": 135
        }
      ]
    },
    {
      "cell_type": "code",
      "metadata": {
        "colab": {
          "base_uri": "https://localhost:8080/"
        },
        "id": "k-bSyWQcBgEe",
        "outputId": "459c270d-db54-4cd1-e387-d97f7525b00b"
      },
      "source": [
        "data = np.arange(10)\n",
        "data"
      ],
      "execution_count": 136,
      "outputs": [
        {
          "output_type": "execute_result",
          "data": {
            "text/plain": [
              "array([0, 1, 2, 3, 4, 5, 6, 7, 8, 9])"
            ]
          },
          "metadata": {
            "tags": []
          },
          "execution_count": 136
        }
      ]
    },
    {
      "cell_type": "code",
      "metadata": {
        "colab": {
          "base_uri": "https://localhost:8080/"
        },
        "id": "WTq9_3E-B17b",
        "outputId": "9577beb8-2e89-4668-9aa7-f0e7c88c60af"
      },
      "source": [
        "np.random.shuffle(data)\n",
        "data"
      ],
      "execution_count": 138,
      "outputs": [
        {
          "output_type": "execute_result",
          "data": {
            "text/plain": [
              "array([9, 4, 2, 1, 8, 3, 5, 6, 7, 0])"
            ]
          },
          "metadata": {
            "tags": []
          },
          "execution_count": 138
        }
      ]
    },
    {
      "cell_type": "markdown",
      "metadata": {
        "id": "PqMB78g1Cfr3"
      },
      "source": [
        "#Podstawowe funkcje biblioteki numpy"
      ]
    },
    {
      "cell_type": "code",
      "metadata": {
        "colab": {
          "base_uri": "https://localhost:8080/"
        },
        "id": "i6LPihl3B5bD",
        "outputId": "6f0e8a35-f043-48ab-ad72-aee7b5a191f7"
      },
      "source": [
        "np.exp(1) #liczba Eulera"
      ],
      "execution_count": 142,
      "outputs": [
        {
          "output_type": "execute_result",
          "data": {
            "text/plain": [
              "2.718281828459045"
            ]
          },
          "metadata": {
            "tags": []
          },
          "execution_count": 142
        }
      ]
    },
    {
      "cell_type": "code",
      "metadata": {
        "colab": {
          "base_uri": "https://localhost:8080/"
        },
        "id": "3k06ZvkOCNJp",
        "outputId": "1ab4e773-c982-4395-fe43-428a45750b77"
      },
      "source": [
        "np.sqrt(9)"
      ],
      "execution_count": 143,
      "outputs": [
        {
          "output_type": "execute_result",
          "data": {
            "text/plain": [
              "3.0"
            ]
          },
          "metadata": {
            "tags": []
          },
          "execution_count": 143
        }
      ]
    },
    {
      "cell_type": "code",
      "metadata": {
        "colab": {
          "base_uri": "https://localhost:8080/"
        },
        "id": "1K0s-ABGFptf",
        "outputId": "c9cbbaa4-d68f-48d7-e131-18d52f0de09e"
      },
      "source": [
        "np.all([1,4,7])"
      ],
      "execution_count": 144,
      "outputs": [
        {
          "output_type": "execute_result",
          "data": {
            "text/plain": [
              "True"
            ]
          },
          "metadata": {
            "tags": []
          },
          "execution_count": 144
        }
      ]
    },
    {
      "cell_type": "code",
      "metadata": {
        "colab": {
          "base_uri": "https://localhost:8080/"
        },
        "id": "bJHnmvQiF60d",
        "outputId": "c50c230a-78fc-4b17-f8ce-3551bff99756"
      },
      "source": [
        "np.all([1,0,2]) #jeżeli którakolwiek wartość zwraca false wynikiem jest false"
      ],
      "execution_count": 146,
      "outputs": [
        {
          "output_type": "execute_result",
          "data": {
            "text/plain": [
              "False"
            ]
          },
          "metadata": {
            "tags": []
          },
          "execution_count": 146
        }
      ]
    },
    {
      "cell_type": "code",
      "metadata": {
        "colab": {
          "base_uri": "https://localhost:8080/"
        },
        "id": "mb9dVp3yGAE1",
        "outputId": "b54c698a-958c-44a7-878c-1d261fd2bc03"
      },
      "source": [
        "np.any([1,0,3,0]) #jeżeli którakolwiekwartość zwraca true - wynikiem jest true"
      ],
      "execution_count": 148,
      "outputs": [
        {
          "output_type": "execute_result",
          "data": {
            "text/plain": [
              "True"
            ]
          },
          "metadata": {
            "tags": []
          },
          "execution_count": 148
        }
      ]
    },
    {
      "cell_type": "code",
      "metadata": {
        "colab": {
          "base_uri": "https://localhost:8080/"
        },
        "id": "mm6l4bKGGR6b",
        "outputId": "a1419d29-00c2-4ed5-afe1-a3bc35d93318"
      },
      "source": [
        "np.any([0,0,0])"
      ],
      "execution_count": 149,
      "outputs": [
        {
          "output_type": "execute_result",
          "data": {
            "text/plain": [
              "False"
            ]
          },
          "metadata": {
            "tags": []
          },
          "execution_count": 149
        }
      ]
    },
    {
      "cell_type": "code",
      "metadata": {
        "colab": {
          "base_uri": "https://localhost:8080/"
        },
        "id": "8x1rzlkkGrcR",
        "outputId": "e6b019cf-eceb-4549-f112-fde7f9ff42d0"
      },
      "source": [
        "A = np.random.rand(5)\n",
        "A"
      ],
      "execution_count": 150,
      "outputs": [
        {
          "output_type": "execute_result",
          "data": {
            "text/plain": [
              "array([0.7142413 , 0.99884701, 0.1494483 , 0.86812606, 0.16249293])"
            ]
          },
          "metadata": {
            "tags": []
          },
          "execution_count": 150
        }
      ]
    },
    {
      "cell_type": "code",
      "metadata": {
        "colab": {
          "base_uri": "https://localhost:8080/"
        },
        "id": "5A5tNw0XHYrt",
        "outputId": "0149b903-d828-478a-def3-93bf05c80e4b"
      },
      "source": [
        "np.argmax(A) #zwraca indeks największej wartości"
      ],
      "execution_count": 151,
      "outputs": [
        {
          "output_type": "execute_result",
          "data": {
            "text/plain": [
              "1"
            ]
          },
          "metadata": {
            "tags": []
          },
          "execution_count": 151
        }
      ]
    },
    {
      "cell_type": "code",
      "metadata": {
        "colab": {
          "base_uri": "https://localhost:8080/"
        },
        "id": "elPriGZaHkaT",
        "outputId": "a12e7ca5-39a9-4030-d27e-b0862b24bf64"
      },
      "source": [
        "A[1]"
      ],
      "execution_count": 152,
      "outputs": [
        {
          "output_type": "execute_result",
          "data": {
            "text/plain": [
              "0.9988470065678665"
            ]
          },
          "metadata": {
            "tags": []
          },
          "execution_count": 152
        }
      ]
    },
    {
      "cell_type": "code",
      "metadata": {
        "colab": {
          "base_uri": "https://localhost:8080/"
        },
        "id": "7MhAmhdEHuGb",
        "outputId": "a992c87c-2bd4-4471-a032-5de7157330e7"
      },
      "source": [
        "A[np.argmax(A)]"
      ],
      "execution_count": 153,
      "outputs": [
        {
          "output_type": "execute_result",
          "data": {
            "text/plain": [
              "0.9988470065678665"
            ]
          },
          "metadata": {
            "tags": []
          },
          "execution_count": 153
        }
      ]
    },
    {
      "cell_type": "code",
      "metadata": {
        "colab": {
          "base_uri": "https://localhost:8080/"
        },
        "id": "Tg6HnaZbHxLb",
        "outputId": "3e4938ce-1b9d-467d-987c-36d29613522d"
      },
      "source": [
        "np.argmin(A)"
      ],
      "execution_count": 154,
      "outputs": [
        {
          "output_type": "execute_result",
          "data": {
            "text/plain": [
              "2"
            ]
          },
          "metadata": {
            "tags": []
          },
          "execution_count": 154
        }
      ]
    },
    {
      "cell_type": "code",
      "metadata": {
        "colab": {
          "base_uri": "https://localhost:8080/"
        },
        "id": "IbAoJTl8H3Kq",
        "outputId": "ddca7208-a058-44d8-f9b1-f98257f4c00a"
      },
      "source": [
        "np.argsort(A) #sortuje od nnajmniejszej i zwraca indexsy"
      ],
      "execution_count": 155,
      "outputs": [
        {
          "output_type": "execute_result",
          "data": {
            "text/plain": [
              "array([2, 4, 0, 3, 1])"
            ]
          },
          "metadata": {
            "tags": []
          },
          "execution_count": 155
        }
      ]
    },
    {
      "cell_type": "code",
      "metadata": {
        "colab": {
          "base_uri": "https://localhost:8080/"
        },
        "id": "P5khbGntIEx4",
        "outputId": "2d286742-ce50-4125-fed8-1e5ec09784dc"
      },
      "source": [
        "np.max(A)"
      ],
      "execution_count": 157,
      "outputs": [
        {
          "output_type": "execute_result",
          "data": {
            "text/plain": [
              "0.9988470065678665"
            ]
          },
          "metadata": {
            "tags": []
          },
          "execution_count": 157
        }
      ]
    },
    {
      "cell_type": "code",
      "metadata": {
        "colab": {
          "base_uri": "https://localhost:8080/"
        },
        "id": "zB0CaLKhIe3n",
        "outputId": "96090143-fcae-4998-a9b1-1712acd8ada6"
      },
      "source": [
        "np.mean(A)"
      ],
      "execution_count": 158,
      "outputs": [
        {
          "output_type": "execute_result",
          "data": {
            "text/plain": [
              "0.5786311205639121"
            ]
          },
          "metadata": {
            "tags": []
          },
          "execution_count": 158
        }
      ]
    },
    {
      "cell_type": "code",
      "metadata": {
        "colab": {
          "base_uri": "https://localhost:8080/"
        },
        "id": "kxu_CgvBImjG",
        "outputId": "12b35fdf-db98-4933-c115-2c0a8db3ef26"
      },
      "source": [
        "np.median(A)"
      ],
      "execution_count": 159,
      "outputs": [
        {
          "output_type": "execute_result",
          "data": {
            "text/plain": [
              "0.7142412995491114"
            ]
          },
          "metadata": {
            "tags": []
          },
          "execution_count": 159
        }
      ]
    },
    {
      "cell_type": "code",
      "metadata": {
        "colab": {
          "base_uri": "https://localhost:8080/"
        },
        "id": "VGb7o_N9IvTW",
        "outputId": "0e99d431-b245-43af-ca34-a5d37fc98651"
      },
      "source": [
        "np.std(A) #odchylenie standardowe"
      ],
      "execution_count": 160,
      "outputs": [
        {
          "output_type": "execute_result",
          "data": {
            "text/plain": [
              "0.3566925031879748"
            ]
          },
          "metadata": {
            "tags": []
          },
          "execution_count": 160
        }
      ]
    },
    {
      "cell_type": "markdown",
      "metadata": {
        "id": "OPF5wb74J9XE"
      },
      "source": [
        "#Indeksowanie i wycinanie"
      ]
    },
    {
      "cell_type": "code",
      "metadata": {
        "colab": {
          "base_uri": "https://localhost:8080/"
        },
        "id": "aFDMwEtzIz8N",
        "outputId": "fe05b285-8a98-4657-c719-577edfbb239b"
      },
      "source": [
        "A =np.arange(20)\n",
        "A"
      ],
      "execution_count": 162,
      "outputs": [
        {
          "output_type": "execute_result",
          "data": {
            "text/plain": [
              "array([ 0,  1,  2,  3,  4,  5,  6,  7,  8,  9, 10, 11, 12, 13, 14, 15, 16,\n",
              "       17, 18, 19])"
            ]
          },
          "metadata": {
            "tags": []
          },
          "execution_count": 162
        }
      ]
    },
    {
      "cell_type": "code",
      "metadata": {
        "colab": {
          "base_uri": "https://localhost:8080/"
        },
        "id": "9Z1PfqMmKJ3x",
        "outputId": "e8608d44-747e-4f6f-d6f1-42669dc158d9"
      },
      "source": [
        "A[3]"
      ],
      "execution_count": 163,
      "outputs": [
        {
          "output_type": "execute_result",
          "data": {
            "text/plain": [
              "3"
            ]
          },
          "metadata": {
            "tags": []
          },
          "execution_count": 163
        }
      ]
    },
    {
      "cell_type": "code",
      "metadata": {
        "colab": {
          "base_uri": "https://localhost:8080/"
        },
        "id": "-2SR4zG1KXz_",
        "outputId": "004d5d6f-08d5-4015-95b8-b020539b6b68"
      },
      "source": [
        "A[3:7]"
      ],
      "execution_count": 164,
      "outputs": [
        {
          "output_type": "execute_result",
          "data": {
            "text/plain": [
              "array([3, 4, 5, 6])"
            ]
          },
          "metadata": {
            "tags": []
          },
          "execution_count": 164
        }
      ]
    },
    {
      "cell_type": "code",
      "metadata": {
        "colab": {
          "base_uri": "https://localhost:8080/"
        },
        "id": "7WMY6V9yKbAO",
        "outputId": "8e229adb-eff2-41dc-96ca-657fec353a33"
      },
      "source": [
        "A[:9]"
      ],
      "execution_count": 165,
      "outputs": [
        {
          "output_type": "execute_result",
          "data": {
            "text/plain": [
              "array([0, 1, 2, 3, 4, 5, 6, 7, 8])"
            ]
          },
          "metadata": {
            "tags": []
          },
          "execution_count": 165
        }
      ]
    },
    {
      "cell_type": "code",
      "metadata": {
        "colab": {
          "base_uri": "https://localhost:8080/"
        },
        "id": "JsdcJ9eZKc1m",
        "outputId": "90c4acc9-df0a-4971-e509-21670f462377"
      },
      "source": [
        "A[9:]"
      ],
      "execution_count": 166,
      "outputs": [
        {
          "output_type": "execute_result",
          "data": {
            "text/plain": [
              "array([ 9, 10, 11, 12, 13, 14, 15, 16, 17, 18, 19])"
            ]
          },
          "metadata": {
            "tags": []
          },
          "execution_count": 166
        }
      ]
    },
    {
      "cell_type": "code",
      "metadata": {
        "colab": {
          "base_uri": "https://localhost:8080/"
        },
        "id": "qSRhttieKfr-",
        "outputId": "b0529657-cdcb-4a44-dd50-e1fbe2c5f89b"
      },
      "source": [
        "A[[3,7,9]]"
      ],
      "execution_count": 168,
      "outputs": [
        {
          "output_type": "execute_result",
          "data": {
            "text/plain": [
              "array([3, 7, 9])"
            ]
          },
          "metadata": {
            "tags": []
          },
          "execution_count": 168
        }
      ]
    },
    {
      "cell_type": "code",
      "metadata": {
        "colab": {
          "base_uri": "https://localhost:8080/"
        },
        "id": "V2PMyAdKKuhs",
        "outputId": "bf6846d2-a222-4cb8-e9c2-ae2cff0f3c8d"
      },
      "source": [
        "A[[-1,-3,-5]] # indeksowanie od tyłu"
      ],
      "execution_count": 169,
      "outputs": [
        {
          "output_type": "execute_result",
          "data": {
            "text/plain": [
              "array([19, 17, 15])"
            ]
          },
          "metadata": {
            "tags": []
          },
          "execution_count": 169
        }
      ]
    },
    {
      "cell_type": "code",
      "metadata": {
        "colab": {
          "base_uri": "https://localhost:8080/"
        },
        "id": "2Af5aXTJK9FC",
        "outputId": "ccd5a310-180a-4b49-c86b-9538386087f7"
      },
      "source": [
        "A = A.reshape(4,5)\n",
        "A"
      ],
      "execution_count": 171,
      "outputs": [
        {
          "output_type": "execute_result",
          "data": {
            "text/plain": [
              "array([[ 0,  1,  2,  3,  4],\n",
              "       [ 5,  6,  7,  8,  9],\n",
              "       [10, 11, 12, 13, 14],\n",
              "       [15, 16, 17, 18, 19]])"
            ]
          },
          "metadata": {
            "tags": []
          },
          "execution_count": 171
        }
      ]
    },
    {
      "cell_type": "code",
      "metadata": {
        "colab": {
          "base_uri": "https://localhost:8080/"
        },
        "id": "2n7rh-UuLJsg",
        "outputId": "055b2315-32d9-4e72-9f6c-e664cb88a6a6"
      },
      "source": [
        "A[1] #wycinanie wiersza"
      ],
      "execution_count": 172,
      "outputs": [
        {
          "output_type": "execute_result",
          "data": {
            "text/plain": [
              "array([5, 6, 7, 8, 9])"
            ]
          },
          "metadata": {
            "tags": []
          },
          "execution_count": 172
        }
      ]
    },
    {
      "cell_type": "code",
      "metadata": {
        "colab": {
          "base_uri": "https://localhost:8080/"
        },
        "id": "4949EoAILYmP",
        "outputId": "198cd860-9392-4423-e91d-03feb4ad8642"
      },
      "source": [
        "A[:,1] #wycinanie kolumny"
      ],
      "execution_count": 174,
      "outputs": [
        {
          "output_type": "execute_result",
          "data": {
            "text/plain": [
              "array([ 1,  6, 11, 16])"
            ]
          },
          "metadata": {
            "tags": []
          },
          "execution_count": 174
        }
      ]
    },
    {
      "cell_type": "code",
      "metadata": {
        "colab": {
          "base_uri": "https://localhost:8080/"
        },
        "id": "D-h6erBgLjr-",
        "outputId": "8742ff20-8339-4a49-e501-6a31b02f04f5"
      },
      "source": [
        "A[:,-1] #ostatnia kolumna"
      ],
      "execution_count": 175,
      "outputs": [
        {
          "output_type": "execute_result",
          "data": {
            "text/plain": [
              "array([ 4,  9, 14, 19])"
            ]
          },
          "metadata": {
            "tags": []
          },
          "execution_count": 175
        }
      ]
    },
    {
      "cell_type": "code",
      "metadata": {
        "colab": {
          "base_uri": "https://localhost:8080/"
        },
        "id": "QP8g2TikLujd",
        "outputId": "aef1c135-0d9c-47f5-c44a-3ff1af1d256e"
      },
      "source": [
        "A[0,3]"
      ],
      "execution_count": 176,
      "outputs": [
        {
          "output_type": "execute_result",
          "data": {
            "text/plain": [
              "3"
            ]
          },
          "metadata": {
            "tags": []
          },
          "execution_count": 176
        }
      ]
    },
    {
      "cell_type": "code",
      "metadata": {
        "colab": {
          "base_uri": "https://localhost:8080/"
        },
        "id": "hIOBzAz7L6_M",
        "outputId": "11af21c1-c150-4c5e-c070-062590c4a8a2"
      },
      "source": [
        "A[3,0] #4 wiersz 1 kolumna"
      ],
      "execution_count": 179,
      "outputs": [
        {
          "output_type": "execute_result",
          "data": {
            "text/plain": [
              "15"
            ]
          },
          "metadata": {
            "tags": []
          },
          "execution_count": 179
        }
      ]
    },
    {
      "cell_type": "code",
      "metadata": {
        "colab": {
          "base_uri": "https://localhost:8080/"
        },
        "id": "SKQ478NxL8pb",
        "outputId": "82fe023d-ebf5-4731-8b85-f294ffdc808d"
      },
      "source": [
        "A[1:3,1:4] # przedział zawsze lewostronnie domknięty, prawostronnie otwart"
      ],
      "execution_count": 180,
      "outputs": [
        {
          "output_type": "execute_result",
          "data": {
            "text/plain": [
              "array([[ 6,  7,  8],\n",
              "       [11, 12, 13]])"
            ]
          },
          "metadata": {
            "tags": []
          },
          "execution_count": 180
        }
      ]
    },
    {
      "cell_type": "code",
      "metadata": {
        "colab": {
          "base_uri": "https://localhost:8080/"
        },
        "id": "5HTXS9XfMiVw",
        "outputId": "24f79fe2-4293-4b2a-a8d9-742db9db8ca9"
      },
      "source": [
        "A[1,2] = 14\n",
        "A"
      ],
      "execution_count": 181,
      "outputs": [
        {
          "output_type": "execute_result",
          "data": {
            "text/plain": [
              "array([[ 0,  1,  2,  3,  4],\n",
              "       [ 5,  6, 14,  8,  9],\n",
              "       [10, 11, 12, 13, 14],\n",
              "       [15, 16, 17, 18, 19]])"
            ]
          },
          "metadata": {
            "tags": []
          },
          "execution_count": 181
        }
      ]
    },
    {
      "cell_type": "markdown",
      "metadata": {
        "id": "jK_jEkv6M9D2"
      },
      "source": [
        "#Iteracja po tablicach"
      ]
    },
    {
      "cell_type": "code",
      "metadata": {
        "colab": {
          "base_uri": "https://localhost:8080/"
        },
        "id": "xb-H7yCHMyZO",
        "outputId": "05cfc0bb-10b6-4936-e5a2-edbb712d423e"
      },
      "source": [
        "for row in A:\n",
        "  print(row)"
      ],
      "execution_count": 182,
      "outputs": [
        {
          "output_type": "stream",
          "text": [
            "[0 1 2 3 4]\n",
            "[ 5  6 14  8  9]\n",
            "[10 11 12 13 14]\n",
            "[15 16 17 18 19]\n"
          ],
          "name": "stdout"
        }
      ]
    },
    {
      "cell_type": "code",
      "metadata": {
        "colab": {
          "base_uri": "https://localhost:8080/"
        },
        "id": "HQmt7r8_NNxr",
        "outputId": "ec8b5ce0-e397-4bf9-e7cf-9e6088466908"
      },
      "source": [
        "for row in A:\n",
        "  print(row[1])"
      ],
      "execution_count": 183,
      "outputs": [
        {
          "output_type": "stream",
          "text": [
            "1\n",
            "6\n",
            "11\n",
            "16\n"
          ],
          "name": "stdout"
        }
      ]
    },
    {
      "cell_type": "code",
      "metadata": {
        "colab": {
          "base_uri": "https://localhost:8080/"
        },
        "id": "sr8mKrujNX1y",
        "outputId": "175587a4-d935-445d-b6aa-b2ccc1f16c1e"
      },
      "source": [
        "for row in A:\n",
        "  print(row[:2])"
      ],
      "execution_count": 184,
      "outputs": [
        {
          "output_type": "stream",
          "text": [
            "[0 1]\n",
            "[5 6]\n",
            "[10 11]\n",
            "[15 16]\n"
          ],
          "name": "stdout"
        }
      ]
    },
    {
      "cell_type": "code",
      "metadata": {
        "colab": {
          "base_uri": "https://localhost:8080/"
        },
        "id": "MSp_PgrENgnw",
        "outputId": "a3603ccf-ce21-4d0d-f08f-c69938f88e67"
      },
      "source": [
        "for item in A.flat:\n",
        "  print(item)"
      ],
      "execution_count": 185,
      "outputs": [
        {
          "output_type": "stream",
          "text": [
            "0\n",
            "1\n",
            "2\n",
            "3\n",
            "4\n",
            "5\n",
            "6\n",
            "14\n",
            "8\n",
            "9\n",
            "10\n",
            "11\n",
            "12\n",
            "13\n",
            "14\n",
            "15\n",
            "16\n",
            "17\n",
            "18\n",
            "19\n"
          ],
          "name": "stdout"
        }
      ]
    },
    {
      "cell_type": "markdown",
      "metadata": {
        "id": "gTSSnXwRN_-z"
      },
      "source": [
        "#Zmiana rozmiaru tablicy"
      ]
    },
    {
      "cell_type": "code",
      "metadata": {
        "colab": {
          "base_uri": "https://localhost:8080/"
        },
        "id": "8GVIoZsnNu7_",
        "outputId": "8f613a0c-79ff-4eff-d66e-44306e1cf73b"
      },
      "source": [
        "np.ravel(A)"
      ],
      "execution_count": 187,
      "outputs": [
        {
          "output_type": "execute_result",
          "data": {
            "text/plain": [
              "array([ 0,  1,  2,  3,  4,  5,  6, 14,  8,  9, 10, 11, 12, 13, 14, 15, 16,\n",
              "       17, 18, 19])"
            ]
          },
          "metadata": {
            "tags": []
          },
          "execution_count": 187
        }
      ]
    },
    {
      "cell_type": "code",
      "metadata": {
        "colab": {
          "base_uri": "https://localhost:8080/"
        },
        "id": "NaFmafOBOFpH",
        "outputId": "2ac47e9e-7d29-4943-93df-0526f942504d"
      },
      "source": [
        "A.ravel()"
      ],
      "execution_count": 190,
      "outputs": [
        {
          "output_type": "execute_result",
          "data": {
            "text/plain": [
              "array([ 0,  1,  2,  3,  4,  5,  6, 14,  8,  9, 10, 11, 12, 13, 14, 15, 16,\n",
              "       17, 18, 19])"
            ]
          },
          "metadata": {
            "tags": []
          },
          "execution_count": 190
        }
      ]
    },
    {
      "cell_type": "code",
      "metadata": {
        "colab": {
          "base_uri": "https://localhost:8080/"
        },
        "id": "1qOb1Nf6OLKu",
        "outputId": "4dc1ce62-b3a0-4533-f296-a3f9d0ff742b"
      },
      "source": [
        "A"
      ],
      "execution_count": 191,
      "outputs": [
        {
          "output_type": "execute_result",
          "data": {
            "text/plain": [
              "array([[ 0,  1,  2,  3,  4],\n",
              "       [ 5,  6, 14,  8,  9],\n",
              "       [10, 11, 12, 13, 14],\n",
              "       [15, 16, 17, 18, 19]])"
            ]
          },
          "metadata": {
            "tags": []
          },
          "execution_count": 191
        }
      ]
    },
    {
      "cell_type": "code",
      "metadata": {
        "colab": {
          "base_uri": "https://localhost:8080/"
        },
        "id": "4Wk6y-hjOs5J",
        "outputId": "a9c3454e-006e-4faa-9889-54acfc3aa124"
      },
      "source": [
        "A.T #transponowanie tablicy - zamienia wiersze na kolumny, a kolumny na wiersze"
      ],
      "execution_count": 192,
      "outputs": [
        {
          "output_type": "execute_result",
          "data": {
            "text/plain": [
              "array([[ 0,  5, 10, 15],\n",
              "       [ 1,  6, 11, 16],\n",
              "       [ 2, 14, 12, 17],\n",
              "       [ 3,  8, 13, 18],\n",
              "       [ 4,  9, 14, 19]])"
            ]
          },
          "metadata": {
            "tags": []
          },
          "execution_count": 192
        }
      ]
    },
    {
      "cell_type": "markdown",
      "metadata": {
        "id": "WfkqhXA_PBUm"
      },
      "source": [
        "#Maski logiczne"
      ]
    },
    {
      "cell_type": "code",
      "metadata": {
        "colab": {
          "base_uri": "https://localhost:8080/"
        },
        "id": "cYa-D2DsO3WA",
        "outputId": "efdb4e63-1d7f-40ff-a29c-b5af570af358"
      },
      "source": [
        "A = np.arange(start=-10,stop=10, step=0.5)\n",
        "A = A.reshape(10,-1)\n",
        "A"
      ],
      "execution_count": 194,
      "outputs": [
        {
          "output_type": "execute_result",
          "data": {
            "text/plain": [
              "array([[-10. ,  -9.5,  -9. ,  -8.5],\n",
              "       [ -8. ,  -7.5,  -7. ,  -6.5],\n",
              "       [ -6. ,  -5.5,  -5. ,  -4.5],\n",
              "       [ -4. ,  -3.5,  -3. ,  -2.5],\n",
              "       [ -2. ,  -1.5,  -1. ,  -0.5],\n",
              "       [  0. ,   0.5,   1. ,   1.5],\n",
              "       [  2. ,   2.5,   3. ,   3.5],\n",
              "       [  4. ,   4.5,   5. ,   5.5],\n",
              "       [  6. ,   6.5,   7. ,   7.5],\n",
              "       [  8. ,   8.5,   9. ,   9.5]])"
            ]
          },
          "metadata": {
            "tags": []
          },
          "execution_count": 194
        }
      ]
    },
    {
      "cell_type": "code",
      "metadata": {
        "colab": {
          "base_uri": "https://localhost:8080/"
        },
        "id": "jo-Oatk4PYbT",
        "outputId": "13f80767-14ba-478e-b971-f735e7dd305d"
      },
      "source": [
        "A > 0"
      ],
      "execution_count": 195,
      "outputs": [
        {
          "output_type": "execute_result",
          "data": {
            "text/plain": [
              "array([[False, False, False, False],\n",
              "       [False, False, False, False],\n",
              "       [False, False, False, False],\n",
              "       [False, False, False, False],\n",
              "       [False, False, False, False],\n",
              "       [False,  True,  True,  True],\n",
              "       [ True,  True,  True,  True],\n",
              "       [ True,  True,  True,  True],\n",
              "       [ True,  True,  True,  True],\n",
              "       [ True,  True,  True,  True]])"
            ]
          },
          "metadata": {
            "tags": []
          },
          "execution_count": 195
        }
      ]
    },
    {
      "cell_type": "code",
      "metadata": {
        "colab": {
          "base_uri": "https://localhost:8080/"
        },
        "id": "2HqjuTIoPu9p",
        "outputId": "cd355ab5-afe7-4b49-9ac3-92449a5d8ac3"
      },
      "source": [
        "A[A > 0]"
      ],
      "execution_count": 196,
      "outputs": [
        {
          "output_type": "execute_result",
          "data": {
            "text/plain": [
              "array([0.5, 1. , 1.5, 2. , 2.5, 3. , 3.5, 4. , 4.5, 5. , 5.5, 6. , 6.5,\n",
              "       7. , 7.5, 8. , 8.5, 9. , 9.5])"
            ]
          },
          "metadata": {
            "tags": []
          },
          "execution_count": 196
        }
      ]
    },
    {
      "cell_type": "code",
      "metadata": {
        "colab": {
          "base_uri": "https://localhost:8080/"
        },
        "id": "bH0HYD4OP57A",
        "outputId": "bc1eb909-d610-4695-ba9c-f242eaef7f87"
      },
      "source": [
        "np.bitwise_and(A > -5, A < 5)"
      ],
      "execution_count": 197,
      "outputs": [
        {
          "output_type": "execute_result",
          "data": {
            "text/plain": [
              "array([[False, False, False, False],\n",
              "       [False, False, False, False],\n",
              "       [False, False, False,  True],\n",
              "       [ True,  True,  True,  True],\n",
              "       [ True,  True,  True,  True],\n",
              "       [ True,  True,  True,  True],\n",
              "       [ True,  True,  True,  True],\n",
              "       [ True,  True, False, False],\n",
              "       [False, False, False, False],\n",
              "       [False, False, False, False]])"
            ]
          },
          "metadata": {
            "tags": []
          },
          "execution_count": 197
        }
      ]
    },
    {
      "cell_type": "code",
      "metadata": {
        "colab": {
          "base_uri": "https://localhost:8080/"
        },
        "id": "Cpxuky_uQXbc",
        "outputId": "e5b683e4-5406-4d30-83ef-06e460be5361"
      },
      "source": [
        "A[np.bitwise_and(A > -5, A < 5)]"
      ],
      "execution_count": 198,
      "outputs": [
        {
          "output_type": "execute_result",
          "data": {
            "text/plain": [
              "array([-4.5, -4. , -3.5, -3. , -2.5, -2. , -1.5, -1. , -0.5,  0. ,  0.5,\n",
              "        1. ,  1.5,  2. ,  2.5,  3. ,  3.5,  4. ,  4.5])"
            ]
          },
          "metadata": {
            "tags": []
          },
          "execution_count": 198
        }
      ]
    },
    {
      "cell_type": "code",
      "metadata": {
        "colab": {
          "base_uri": "https://localhost:8080/"
        },
        "id": "s_ud9C2zQfir",
        "outputId": "d7888822-afc7-44e3-bbde-f61b670c307c"
      },
      "source": [
        "np.bitwise_or(A < -4, A > 4)"
      ],
      "execution_count": 199,
      "outputs": [
        {
          "output_type": "execute_result",
          "data": {
            "text/plain": [
              "array([[ True,  True,  True,  True],\n",
              "       [ True,  True,  True,  True],\n",
              "       [ True,  True,  True,  True],\n",
              "       [False, False, False, False],\n",
              "       [False, False, False, False],\n",
              "       [False, False, False, False],\n",
              "       [False, False, False, False],\n",
              "       [False,  True,  True,  True],\n",
              "       [ True,  True,  True,  True],\n",
              "       [ True,  True,  True,  True]])"
            ]
          },
          "metadata": {
            "tags": []
          },
          "execution_count": 199
        }
      ]
    },
    {
      "cell_type": "code",
      "metadata": {
        "id": "VpGGr1E6Qs_J"
      },
      "source": [
        ""
      ],
      "execution_count": null,
      "outputs": []
    }
  ]
}