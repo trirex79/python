{
  "nbformat": 4,
  "nbformat_minor": 0,
  "metadata": {
    "colab": {
      "name": "numpy_01.ipynb",
      "provenance": [],
      "authorship_tag": "ABX9TyMa+qhwvKP5ozFd88mcPRZa",
      "include_colab_link": true
    },
    "kernelspec": {
      "name": "python3",
      "display_name": "Python 3"
    },
    "language_info": {
      "name": "python"
    }
  },
  "cells": [
    {
      "cell_type": "markdown",
      "metadata": {
        "id": "view-in-github",
        "colab_type": "text"
      },
      "source": [
        "<a href=\"https://colab.research.google.com/github/trirex79/python/blob/main/numpy_01.ipynb\" target=\"_parent\"><img src=\"https://colab.research.google.com/assets/colab-badge.svg\" alt=\"Open In Colab\"/></a>"
      ]
    },
    {
      "cell_type": "markdown",
      "metadata": {
        "id": "WKWTm1N7P3x6"
      },
      "source": [
        "Strona biblioteki: https://numpy.org/\n",
        "Dokumentacja: https://numpy.org/doc/\n",
        "\n",
        "Podstawowa biblioteka do obliczeń numerycznych w języku Python.\n",
        "\n",
        "Aby zainstalować bibliotekę NumPy, użyj polecenia: pip install numpy"
      ]
    },
    {
      "cell_type": "markdown",
      "metadata": {
        "id": "akEEvekxQZ0D"
      },
      "source": [
        "#Podstawy"
      ]
    },
    {
      "cell_type": "code",
      "metadata": {
        "colab": {
          "base_uri": "https://localhost:8080/"
        },
        "id": "CRNM5OlCQDxd",
        "outputId": "8c0d6a59-640e-4307-f633-f2c0fc629b7b"
      },
      "source": [
        "pip install numpy;"
      ],
      "execution_count": 1,
      "outputs": [
        {
          "output_type": "stream",
          "text": [
            "Requirement already satisfied: numpy in /usr/local/lib/python3.7/dist-packages (1.19.5)\n"
          ],
          "name": "stdout"
        }
      ]
    },
    {
      "cell_type": "code",
      "metadata": {
        "colab": {
          "base_uri": "https://localhost:8080/",
          "height": 35
        },
        "id": "nXuoVs1xQHdg",
        "outputId": "ca6c2cfa-9aa9-477b-8622-35c198c3301e"
      },
      "source": [
        "import numpy as np\n",
        "np.__version__"
      ],
      "execution_count": 4,
      "outputs": [
        {
          "output_type": "execute_result",
          "data": {
            "application/vnd.google.colaboratory.intrinsic+json": {
              "type": "string"
            },
            "text/plain": [
              "'1.19.5'"
            ]
          },
          "metadata": {
            "tags": []
          },
          "execution_count": 4
        }
      ]
    },
    {
      "cell_type": "code",
      "metadata": {
        "id": "dqW-BWcyQjdL"
      },
      "source": [
        "print(dir(np))"
      ],
      "execution_count": null,
      "outputs": []
    },
    {
      "cell_type": "code",
      "metadata": {
        "id": "kSxG220uQ2sA"
      },
      "source": [
        "help(np.array)"
      ],
      "execution_count": null,
      "outputs": []
    },
    {
      "cell_type": "markdown",
      "metadata": {
        "id": "oKo8M0tnR41T"
      },
      "source": [
        "#ARRAY\n",
        "Wszystkie obiekty muszą być tego samego typu"
      ]
    },
    {
      "cell_type": "markdown",
      "metadata": {
        "id": "--ny58GGRfxC"
      },
      "source": [
        "##Array 1D"
      ]
    },
    {
      "cell_type": "code",
      "metadata": {
        "colab": {
          "base_uri": "https://localhost:8080/"
        },
        "id": "sq1WRX86RGT9",
        "outputId": "b9b5641d-c430-4c81-b361-dd39c22aaefc"
      },
      "source": [
        "arr1 = np.array([1.5,3.2,4.1])\n",
        "arr1\n",
        "print(arr1)\n"
      ],
      "execution_count": 21,
      "outputs": [
        {
          "output_type": "stream",
          "text": [
            "[1.5 3.2 4.1]\n"
          ],
          "name": "stdout"
        }
      ]
    },
    {
      "cell_type": "code",
      "metadata": {
        "colab": {
          "base_uri": "https://localhost:8080/"
        },
        "id": "nNXcJavKTpYu",
        "outputId": "f83b46a6-cb5f-4826-8917-d78982a42c13"
      },
      "source": [
        "type(arr1)"
      ],
      "execution_count": 22,
      "outputs": [
        {
          "output_type": "execute_result",
          "data": {
            "text/plain": [
              "numpy.ndarray"
            ]
          },
          "metadata": {
            "tags": []
          },
          "execution_count": 22
        }
      ]
    },
    {
      "cell_type": "code",
      "metadata": {
        "colab": {
          "base_uri": "https://localhost:8080/"
        },
        "id": "fda7P0BaTBV7",
        "outputId": "3f21abe2-3ae2-49e8-fc70-f42f9513b525"
      },
      "source": [
        "arr1.ndim"
      ],
      "execution_count": 23,
      "outputs": [
        {
          "output_type": "execute_result",
          "data": {
            "text/plain": [
              "1"
            ]
          },
          "metadata": {
            "tags": []
          },
          "execution_count": 23
        }
      ]
    },
    {
      "cell_type": "code",
      "metadata": {
        "colab": {
          "base_uri": "https://localhost:8080/"
        },
        "id": "ocacv8cEUjJI",
        "outputId": "8a04ea3c-00ed-4f31-bdfd-1ed4186e13d6"
      },
      "source": [
        "arr1.shape"
      ],
      "execution_count": 24,
      "outputs": [
        {
          "output_type": "execute_result",
          "data": {
            "text/plain": [
              "(3,)"
            ]
          },
          "metadata": {
            "tags": []
          },
          "execution_count": 24
        }
      ]
    },
    {
      "cell_type": "code",
      "metadata": {
        "colab": {
          "base_uri": "https://localhost:8080/"
        },
        "id": "oy34krrtUmcY",
        "outputId": "d6688d07-e874-4ad4-d8d4-9a1b5df54fab"
      },
      "source": [
        "arr1.size"
      ],
      "execution_count": 25,
      "outputs": [
        {
          "output_type": "execute_result",
          "data": {
            "text/plain": [
              "3"
            ]
          },
          "metadata": {
            "tags": []
          },
          "execution_count": 25
        }
      ]
    },
    {
      "cell_type": "code",
      "metadata": {
        "colab": {
          "base_uri": "https://localhost:8080/"
        },
        "id": "zZl0rOjuUoqR",
        "outputId": "78c0199f-2990-4275-ffd3-65edf1367a61"
      },
      "source": [
        "arr1.dtype"
      ],
      "execution_count": 26,
      "outputs": [
        {
          "output_type": "execute_result",
          "data": {
            "text/plain": [
              "dtype('float64')"
            ]
          },
          "metadata": {
            "tags": []
          },
          "execution_count": 26
        }
      ]
    },
    {
      "cell_type": "markdown",
      "metadata": {
        "id": "r_K16XwUVbqi"
      },
      "source": [
        "##Array 2D"
      ]
    },
    {
      "cell_type": "code",
      "metadata": {
        "colab": {
          "base_uri": "https://localhost:8080/"
        },
        "id": "8JtLZbyCVem-",
        "outputId": "31484c23-67be-4322-cc5a-c22bb6f398aa"
      },
      "source": [
        "x = np.array([[1,2],[-3,1]])\n",
        "x"
      ],
      "execution_count": 29,
      "outputs": [
        {
          "output_type": "execute_result",
          "data": {
            "text/plain": [
              "array([[ 1,  2],\n",
              "       [-3,  1]])"
            ]
          },
          "metadata": {
            "tags": []
          },
          "execution_count": 29
        }
      ]
    },
    {
      "cell_type": "code",
      "metadata": {
        "colab": {
          "base_uri": "https://localhost:8080/"
        },
        "id": "NY_onWUOWwL0",
        "outputId": "b557caf1-e4c9-493e-db57-b293a9a5254d"
      },
      "source": [
        "y = np.array([['aaa','bbb','ccc'],['ddd','eee','bbb']])\n",
        "y"
      ],
      "execution_count": 35,
      "outputs": [
        {
          "output_type": "execute_result",
          "data": {
            "text/plain": [
              "array([['aaa', 'bbb', 'ccc'],\n",
              "       ['ddd', 'eee', 'bbb']], dtype='<U3')"
            ]
          },
          "metadata": {
            "tags": []
          },
          "execution_count": 35
        }
      ]
    },
    {
      "cell_type": "code",
      "metadata": {
        "colab": {
          "base_uri": "https://localhost:8080/"
        },
        "id": "5onIODHSWCgs",
        "outputId": "3cc8453e-f52f-4898-b4cb-304b698df687"
      },
      "source": [
        "x.ndim"
      ],
      "execution_count": 30,
      "outputs": [
        {
          "output_type": "execute_result",
          "data": {
            "text/plain": [
              "2"
            ]
          },
          "metadata": {
            "tags": []
          },
          "execution_count": 30
        }
      ]
    },
    {
      "cell_type": "code",
      "metadata": {
        "colab": {
          "base_uri": "https://localhost:8080/"
        },
        "id": "yWoa-oznXGw_",
        "outputId": "f2dcbb4d-ead3-440a-d16e-506313f3fff7"
      },
      "source": [
        "y.ndim"
      ],
      "execution_count": 36,
      "outputs": [
        {
          "output_type": "execute_result",
          "data": {
            "text/plain": [
              "2"
            ]
          },
          "metadata": {
            "tags": []
          },
          "execution_count": 36
        }
      ]
    },
    {
      "cell_type": "code",
      "metadata": {
        "colab": {
          "base_uri": "https://localhost:8080/"
        },
        "id": "UgPo67EHWFrf",
        "outputId": "9c7dfd62-9f0f-4675-bc29-a332fdfd51e0"
      },
      "source": [
        "x.shape"
      ],
      "execution_count": 31,
      "outputs": [
        {
          "output_type": "execute_result",
          "data": {
            "text/plain": [
              "(2, 2)"
            ]
          },
          "metadata": {
            "tags": []
          },
          "execution_count": 31
        }
      ]
    },
    {
      "cell_type": "code",
      "metadata": {
        "colab": {
          "base_uri": "https://localhost:8080/"
        },
        "id": "n_te2RE_XTZf",
        "outputId": "e76c38c2-949a-4778-f993-526363917395"
      },
      "source": [
        "y.shape"
      ],
      "execution_count": 37,
      "outputs": [
        {
          "output_type": "execute_result",
          "data": {
            "text/plain": [
              "(2, 3)"
            ]
          },
          "metadata": {
            "tags": []
          },
          "execution_count": 37
        }
      ]
    },
    {
      "cell_type": "code",
      "metadata": {
        "colab": {
          "base_uri": "https://localhost:8080/"
        },
        "id": "bPG3yEMWWH4L",
        "outputId": "e0e6714f-bf50-4d18-a61d-99dbb1e7ffec"
      },
      "source": [
        "x.size"
      ],
      "execution_count": 32,
      "outputs": [
        {
          "output_type": "execute_result",
          "data": {
            "text/plain": [
              "4"
            ]
          },
          "metadata": {
            "tags": []
          },
          "execution_count": 32
        }
      ]
    },
    {
      "cell_type": "code",
      "metadata": {
        "colab": {
          "base_uri": "https://localhost:8080/"
        },
        "id": "ZKccHs0CWOBq",
        "outputId": "d3112596-5730-4168-92e6-fe26635110dd"
      },
      "source": [
        "x.dtype"
      ],
      "execution_count": 33,
      "outputs": [
        {
          "output_type": "execute_result",
          "data": {
            "text/plain": [
              "dtype('int64')"
            ]
          },
          "metadata": {
            "tags": []
          },
          "execution_count": 33
        }
      ]
    },
    {
      "cell_type": "code",
      "metadata": {
        "colab": {
          "base_uri": "https://localhost:8080/"
        },
        "id": "Is7kuKNEWQcC",
        "outputId": "bece9a58-ba3c-43a9-e9ff-6d8e5bcbc625"
      },
      "source": [
        "y.dtype"
      ],
      "execution_count": 38,
      "outputs": [
        {
          "output_type": "execute_result",
          "data": {
            "text/plain": [
              "dtype('<U3')"
            ]
          },
          "metadata": {
            "tags": []
          },
          "execution_count": 38
        }
      ]
    },
    {
      "cell_type": "markdown",
      "metadata": {
        "id": "yrdK7DsjXkKD"
      },
      "source": [
        "##Array 3D"
      ]
    },
    {
      "cell_type": "code",
      "metadata": {
        "colab": {
          "base_uri": "https://localhost:8080/"
        },
        "id": "6z29PQakXYAI",
        "outputId": "7f387522-c725-4325-f739-342f5a047696"
      },
      "source": [
        "z = np.array([\n",
        "              [[1,4,5],[5,7,9]],\n",
        "              [[1,2,3],[4,5,6]],\n",
        "              [[1,4,5],[5,7,9]],\n",
        "              [[1,2,3],[4,5,6]]\n",
        "            ])\n",
        "z"
      ],
      "execution_count": 48,
      "outputs": [
        {
          "output_type": "execute_result",
          "data": {
            "text/plain": [
              "array([[[1, 4, 5],\n",
              "        [5, 7, 9]],\n",
              "\n",
              "       [[1, 2, 3],\n",
              "        [4, 5, 6]],\n",
              "\n",
              "       [[1, 4, 5],\n",
              "        [5, 7, 9]],\n",
              "\n",
              "       [[1, 2, 3],\n",
              "        [4, 5, 6]]])"
            ]
          },
          "metadata": {
            "tags": []
          },
          "execution_count": 48
        }
      ]
    },
    {
      "cell_type": "code",
      "metadata": {
        "colab": {
          "base_uri": "https://localhost:8080/"
        },
        "id": "X5ECZLTnYgI2",
        "outputId": "2149dcd6-2ddf-4708-bcfc-dc23b1f7f887"
      },
      "source": [
        "z.ndim #3 wymiary"
      ],
      "execution_count": 49,
      "outputs": [
        {
          "output_type": "execute_result",
          "data": {
            "text/plain": [
              "3"
            ]
          },
          "metadata": {
            "tags": []
          },
          "execution_count": 49
        }
      ]
    },
    {
      "cell_type": "code",
      "metadata": {
        "colab": {
          "base_uri": "https://localhost:8080/"
        },
        "id": "FChzBseLY1-U",
        "outputId": "ef571571-9813-4d5e-adcf-36902ad99b40"
      },
      "source": [
        "z.size"
      ],
      "execution_count": 42,
      "outputs": [
        {
          "output_type": "execute_result",
          "data": {
            "text/plain": [
              "12"
            ]
          },
          "metadata": {
            "tags": []
          },
          "execution_count": 42
        }
      ]
    },
    {
      "cell_type": "code",
      "metadata": {
        "colab": {
          "base_uri": "https://localhost:8080/"
        },
        "id": "-iB0VhP0Y4M6",
        "outputId": "9a43e5a6-b290-4f3b-a977-93cb58ae02fb"
      },
      "source": [
        "z.shape\n",
        "# 4 tablice, 2 wiersze, 3 kolumny"
      ],
      "execution_count": 50,
      "outputs": [
        {
          "output_type": "execute_result",
          "data": {
            "text/plain": [
              "(4, 2, 3)"
            ]
          },
          "metadata": {
            "tags": []
          },
          "execution_count": 50
        }
      ]
    },
    {
      "cell_type": "markdown",
      "metadata": {
        "id": "y82nxc50aD4w"
      },
      "source": [
        "#Typy danych"
      ]
    },
    {
      "cell_type": "code",
      "metadata": {
        "colab": {
          "base_uri": "https://localhost:8080/"
        },
        "id": "aSib_m5dY6vx",
        "outputId": "093012b0-a68a-4049-f6b4-3de2232ddf0b"
      },
      "source": [
        "A =np.array([1,7,2])\n",
        "A.dtype"
      ],
      "execution_count": 51,
      "outputs": [
        {
          "output_type": "execute_result",
          "data": {
            "text/plain": [
              "dtype('int64')"
            ]
          },
          "metadata": {
            "tags": []
          },
          "execution_count": 51
        }
      ]
    },
    {
      "cell_type": "code",
      "metadata": {
        "colab": {
          "base_uri": "https://localhost:8080/"
        },
        "id": "7cEyrlGqah7U",
        "outputId": "b986b176-4d81-4031-9c12-e207e93255f9"
      },
      "source": [
        "A = np.array([1.5 ,2.6])\n",
        "A.dtype"
      ],
      "execution_count": 52,
      "outputs": [
        {
          "output_type": "execute_result",
          "data": {
            "text/plain": [
              "dtype('float64')"
            ]
          },
          "metadata": {
            "tags": []
          },
          "execution_count": 52
        }
      ]
    },
    {
      "cell_type": "code",
      "metadata": {
        "colab": {
          "base_uri": "https://localhost:8080/"
        },
        "id": "EgkDOHkHaqLB",
        "outputId": "30472db1-227b-4650-ff80-84901d1b78bf"
      },
      "source": [
        "A = np.array([1,2,3], dtype='float')\n",
        "A.dtype"
      ],
      "execution_count": 53,
      "outputs": [
        {
          "output_type": "execute_result",
          "data": {
            "text/plain": [
              "dtype('float64')"
            ]
          },
          "metadata": {
            "tags": []
          },
          "execution_count": 53
        }
      ]
    },
    {
      "cell_type": "code",
      "metadata": {
        "colab": {
          "base_uri": "https://localhost:8080/"
        },
        "id": "KCq4WvWzazPR",
        "outputId": "7dea152b-c167-4d0f-a87b-cf0da4247487"
      },
      "source": [
        "A = np.array([1,2,3], dtype='complex') #typy złożone\n",
        "A.dtype"
      ],
      "execution_count": 56,
      "outputs": [
        {
          "output_type": "execute_result",
          "data": {
            "text/plain": [
              "dtype('complex128')"
            ]
          },
          "metadata": {
            "tags": []
          },
          "execution_count": 56
        }
      ]
    },
    {
      "cell_type": "code",
      "metadata": {
        "colab": {
          "base_uri": "https://localhost:8080/"
        },
        "id": "mbi3Il1XbBlG",
        "outputId": "73b73c86-59ee-4a62-fb8c-2789b0a22d84"
      },
      "source": [
        "A"
      ],
      "execution_count": 55,
      "outputs": [
        {
          "output_type": "execute_result",
          "data": {
            "text/plain": [
              "array([1.+0.j, 2.+0.j, 3.+0.j])"
            ]
          },
          "metadata": {
            "tags": []
          },
          "execution_count": 55
        }
      ]
    },
    {
      "cell_type": "code",
      "metadata": {
        "colab": {
          "base_uri": "https://localhost:8080/"
        },
        "id": "uLtrWkFBbDd_",
        "outputId": "f54fcfed-8628-4bb9-c074-63c2ba5013fd"
      },
      "source": [
        "B = np.array([1.1 ,2.2 ,3.0 ], dtype='int') #niejawna konwersja\n",
        "B.dtype"
      ],
      "execution_count": 57,
      "outputs": [
        {
          "output_type": "execute_result",
          "data": {
            "text/plain": [
              "dtype('int64')"
            ]
          },
          "metadata": {
            "tags": []
          },
          "execution_count": 57
        }
      ]
    },
    {
      "cell_type": "code",
      "metadata": {
        "colab": {
          "base_uri": "https://localhost:8080/"
        },
        "id": "fWfHvAV5bfZy",
        "outputId": "5197d374-763a-4a50-dbcd-42a2b8bae7c8"
      },
      "source": [
        "B"
      ],
      "execution_count": 58,
      "outputs": [
        {
          "output_type": "execute_result",
          "data": {
            "text/plain": [
              "array([1, 2, 3])"
            ]
          },
          "metadata": {
            "tags": []
          },
          "execution_count": 58
        }
      ]
    },
    {
      "cell_type": "code",
      "metadata": {
        "colab": {
          "base_uri": "https://localhost:8080/"
        },
        "id": "XSDXib_fbgQK",
        "outputId": "73eedee4-597c-456d-b1b5-8f7c7ed1a61b"
      },
      "source": [
        "C =np.array([True,False])  # z dużej litery\n",
        "C.dtype"
      ],
      "execution_count": 61,
      "outputs": [
        {
          "output_type": "execute_result",
          "data": {
            "text/plain": [
              "dtype('bool')"
            ]
          },
          "metadata": {
            "tags": []
          },
          "execution_count": 61
        }
      ]
    },
    {
      "cell_type": "code",
      "metadata": {
        "colab": {
          "base_uri": "https://localhost:8080/"
        },
        "id": "SY18V0Vab1NK",
        "outputId": "df4e3589-7a79-45b9-c3b8-38633942ddc8"
      },
      "source": [
        "pixel = np.array([120,230,255], dtype=np.uint8) # unsign int od 0 do 225 wystarczy do RGB\n",
        "pixel.dtype"
      ],
      "execution_count": 63,
      "outputs": [
        {
          "output_type": "execute_result",
          "data": {
            "text/plain": [
              "dtype('uint8')"
            ]
          },
          "metadata": {
            "tags": []
          },
          "execution_count": 63
        }
      ]
    },
    {
      "cell_type": "markdown",
      "metadata": {
        "id": "5LNr0bOpdPWm"
      },
      "source": [
        "#Tworzenie tabli aytomatycznie"
      ]
    },
    {
      "cell_type": "code",
      "metadata": {
        "colab": {
          "base_uri": "https://localhost:8080/"
        },
        "id": "qsbeZITIcnqj",
        "outputId": "92cb57c2-d62b-435f-8d59-276a35480e08"
      },
      "source": [
        "q = np.zeros(shape=(4,10))\n",
        "q"
      ],
      "execution_count": 69,
      "outputs": [
        {
          "output_type": "execute_result",
          "data": {
            "text/plain": [
              "array([[0., 0., 0., 0., 0., 0., 0., 0., 0., 0.],\n",
              "       [0., 0., 0., 0., 0., 0., 0., 0., 0., 0.],\n",
              "       [0., 0., 0., 0., 0., 0., 0., 0., 0., 0.],\n",
              "       [0., 0., 0., 0., 0., 0., 0., 0., 0., 0.]])"
            ]
          },
          "metadata": {
            "tags": []
          },
          "execution_count": 69
        }
      ]
    },
    {
      "cell_type": "code",
      "metadata": {
        "colab": {
          "base_uri": "https://localhost:8080/"
        },
        "id": "gVQSG75Xdd_r",
        "outputId": "b57ff0ff-530c-42d3-a7d5-84cce502d15a"
      },
      "source": [
        "q.dtype #domyślny typ float"
      ],
      "execution_count": 68,
      "outputs": [
        {
          "output_type": "execute_result",
          "data": {
            "text/plain": [
              "dtype('float64')"
            ]
          },
          "metadata": {
            "tags": []
          },
          "execution_count": 68
        }
      ]
    },
    {
      "cell_type": "code",
      "metadata": {
        "colab": {
          "base_uri": "https://localhost:8080/"
        },
        "id": "8dAsk9xRdyGA",
        "outputId": "d0180579-b402-45ff-f79d-68607a1a3f29"
      },
      "source": [
        "r = np.ones(shape=(5,8), dtype = np.uint8)\n",
        "r"
      ],
      "execution_count": 70,
      "outputs": [
        {
          "output_type": "execute_result",
          "data": {
            "text/plain": [
              "array([[1, 1, 1, 1, 1, 1, 1, 1],\n",
              "       [1, 1, 1, 1, 1, 1, 1, 1],\n",
              "       [1, 1, 1, 1, 1, 1, 1, 1],\n",
              "       [1, 1, 1, 1, 1, 1, 1, 1],\n",
              "       [1, 1, 1, 1, 1, 1, 1, 1]], dtype=uint8)"
            ]
          },
          "metadata": {
            "tags": []
          },
          "execution_count": 70
        }
      ]
    },
    {
      "cell_type": "code",
      "metadata": {
        "colab": {
          "base_uri": "https://localhost:8080/"
        },
        "id": "Us9hcatbeUUE",
        "outputId": "f76e8006-8df0-42d6-d13b-1266398d7844"
      },
      "source": [
        "p = np.full(shape=(4,4),fill_value=5, dtype='int')\n",
        "p"
      ],
      "execution_count": 71,
      "outputs": [
        {
          "output_type": "execute_result",
          "data": {
            "text/plain": [
              "array([[5, 5, 5, 5],\n",
              "       [5, 5, 5, 5],\n",
              "       [5, 5, 5, 5],\n",
              "       [5, 5, 5, 5]])"
            ]
          },
          "metadata": {
            "tags": []
          },
          "execution_count": 71
        }
      ]
    },
    {
      "cell_type": "code",
      "metadata": {
        "colab": {
          "base_uri": "https://localhost:8080/"
        },
        "id": "Ll1EZM7xe59P",
        "outputId": "4eab9a15-c0a1-466d-e684-3f5d6d2d6104"
      },
      "source": [
        "np.arange(10)"
      ],
      "execution_count": 73,
      "outputs": [
        {
          "output_type": "execute_result",
          "data": {
            "text/plain": [
              "array([0, 1, 2, 3, 4, 5, 6, 7, 8, 9])"
            ]
          },
          "metadata": {
            "tags": []
          },
          "execution_count": 73
        }
      ]
    },
    {
      "cell_type": "code",
      "metadata": {
        "colab": {
          "base_uri": "https://localhost:8080/"
        },
        "id": "dRF48SGPfINt",
        "outputId": "837ea503-a796-4592-ddf9-40b9aeb365ab"
      },
      "source": [
        "np.arange(1,13,2)"
      ],
      "execution_count": 76,
      "outputs": [
        {
          "output_type": "execute_result",
          "data": {
            "text/plain": [
              "array([ 1,  3,  5,  7,  9, 11])"
            ]
          },
          "metadata": {
            "tags": []
          },
          "execution_count": 76
        }
      ]
    },
    {
      "cell_type": "code",
      "metadata": {
        "colab": {
          "base_uri": "https://localhost:8080/"
        },
        "id": "rrwmE3XJf_By",
        "outputId": "d7437c88-f03e-4620-cf81-27380da296a1"
      },
      "source": [
        "np.arange(start =100, stop=-20, step=-10)"
      ],
      "execution_count": 80,
      "outputs": [
        {
          "output_type": "execute_result",
          "data": {
            "text/plain": [
              "array([100,  90,  80,  70,  60,  50,  40,  30,  20,  10,   0, -10])"
            ]
          },
          "metadata": {
            "tags": []
          },
          "execution_count": 80
        }
      ]
    },
    {
      "cell_type": "code",
      "metadata": {
        "colab": {
          "base_uri": "https://localhost:8080/"
        },
        "id": "mp_gJ246gVhG",
        "outputId": "602b28be-081d-4109-b44e-8808bc22d874"
      },
      "source": [
        "np.arange(start =0, stop=1, step=0.05)"
      ],
      "execution_count": 82,
      "outputs": [
        {
          "output_type": "execute_result",
          "data": {
            "text/plain": [
              "array([0.  , 0.05, 0.1 , 0.15, 0.2 , 0.25, 0.3 , 0.35, 0.4 , 0.45, 0.5 ,\n",
              "       0.55, 0.6 , 0.65, 0.7 , 0.75, 0.8 , 0.85, 0.9 , 0.95])"
            ]
          },
          "metadata": {
            "tags": []
          },
          "execution_count": 82
        }
      ]
    },
    {
      "cell_type": "code",
      "metadata": {
        "colab": {
          "base_uri": "https://localhost:8080/"
        },
        "id": "4TwkcsKnfOSI",
        "outputId": "bdf1fcbc-56e8-4608-9caa-efb135423bc9"
      },
      "source": [
        "range(10)"
      ],
      "execution_count": 77,
      "outputs": [
        {
          "output_type": "execute_result",
          "data": {
            "text/plain": [
              "range(0, 10)"
            ]
          },
          "metadata": {
            "tags": []
          },
          "execution_count": 77
        }
      ]
    },
    {
      "cell_type": "code",
      "metadata": {
        "colab": {
          "base_uri": "https://localhost:8080/"
        },
        "id": "j8juU_4JfkMy",
        "outputId": "081f3457-5fdd-4621-dc2a-dd99dd39c0b5"
      },
      "source": [
        "list(range(10))"
      ],
      "execution_count": 78,
      "outputs": [
        {
          "output_type": "execute_result",
          "data": {
            "text/plain": [
              "[0, 1, 2, 3, 4, 5, 6, 7, 8, 9]"
            ]
          },
          "metadata": {
            "tags": []
          },
          "execution_count": 78
        }
      ]
    },
    {
      "cell_type": "code",
      "metadata": {
        "colab": {
          "base_uri": "https://localhost:8080/"
        },
        "id": "EelNNuP_fnvh",
        "outputId": "7322d230-ce9d-4ab8-e695-6472a7c75b31"
      },
      "source": [
        "np.linspace(start=0, stop=9 , num= 10)"
      ],
      "execution_count": 84,
      "outputs": [
        {
          "output_type": "execute_result",
          "data": {
            "text/plain": [
              "array([0., 1., 2., 3., 4., 5., 6., 7., 8., 9.])"
            ]
          },
          "metadata": {
            "tags": []
          },
          "execution_count": 84
        }
      ]
    },
    {
      "cell_type": "code",
      "metadata": {
        "colab": {
          "base_uri": "https://localhost:8080/"
        },
        "id": "WNiryMfyg2qA",
        "outputId": "1fdc923c-ff6b-47fc-c2e5-16db2b0bdf1d"
      },
      "source": [
        "A = np.arange(15)\n",
        "A"
      ],
      "execution_count": 85,
      "outputs": [
        {
          "output_type": "execute_result",
          "data": {
            "text/plain": [
              "array([ 0,  1,  2,  3,  4,  5,  6,  7,  8,  9, 10, 11, 12, 13, 14])"
            ]
          },
          "metadata": {
            "tags": []
          },
          "execution_count": 85
        }
      ]
    },
    {
      "cell_type": "code",
      "metadata": {
        "colab": {
          "base_uri": "https://localhost:8080/"
        },
        "id": "cIoTWzwlhS89",
        "outputId": "e9bfcc2f-1cd9-427c-d1ee-08f37c93b801"
      },
      "source": [
        "A.reshape((3,5))"
      ],
      "execution_count": 86,
      "outputs": [
        {
          "output_type": "execute_result",
          "data": {
            "text/plain": [
              "array([[ 0,  1,  2,  3,  4],\n",
              "       [ 5,  6,  7,  8,  9],\n",
              "       [10, 11, 12, 13, 14]])"
            ]
          },
          "metadata": {
            "tags": []
          },
          "execution_count": 86
        }
      ]
    },
    {
      "cell_type": "code",
      "metadata": {
        "colab": {
          "base_uri": "https://localhost:8080/"
        },
        "id": "Ao2dWNZ6hYof",
        "outputId": "54b0e634-f407-4a90-a506-3b8f8ff7208f"
      },
      "source": [
        "A.reshape((5,-1)) # 5 wierszy i odpowiednia liczba kolum  -1"
      ],
      "execution_count": 94,
      "outputs": [
        {
          "output_type": "execute_result",
          "data": {
            "text/plain": [
              "array([[ 0,  1,  2],\n",
              "       [ 3,  4,  5],\n",
              "       [ 6,  7,  8],\n",
              "       [ 9, 10, 11],\n",
              "       [12, 13, 14]])"
            ]
          },
          "metadata": {
            "tags": []
          },
          "execution_count": 94
        }
      ]
    },
    {
      "cell_type": "code",
      "metadata": {
        "colab": {
          "base_uri": "https://localhost:8080/"
        },
        "id": "I96ABAsqhupT",
        "outputId": "e6fc6518-cc8c-4006-a59b-420f648c95ce"
      },
      "source": [
        "A.reshape((-1,5))"
      ],
      "execution_count": 95,
      "outputs": [
        {
          "output_type": "execute_result",
          "data": {
            "text/plain": [
              "array([[ 0,  1,  2,  3,  4],\n",
              "       [ 5,  6,  7,  8,  9],\n",
              "       [10, 11, 12, 13, 14]])"
            ]
          },
          "metadata": {
            "tags": []
          },
          "execution_count": 95
        }
      ]
    },
    {
      "cell_type": "markdown",
      "metadata": {
        "id": "lXaBPrK6jEHA"
      },
      "source": [
        "#Podstawowe operacje na tablicach"
      ]
    },
    {
      "cell_type": "code",
      "metadata": {
        "colab": {
          "base_uri": "https://localhost:8080/"
        },
        "id": "vCOkZ_SChxgS",
        "outputId": "edbf65b7-e74b-4a4d-ea1d-cecf73b15b4f"
      },
      "source": [
        "A = np.array([3, 1, 4, 2])\n",
        "B = np.array([3, -1, 3, 2])\n",
        "print(A)\n",
        "print(B)"
      ],
      "execution_count": 96,
      "outputs": [
        {
          "output_type": "stream",
          "text": [
            "[3 1 4 2]\n",
            "[ 3 -1  3  2]\n"
          ],
          "name": "stdout"
        }
      ]
    },
    {
      "cell_type": "code",
      "metadata": {
        "colab": {
          "base_uri": "https://localhost:8080/"
        },
        "id": "wiN59iSljJ2v",
        "outputId": "ca6d90bf-4561-4d33-eebc-284c3a79c544"
      },
      "source": [
        "A + B #aby dodać rozmiar musi się zgadzać "
      ],
      "execution_count": 97,
      "outputs": [
        {
          "output_type": "execute_result",
          "data": {
            "text/plain": [
              "array([6, 0, 7, 4])"
            ]
          },
          "metadata": {
            "tags": []
          },
          "execution_count": 97
        }
      ]
    },
    {
      "cell_type": "code",
      "metadata": {
        "colab": {
          "base_uri": "https://localhost:8080/"
        },
        "id": "rblTfvB_jXnQ",
        "outputId": "ceda2a34-68b0-4f03-e02d-7dc3eeb7b7ae"
      },
      "source": [
        "A / B # druga tablica nie może zawierać zer"
      ],
      "execution_count": 98,
      "outputs": [
        {
          "output_type": "execute_result",
          "data": {
            "text/plain": [
              "array([ 1.        , -1.        ,  1.33333333,  1.        ])"
            ]
          },
          "metadata": {
            "tags": []
          },
          "execution_count": 98
        }
      ]
    },
    {
      "cell_type": "code",
      "metadata": {
        "colab": {
          "base_uri": "https://localhost:8080/"
        },
        "id": "3jDd7W-Ekhou",
        "outputId": "208806f3-416e-4996-ca5a-dc8e594a7728"
      },
      "source": [
        "np.add(A,B)"
      ],
      "execution_count": 104,
      "outputs": [
        {
          "output_type": "execute_result",
          "data": {
            "text/plain": [
              "array([6, 0, 7, 4])"
            ]
          },
          "metadata": {
            "tags": []
          },
          "execution_count": 104
        }
      ]
    },
    {
      "cell_type": "code",
      "metadata": {
        "colab": {
          "base_uri": "https://localhost:8080/"
        },
        "id": "1Xo589ZdkleS",
        "outputId": "171c2aeb-3827-4ef8-c2b2-685c4ee1ff22"
      },
      "source": [
        "np.subtract(A, B)"
      ],
      "execution_count": 105,
      "outputs": [
        {
          "output_type": "execute_result",
          "data": {
            "text/plain": [
              "array([0, 2, 1, 0])"
            ]
          },
          "metadata": {
            "tags": []
          },
          "execution_count": 105
        }
      ]
    },
    {
      "cell_type": "code",
      "metadata": {
        "colab": {
          "base_uri": "https://localhost:8080/"
        },
        "id": "cz4CN4d-kofe",
        "outputId": "fb62b459-0267-41bd-eb5e-b8cbc9814cc9"
      },
      "source": [
        "np.multiply(A, B)"
      ],
      "execution_count": 106,
      "outputs": [
        {
          "output_type": "execute_result",
          "data": {
            "text/plain": [
              "array([ 9, -1, 12,  4])"
            ]
          },
          "metadata": {
            "tags": []
          },
          "execution_count": 106
        }
      ]
    },
    {
      "cell_type": "code",
      "metadata": {
        "colab": {
          "base_uri": "https://localhost:8080/"
        },
        "id": "F5RF7s7wksJ8",
        "outputId": "52077635-4e45-4703-9e4a-ba170b1fe6dc"
      },
      "source": [
        "np.divide(A,B)"
      ],
      "execution_count": 107,
      "outputs": [
        {
          "output_type": "execute_result",
          "data": {
            "text/plain": [
              "array([ 1.        , -1.        ,  1.33333333,  1.        ])"
            ]
          },
          "metadata": {
            "tags": []
          },
          "execution_count": 107
        }
      ]
    },
    {
      "cell_type": "code",
      "metadata": {
        "colab": {
          "base_uri": "https://localhost:8080/"
        },
        "id": "t7YRWww-kvzT",
        "outputId": "d607ea08-16ca-454d-f1af-1f971c996fe8"
      },
      "source": [
        "np.absolute(B) #wartość bezwzględna"
      ],
      "execution_count": 108,
      "outputs": [
        {
          "output_type": "execute_result",
          "data": {
            "text/plain": [
              "array([3, 1, 3, 2])"
            ]
          },
          "metadata": {
            "tags": []
          },
          "execution_count": 108
        }
      ]
    },
    {
      "cell_type": "code",
      "metadata": {
        "colab": {
          "base_uri": "https://localhost:8080/"
        },
        "id": "q3rdKXnxj8ir",
        "outputId": "07ba5767-8595-4ef3-ecc5-23ec47fa7abb"
      },
      "source": [
        "A + 7"
      ],
      "execution_count": 101,
      "outputs": [
        {
          "output_type": "execute_result",
          "data": {
            "text/plain": [
              "array([10,  8, 11,  9])"
            ]
          },
          "metadata": {
            "tags": []
          },
          "execution_count": 101
        }
      ]
    },
    {
      "cell_type": "code",
      "metadata": {
        "colab": {
          "base_uri": "https://localhost:8080/"
        },
        "id": "Xc9RTco1j96T",
        "outputId": "09ea0cc2-b167-4994-c0b5-5b3fb5ce8279"
      },
      "source": [
        "(A +7) + B"
      ],
      "execution_count": 102,
      "outputs": [
        {
          "output_type": "execute_result",
          "data": {
            "text/plain": [
              "array([13,  7, 14, 11])"
            ]
          },
          "metadata": {
            "tags": []
          },
          "execution_count": 102
        }
      ]
    },
    {
      "cell_type": "code",
      "metadata": {
        "colab": {
          "base_uri": "https://localhost:8080/"
        },
        "id": "csMK7SSFkMtS",
        "outputId": "1da9bb93-d49f-4502-8d69-04a9b44c2c20"
      },
      "source": [
        "A + 3*B"
      ],
      "execution_count": 103,
      "outputs": [
        {
          "output_type": "execute_result",
          "data": {
            "text/plain": [
              "array([12, -2, 13,  8])"
            ]
          },
          "metadata": {
            "tags": []
          },
          "execution_count": 103
        }
      ]
    },
    {
      "cell_type": "markdown",
      "metadata": {
        "id": "aBl0FBLVlOSq"
      },
      "source": [
        "### Mnożenie macierzy"
      ]
    },
    {
      "cell_type": "code",
      "metadata": {
        "colab": {
          "base_uri": "https://localhost:8080/"
        },
        "id": "D2bqBTfdkRBQ",
        "outputId": "3f4a28d2-061f-4d5b-f445-4123faa5602c"
      },
      "source": [
        "X = np.array([[1, 3], [-2, 0]])\n",
        "Y = np.array([[6, 0], [-1, 2]])\n",
        "print(X, '\\n')\n",
        "print(Y)"
      ],
      "execution_count": 109,
      "outputs": [
        {
          "output_type": "stream",
          "text": [
            "[[ 1  3]\n",
            " [-2  0]] \n",
            "\n",
            "[[ 6  0]\n",
            " [-1  2]]\n"
          ],
          "name": "stdout"
        }
      ]
    },
    {
      "cell_type": "code",
      "metadata": {
        "colab": {
          "base_uri": "https://localhost:8080/"
        },
        "id": "CyAhwlc7lRrJ",
        "outputId": "af683fa3-fd18-4441-9ec0-9159030665a9"
      },
      "source": [
        "X * Y #mnożenie po elemencie"
      ],
      "execution_count": 110,
      "outputs": [
        {
          "output_type": "execute_result",
          "data": {
            "text/plain": [
              "array([[6, 0],\n",
              "       [2, 0]])"
            ]
          },
          "metadata": {
            "tags": []
          },
          "execution_count": 110
        }
      ]
    },
    {
      "cell_type": "code",
      "metadata": {
        "colab": {
          "base_uri": "https://localhost:8080/"
        },
        "id": "zcbE5Jr3le14",
        "outputId": "673dc2ba-7b23-48ff-f3cf-437a739e5a20"
      },
      "source": [
        "np.dot(X,Y) #mnożenie macierzowe - wiersz razy kolumna - licza wierszy Y musi być = liczba kolum X"
      ],
      "execution_count": 111,
      "outputs": [
        {
          "output_type": "execute_result",
          "data": {
            "text/plain": [
              "array([[  3,   6],\n",
              "       [-12,   0]])"
            ]
          },
          "metadata": {
            "tags": []
          },
          "execution_count": 111
        }
      ]
    },
    {
      "cell_type": "markdown",
      "metadata": {
        "id": "7GuQTYtHpz9P"
      },
      "source": [
        "###Jak mnożymy macierze:\n",
        "####(1 w 1 k)                       ; (1 wiersz 2 kolumna)\n",
        "(1 * 6 ) + ( 3 * -1) = 3.     ; (1 * 0) + (3 * 2) = 6\n",
        "####(2 w 1k )                      ; (2 wiersz 2 kolumna) \n",
        "(-2 * 6 ) + (0 * -1) =  -12 ; (-2 *0 ) + (0 * 2 ) =0"
      ]
    },
    {
      "cell_type": "code",
      "metadata": {
        "colab": {
          "base_uri": "https://localhost:8080/"
        },
        "id": "hX_TCoitl0B2",
        "outputId": "79dfcd62-6841-43e5-f703-ae66ec59adf4"
      },
      "source": [
        "X.dot(Y) #pomnóż macierz X przez macierz Y"
      ],
      "execution_count": 112,
      "outputs": [
        {
          "output_type": "execute_result",
          "data": {
            "text/plain": [
              "array([[  3,   6],\n",
              "       [-12,   0]])"
            ]
          },
          "metadata": {
            "tags": []
          },
          "execution_count": 112
        }
      ]
    },
    {
      "cell_type": "code",
      "metadata": {
        "colab": {
          "base_uri": "https://localhost:8080/"
        },
        "id": "iaXl8D7UmPy1",
        "outputId": "644f1add-eefa-4eee-f70a-b4ccb8ebd21b"
      },
      "source": [
        "Y.dot(X) # mnożenie macierzy nie jest przemienne "
      ],
      "execution_count": 113,
      "outputs": [
        {
          "output_type": "execute_result",
          "data": {
            "text/plain": [
              "array([[ 6, 18],\n",
              "       [-5, -3]])"
            ]
          },
          "metadata": {
            "tags": []
          },
          "execution_count": 113
        }
      ]
    },
    {
      "cell_type": "code",
      "metadata": {
        "colab": {
          "base_uri": "https://localhost:8080/"
        },
        "id": "tUqRLCaFmaJ1",
        "outputId": "9ac64d45-fa4b-4002-e4e2-9abd4752e22c"
      },
      "source": [
        "Y @ X #pomnóż macierz Y przez macierz X"
      ],
      "execution_count": 114,
      "outputs": [
        {
          "output_type": "execute_result",
          "data": {
            "text/plain": [
              "array([[ 6, 18],\n",
              "       [-5, -3]])"
            ]
          },
          "metadata": {
            "tags": []
          },
          "execution_count": 114
        }
      ]
    },
    {
      "cell_type": "markdown",
      "metadata": {
        "id": "OR4XIuR8rIeV"
      },
      "source": [
        "#Generowani liczby pseudolosowych"
      ]
    },
    {
      "cell_type": "code",
      "metadata": {
        "id": "MJia5BiCrHdt"
      },
      "source": [
        "np.random.seed(0) #ustawiamy ziarno losowe, jeżeli ziarno się nie zmienia wynik losowania zawsze będzie taki sam!"
      ],
      "execution_count": 116,
      "outputs": []
    },
    {
      "cell_type": "code",
      "metadata": {
        "colab": {
          "base_uri": "https://localhost:8080/"
        },
        "id": "VT0kkWrXqOY6",
        "outputId": "a82080ea-8e21-4430-bd4d-ed4b761923f3"
      },
      "source": [
        "np.random.randn()  # losowa wartość z rozkładu normalnego"
      ],
      "execution_count": 117,
      "outputs": [
        {
          "output_type": "execute_result",
          "data": {
            "text/plain": [
              "1.764052345967664"
            ]
          },
          "metadata": {
            "tags": []
          },
          "execution_count": 117
        }
      ]
    },
    {
      "cell_type": "code",
      "metadata": {
        "colab": {
          "base_uri": "https://localhost:8080/"
        },
        "id": "jagCACx7r2Xf",
        "outputId": "c7fae334-49cb-4676-e5ea-933a0f8d1e2c"
      },
      "source": [
        "np.random.randn(10)  # 10 losowych wartości z rozkładu normalnego standardowego czyli wartość 0 odchylenie 1 "
      ],
      "execution_count": 119,
      "outputs": [
        {
          "output_type": "execute_result",
          "data": {
            "text/plain": [
              "array([ 1.45427351,  0.76103773,  0.12167502,  0.44386323,  0.33367433,\n",
              "        1.49407907, -0.20515826,  0.3130677 , -0.85409574, -2.55298982])"
            ]
          },
          "metadata": {
            "tags": []
          },
          "execution_count": 119
        }
      ]
    },
    {
      "cell_type": "code",
      "metadata": {
        "colab": {
          "base_uri": "https://localhost:8080/"
        },
        "id": "fpwDoUzosDWN",
        "outputId": "57e182d1-3710-4350-ff76-1a98072339f2"
      },
      "source": [
        "np.random.randn(10,4) #kolumny - zmienne, wiersze - próbki"
      ],
      "execution_count": 120,
      "outputs": [
        {
          "output_type": "execute_result",
          "data": {
            "text/plain": [
              "array([[ 0.6536186 ,  0.8644362 , -0.74216502,  2.26975462],\n",
              "       [-1.45436567,  0.04575852, -0.18718385,  1.53277921],\n",
              "       [ 1.46935877,  0.15494743,  0.37816252, -0.88778575],\n",
              "       [-1.98079647, -0.34791215,  0.15634897,  1.23029068],\n",
              "       [ 1.20237985, -0.38732682, -0.30230275, -1.04855297],\n",
              "       [-1.42001794, -1.70627019,  1.9507754 , -0.50965218],\n",
              "       [-0.4380743 , -1.25279536,  0.77749036, -1.61389785],\n",
              "       [-0.21274028, -0.89546656,  0.3869025 , -0.51080514],\n",
              "       [-1.18063218, -0.02818223,  0.42833187,  0.06651722],\n",
              "       [ 0.3024719 , -0.63432209, -0.36274117, -0.67246045]])"
            ]
          },
          "metadata": {
            "tags": []
          },
          "execution_count": 120
        }
      ]
    },
    {
      "cell_type": "code",
      "metadata": {
        "colab": {
          "base_uri": "https://localhost:8080/"
        },
        "id": "xCqYrNXosWvW",
        "outputId": "72c997ad-4cc4-4b15-981d-63919a41e7e3"
      },
      "source": [
        "np.random.rand() #rozkład jednostajny na przedziale"
      ],
      "execution_count": 121,
      "outputs": [
        {
          "output_type": "execute_result",
          "data": {
            "text/plain": [
              "0.317983179393976"
            ]
          },
          "metadata": {
            "tags": []
          },
          "execution_count": 121
        }
      ]
    },
    {
      "cell_type": "code",
      "metadata": {
        "id": "6M96nSfqtncj"
      },
      "source": [
        ""
      ],
      "execution_count": null,
      "outputs": []
    }
  ]
}